{
 "cells": [
  {
   "cell_type": "markdown",
   "metadata": {},
   "source": [
    "### Fashion MNIST experiment "
   ]
  },
  {
   "cell_type": "code",
   "execution_count": 35,
   "metadata": {},
   "outputs": [],
   "source": [
    "import numpy as np\n",
    "\n",
    "from keras.layers import Dense, Activation, Flatten\n",
    "from keras.models import Sequential\n",
    "from keras.layers import BatchNormalization, Dropout\n",
    "\n",
    "import matplotlib.pyplot as plt\n",
    "\n",
    "from utils import mnist_reader\n",
    "\n",
    "%matplotlib inline"
   ]
  },
  {
   "cell_type": "markdown",
   "metadata": {},
   "source": [
    "#### 1), load data "
   ]
  },
  {
   "cell_type": "code",
   "execution_count": 36,
   "metadata": {},
   "outputs": [],
   "source": [
    "X_train, y_train = mnist_reader.load_mnist('data/fashion', kind='train')\n",
    "X_test, y_test = mnist_reader.load_mnist('data/fashion', kind='t10k')"
   ]
  },
  {
   "cell_type": "code",
   "execution_count": 37,
   "metadata": {},
   "outputs": [],
   "source": [
    "X_train = (X_train.reshape((X_train.shape[0], 28, 28, 1)) / 255.0).astype(np.float32)\n",
    "X_test = (X_test.reshape((X_test.shape[0], 28, 28, 1)) / 255.0).astype(np.float32)"
   ]
  },
  {
   "cell_type": "code",
   "execution_count": 41,
   "metadata": {
    "collapsed": true
   },
   "outputs": [],
   "source": [
    "def id_to_onehot(y, size):\n",
    "    onehot = np.zeros(shape=(y.shape[0], size))\n",
    "    for i in range(0, y.shape[0]):\n",
    "        onehot[i][y[i]] = 1\n",
    "    return onehot\n",
    "\n",
    "def show_img(img, zoom=4, dpi=80):\n",
    "    w = img.shape[0]\n",
    "    h = img.shape[1]\n",
    "    plt.figure(figsize=(w*zoom/dpi, h*zoom/dpi), dpi=dpi)\n",
    "    plt.axis('off')\n",
    "    plt.imshow(img, cmap=plt.get_cmap('gray'))\n",
    "    plt.show()\n",
    "    return"
   ]
  },
  {
   "cell_type": "code",
   "execution_count": 45,
   "metadata": {},
   "outputs": [
    {
     "data": {
      "image/png": "[encoded data removed]",
      "text/plain": [
       "<matplotlib.figure.Figure at 0x125072eb8>"
      ]
     },
     "metadata": {},
     "output_type": "display_data"
    }
   ],
   "source": [
    "show_img(X_train[234].reshape(28, 28))"
   ]
  },
  {
   "cell_type": "code",
   "execution_count": 5,
   "metadata": {
    "collapsed": true
   },
   "outputs": [],
   "source": [
    "y_train = id_to_onehot(y_train, 10)\n",
    "y_test = id_to_onehot(y_test, 10)"
   ]
  },
  {
   "cell_type": "markdown",
   "metadata": {},
   "source": [
    "#### 2), build model "
   ]
  },
  {
   "cell_type": "code",
   "execution_count": 27,
   "metadata": {},
   "outputs": [
    {
     "name": "stdout",
     "output_type": "stream",
     "text": [
      "_________________________________________________________________\n",
      "Layer (type)                 Output Shape              Param #   \n",
      "=================================================================\n",
      "flatten_4 (Flatten)          (None, 784)               0         \n",
      "_________________________________________________________________\n",
      "dense_7 (Dense)              (None, 800)               628000    \n",
      "_________________________________________________________________\n",
      "batch_normalization_1 (Batch (None, 800)               3200      \n",
      "_________________________________________________________________\n",
      "activation_7 (Activation)    (None, 800)               0         \n",
      "_________________________________________________________________\n",
      "dense_8 (Dense)              (None, 10)                8010      \n",
      "_________________________________________________________________\n",
      "batch_normalization_2 (Batch (None, 10)                40        \n",
      "_________________________________________________________________\n",
      "activation_8 (Activation)    (None, 10)                0         \n",
      "=================================================================\n",
      "Total params: 639,250\n",
      "Trainable params: 637,630\n",
      "Non-trainable params: 1,620\n",
      "_________________________________________________________________\n"
     ]
    }
   ],
   "source": [
    "m = Sequential()\n",
    "\n",
    "m.add(Flatten(input_shape=(28, 28, 1)))\n",
    "m.add(Dense(800))\n",
    "m.add(BatchNormalization())\n",
    "m.add(Activation('relu'))\n",
    "m.add(Dense(10))\n",
    "m.add(BatchNormalization())\n",
    "m.add(Activation('softmax'))\n",
    "\n",
    "m.summary()"
   ]
  },
  {
   "cell_type": "code",
   "execution_count": 28,
   "metadata": {},
   "outputs": [
    {
     "name": "stdout",
     "output_type": "stream",
     "text": [
      "Train on 60000 samples, validate on 10000 samples\n",
      "Epoch 1/10\n",
      "60000/60000 [==============================] - 25s - loss: 0.6269 - acc: 0.8200 - val_loss: 0.4659 - val_acc: 0.8452\n",
      "Epoch 2/10\n",
      "60000/60000 [==============================] - 25s - loss: 0.4476 - acc: 0.8545 - val_loss: 0.3759 - val_acc: 0.8780\n",
      "Epoch 3/10\n",
      "60000/60000 [==============================] - 24s - loss: 0.3841 - acc: 0.8697 - val_loss: 0.3828 - val_acc: 0.8641\n",
      "Epoch 4/10\n",
      "60000/60000 [==============================] - 25s - loss: 0.3445 - acc: 0.8805 - val_loss: 0.3434 - val_acc: 0.8809\n",
      "Epoch 5/10\n",
      "60000/60000 [==============================] - 24s - loss: 0.3173 - acc: 0.8906 - val_loss: 0.3086 - val_acc: 0.8896\n",
      "Epoch 6/10\n",
      "60000/60000 [==============================] - 24s - loss: 0.2938 - acc: 0.8971 - val_loss: 0.3512 - val_acc: 0.8785\n",
      "Epoch 7/10\n",
      "60000/60000 [==============================] - 24s - loss: 0.2761 - acc: 0.9032 - val_loss: 0.3117 - val_acc: 0.8926\n",
      "Epoch 8/10\n",
      "60000/60000 [==============================] - 24s - loss: 0.2567 - acc: 0.9104 - val_loss: 0.3049 - val_acc: 0.8911\n",
      "Epoch 9/10\n",
      "60000/60000 [==============================] - 25s - loss: 0.2456 - acc: 0.9129 - val_loss: 0.3089 - val_acc: 0.8882\n",
      "Epoch 10/10\n",
      "60000/60000 [==============================] - 25s - loss: 0.2314 - acc: 0.9170 - val_loss: 0.3139 - val_acc: 0.8931\n"
     ]
    },
    {
     "data": {
      "text/plain": [
       "<keras.callbacks.History at 0x11f419550>"
      ]
     },
     "execution_count": 28,
     "metadata": {},
     "output_type": "execute_result"
    }
   ],
   "source": [
    "m.compile(optimizer='Adam',\n",
    "          loss='categorical_crossentropy',\n",
    "          metrics=['accuracy'])\n",
    "\n",
    "m.fit(X_train,\n",
    "      y_train,\n",
    "      validation_data=(X_test, y_test),\n",
    "      batch_size=32,\n",
    "      epochs=10)"
   ]
  },
  {
   "cell_type": "code",
   "execution_count": 31,
   "metadata": {},
   "outputs": [],
   "source": [
    "evaluation_test = m.evaluate(X_train, y_train, verbose=0)"
   ]
  },
  {
   "cell_type": "code",
   "execution_count": 34,
   "metadata": {},
   "outputs": [
    {
     "name": "stdout",
     "output_type": "stream",
     "text": [
      "loss: 0.2062406129896641, accuracy: 0.9278666666666666\n"
     ]
    }
   ],
   "source": [
    "print('loss: {0}, accuracy: {1}'.format(evaluation_test[0], evaluation_test[1]))"
   ]
  },
  {
   "cell_type": "code",
   "execution_count": null,
   "metadata": {
    "collapsed": true
   },
   "outputs": [],
   "source": []
  }
 ],
 "metadata": {
  "kernelspec": {
   "display_name": "Python 3",
   "language": "python",
   "name": "python3"
  },
  "language_info": {
   "codemirror_mode": {
    "name": "ipython",
    "version": 3
   },
   "file_extension": ".py",
   "mimetype": "text/x-python",
   "name": "python",
   "nbconvert_exporter": "python",
   "pygments_lexer": "ipython3",
   "version": "3.6.1"
  }
 },
 "nbformat": 4,
 "nbformat_minor": 2
}
