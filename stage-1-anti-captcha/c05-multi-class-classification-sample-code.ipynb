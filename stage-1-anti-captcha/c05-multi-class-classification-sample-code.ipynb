{
 "cells": [
  {
   "cell_type": "code",
   "execution_count": 1,
   "metadata": {
    "collapsed": true
   },
   "outputs": [],
   "source": [
    "import numpy as np\n",
    "import models as ml"
   ]
  },
  {
   "cell_type": "code",
   "execution_count": 2,
   "metadata": {
    "collapsed": true
   },
   "outputs": [],
   "source": [
    "feature_size = 2\n",
    "class_cnt = 3\n",
    "sample_cnt = 4"
   ]
  },
  {
   "cell_type": "code",
   "execution_count": 3,
   "metadata": {
    "collapsed": true
   },
   "outputs": [],
   "source": [
    "x = np.random.randn(sample_cnt*feature_size).reshape((sample_cnt, feature_size))\n",
    "y = np.array([1 if r>0.5 else 0 for r in np.random.randn(sample_cnt*class_cnt)]).reshape((sample_cnt, class_cnt))\n",
    "w = np.random.randn(feature_size*class_cnt).reshape((feature_size, class_cnt))\n",
    "b = np.random.randn(class_cnt).reshape((1, class_cnt))"
   ]
  },
  {
   "cell_type": "code",
   "execution_count": 4,
   "metadata": {},
   "outputs": [
    {
     "data": {
      "text/plain": [
       "array([[ 2.01064079,  1.73415377],\n",
       "       [ 0.58242553, -0.2330557 ],\n",
       "       [-1.78161554,  0.90050094],\n",
       "       [-0.83769506,  0.78734582]])"
      ]
     },
     "execution_count": 4,
     "metadata": {},
     "output_type": "execute_result"
    }
   ],
   "source": [
    "x"
   ]
  },
  {
   "cell_type": "code",
   "execution_count": 5,
   "metadata": {},
   "outputs": [
    {
     "data": {
      "text/plain": [
       "array([[1, 0, 0],\n",
       "       [1, 0, 1],\n",
       "       [1, 1, 0],\n",
       "       [0, 0, 0]])"
      ]
     },
     "execution_count": 5,
     "metadata": {},
     "output_type": "execute_result"
    }
   ],
   "source": [
    "y"
   ]
  },
  {
   "cell_type": "code",
   "execution_count": 6,
   "metadata": {},
   "outputs": [
    {
     "data": {
      "text/plain": [
       "array([[ 0.24278564, -0.02860119, -0.24494274],\n",
       "       [ 0.33082995,  1.33482475, -0.92898523]])"
      ]
     },
     "execution_count": 6,
     "metadata": {},
     "output_type": "execute_result"
    }
   ],
   "source": [
    "w"
   ]
  },
  {
   "cell_type": "code",
   "execution_count": 7,
   "metadata": {},
   "outputs": [
    {
     "data": {
      "text/plain": [
       "array([[-1.4099169, -1.0210776, -1.6109984]])"
      ]
     },
     "execution_count": 7,
     "metadata": {},
     "output_type": "execute_result"
    }
   ],
   "source": [
    "b"
   ]
  },
  {
   "cell_type": "code",
   "execution_count": 8,
   "metadata": {},
   "outputs": [
    {
     "name": "stdout",
     "output_type": "stream",
     "text": [
      "epoch 0, cost 0.8253937042570428\n",
      "epoch 1, cost 0.820536618882293\n",
      "epoch 2, cost 0.8156896576434965\n",
      "epoch 3, cost 0.8108529726361228\n",
      "epoch 4, cost 0.8060267202829369\n",
      "epoch 5, cost 0.801211061419453\n",
      "epoch 6, cost 0.7964061613783894\n",
      "epoch 7, cost 0.7916121900728901\n",
      "epoch 8, cost 0.7868293220782547\n",
      "epoch 9, cost 0.7820577367119063\n"
     ]
    }
   ],
   "source": [
    "w, b = ml.create_parameters(2, 3)\n",
    "\n",
    "for epoch in range(0, 10):\n",
    "    h = ml.softmax_regression_model(x, w, b)\n",
    "    dw, db = ml.crossentropy_cost_dev(x, y, h)\n",
    "    w, b = ml.gd_update(w, b, dw, db, lr=0.01)\n",
    "    \n",
    "    cost = ml.crossentropy_cost(h, y)\n",
    "    print(\"epoch {0}, cost {1}\".format(epoch, cost))"
   ]
  },
  {
   "cell_type": "code",
   "execution_count": null,
   "metadata": {
    "collapsed": true
   },
   "outputs": [],
   "source": []
  }
 ],
 "metadata": {
  "kernelspec": {
   "display_name": "Python 3",
   "language": "python",
   "name": "python3"
  },
  "language_info": {
   "codemirror_mode": {
    "name": "ipython",
    "version": 3
   },
   "file_extension": ".py",
   "mimetype": "text/x-python",
   "name": "python",
   "nbconvert_exporter": "python",
   "pygments_lexer": "ipython3",
   "version": "3.6.1"
  }
 },
 "nbformat": 4,
 "nbformat_minor": 2
}
