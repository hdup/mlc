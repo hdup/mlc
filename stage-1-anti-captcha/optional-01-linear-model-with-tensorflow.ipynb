{
 "cells": [
  {
   "cell_type": "markdown",
   "metadata": {},
   "source": [
    "## Play linear model by using tensorflow\n",
    "\n",
    "Author: hdup  \n",
    "My contact info:  \n",
    "hdup [huangdan@youhujia.com](mailto:huangdan@youhujia.com)  \n",
    "evitself [evitself@gmail.com](mailto:evitself@gmail.com)"
   ]
  },
  {
   "cell_type": "code",
   "execution_count": 1,
   "metadata": {
    "collapsed": true
   },
   "outputs": [],
   "source": [
    "import os\n",
    "import numpy as np\n",
    "import cv2\n",
    "import matplotlib.pyplot as plt\n",
    "import utils\n",
    "import tensorflow as tf\n",
    "\n",
    "%matplotlib inline"
   ]
  },
  {
   "cell_type": "markdown",
   "metadata": {},
   "source": [
    "### Build a model by compiling a computation graph with tensorflow\n",
    "\n",
    "**Note:**  \n",
    "*Saying in a simple way, tensorflow is a distributed computation graph framework developed by google.*   \n",
    "*Keep in mind, in this computation graph, nodes are operations while edges are tensors* \n"
   ]
  },
  {
   "cell_type": "markdown",
   "metadata": {},
   "source": [
    "### Let's begin with some simple operations"
   ]
  },
  {
   "cell_type": "markdown",
   "metadata": {},
   "source": [
    "#### 1), define some constants"
   ]
  },
  {
   "cell_type": "code",
   "execution_count": 2,
   "metadata": {
    "collapsed": true
   },
   "outputs": [],
   "source": [
    "a = tf.constant(5.)\n",
    "b = tf.constant(1.2345)"
   ]
  },
  {
   "cell_type": "markdown",
   "metadata": {},
   "source": [
    "#### 2), basic ops within a tf session"
   ]
  },
  {
   "cell_type": "code",
   "execution_count": 3,
   "metadata": {},
   "outputs": [
    {
     "name": "stdout",
     "output_type": "stream",
     "text": [
      "a=5.0, b=1.2345000505447388\n",
      "a+b=6.234499931335449\n",
      "a-b=3.765500068664551\n",
      "a*b=6.172500133514404\n",
      "a/b=4.050222396850586\n"
     ]
    }
   ],
   "source": [
    "with tf.Session() as sess:\n",
    "    print('a={0}, b={1}'.format(sess.run(a), sess.run(b)))\n",
    "    print('a+b={0}'.format(sess.run(a+b)))\n",
    "    print('a-b={0}'.format(sess.run(a-b)))\n",
    "    print('a*b={0}'.format(sess.run(a*b)))\n",
    "    print('a/b={0}'.format(sess.run(a/b)))"
   ]
  },
  {
   "cell_type": "markdown",
   "metadata": {},
   "source": [
    "#### 3), define some placeholder which is actually a tensor container"
   ]
  },
  {
   "cell_type": "code",
   "execution_count": 4,
   "metadata": {
    "collapsed": true
   },
   "outputs": [],
   "source": [
    "a = tf.placeholder(dtype=tf.float32)\n",
    "b = tf.placeholder(dtype=tf.float32)"
   ]
  },
  {
   "cell_type": "markdown",
   "metadata": {},
   "source": [
    "#### 4), then we define some tensor operations"
   ]
  },
  {
   "cell_type": "code",
   "execution_count": 5,
   "metadata": {
    "collapsed": true
   },
   "outputs": [],
   "source": [
    "op_add = tf.add(a, b)\n",
    "op_sub = tf.subtract(a, b)\n",
    "op_mul = tf.multiply(a, b)\n",
    "op_div = tf.divide(a, b)"
   ]
  },
  {
   "cell_type": "markdown",
   "metadata": {},
   "source": [
    "#### 5), launch these operations"
   ]
  },
  {
   "cell_type": "code",
   "execution_count": 6,
   "metadata": {},
   "outputs": [
    {
     "name": "stdout",
     "output_type": "stream",
     "text": [
      "a+b=1.5\n",
      "a-b=0.5\n",
      "a*b=0.5\n",
      "a/b=2.0\n"
     ]
    }
   ],
   "source": [
    "with tf.Session() as sess:\n",
    "    print('a+b={0}'.format(sess.run(op_add, feed_dict={a: 1.0, b:0.5})))\n",
    "    print('a-b={0}'.format(sess.run(op_sub, feed_dict={a: 1.0, b:0.5})))\n",
    "    print('a*b={0}'.format(sess.run(op_mul, feed_dict={a: 1.0, b:0.5})))\n",
    "    print('a/b={0}'.format(sess.run(op_div, feed_dict={a: 1.0, b:0.5})))"
   ]
  },
  {
   "cell_type": "markdown",
   "metadata": {},
   "source": [
    "#### 6), let's see how to do matrix operations"
   ]
  },
  {
   "cell_type": "code",
   "execution_count": 7,
   "metadata": {
    "collapsed": true
   },
   "outputs": [],
   "source": [
    "a = np.array([[1.0, 0.5]], dtype=np.float32)\n",
    "b = np.array([[0.2, 0.3]], dtype=np.float32)"
   ]
  },
  {
   "cell_type": "code",
   "execution_count": 8,
   "metadata": {
    "collapsed": true
   },
   "outputs": [],
   "source": [
    "mat1 = tf.constant(a)\n",
    "mat2 = tf.constant(b)"
   ]
  },
  {
   "cell_type": "code",
   "execution_count": 9,
   "metadata": {
    "collapsed": true
   },
   "outputs": [],
   "source": [
    "mat_mul1 = tf.matmul(mat1, mat2, transpose_b=True)\n",
    "mat_mul2 = tf.matmul(mat1, mat2, transpose_a=True)\n",
    "mat_add  = tf.add(mat1, mat2)\n",
    "mat_sub  = tf.subtract(mat1, mat2)\n",
    "mat_elemmul = tf.multiply(mat1, mat2)"
   ]
  },
  {
   "cell_type": "code",
   "execution_count": 10,
   "metadata": {},
   "outputs": [
    {
     "name": "stdout",
     "output_type": "stream",
     "text": [
      "1), result is [[ 0.35000002]], shape is (1, 1)\n",
      "2), result is [[ 0.2         0.30000001]\n",
      " [ 0.1         0.15000001]], shape is (2, 2)\n",
      "3), mat_a + mat_b: result is [[ 1.20000005  0.80000001]], shape is (1, 2)\n",
      "4), mat_a - mat_b: result is [[ 0.80000001  0.19999999]], shape is (1, 2)\n",
      "5), mat_a .* mat_b: result is [[ 0.2         0.15000001]], shape is (1, 2)\n"
     ]
    }
   ],
   "source": [
    "with tf.Session() as sess:\n",
    "    dot_product1 = sess.run(mat_mul1)\n",
    "    dot_product2 = sess.run(mat_mul2)\n",
    "    add_ret = sess.run(mat_add)\n",
    "    sub_ret = sess.run(mat_sub)\n",
    "    elm_ret = sess.run(mat_elemmul)\n",
    "    print('1), result is {0}, shape is {1}'.format(dot_product1, dot_product1.shape))\n",
    "    print('2), result is {0}, shape is {1}'.format(dot_product2, dot_product2.shape))\n",
    "    print('3), mat_a + mat_b: result is {0}, shape is {1}'.format(add_ret, add_ret.shape))\n",
    "    print('4), mat_a - mat_b: result is {0}, shape is {1}'.format(sub_ret, sub_ret.shape))\n",
    "    print('5), mat_a .* mat_b: result is {0}, shape is {1}'.format(elm_ret, elm_ret.shape))"
   ]
  },
  {
   "cell_type": "markdown",
   "metadata": {},
   "source": [
    "### Let's play with linear regression"
   ]
  },
  {
   "cell_type": "markdown",
   "metadata": {},
   "source": [
    "#### Prepare sample data"
   ]
  },
  {
   "cell_type": "code",
   "execution_count": 11,
   "metadata": {},
   "outputs": [
    {
     "name": "stdout",
     "output_type": "stream",
     "text": [
      "(100, 1)\n"
     ]
    }
   ],
   "source": [
    "sample_cnt = 100\n",
    "\n",
    "train_X = np.linspace(-3.0, 3.0, num=sample_cnt, dtype=np.float32).reshape((sample_cnt, 1))\n",
    "train_y = train_X * 0.375 + 1.1\n",
    "\n",
    "print(train_X.shape)"
   ]
  },
  {
   "cell_type": "markdown",
   "metadata": {},
   "source": [
    "### Implement with tensorflow"
   ]
  },
  {
   "cell_type": "markdown",
   "metadata": {},
   "source": [
    "#### 1), model inputs"
   ]
  },
  {
   "cell_type": "code",
   "execution_count": 12,
   "metadata": {
    "collapsed": true
   },
   "outputs": [],
   "source": [
    "X = tf.placeholder(dtype=tf.float32)\n",
    "y = tf.placeholder(dtype=tf.float32)"
   ]
  },
  {
   "cell_type": "markdown",
   "metadata": {},
   "source": [
    "#### 2), mode parameters\n",
    "`IMPORTANT NOTE: Variable is trainable by default`"
   ]
  },
  {
   "cell_type": "code",
   "execution_count": 13,
   "metadata": {
    "collapsed": true
   },
   "outputs": [],
   "source": [
    "W = tf.Variable(tf.random_normal((1,)), name='weights')\n",
    "b = tf.Variable(tf.random_normal((1,)), name='bias')"
   ]
  },
  {
   "cell_type": "markdown",
   "metadata": {},
   "source": [
    "#### 3), build model"
   ]
  },
  {
   "cell_type": "code",
   "execution_count": 14,
   "metadata": {
    "collapsed": true
   },
   "outputs": [],
   "source": [
    "# Linear function\n",
    "h = tf.add(tf.multiply(X, W), b)\n",
    "\n",
    "# MSE cost function\n",
    "diff = h - y\n",
    "cost = tf.reduce_sum(tf.multiply(diff, diff)) / (2 * sample_cnt)\n",
    "\n",
    "# GD optimizer\n",
    "lr = 0.01\n",
    "ad = tf.train.AdamOptimizer(learning_rate=lr).minimize(cost)\n",
    "#gd = tf.train.GradientDescentOptimizer(learning_rate=lr).minimize(cost)\n",
    "\n",
    "# initializer\n",
    "init = tf.global_variables_initializer()"
   ]
  },
  {
   "cell_type": "markdown",
   "metadata": {},
   "source": [
    "#### 4), training"
   ]
  },
  {
   "cell_type": "code",
   "execution_count": 15,
   "metadata": {
    "scrolled": false
   },
   "outputs": [
    {
     "name": "stdout",
     "output_type": "stream",
     "text": [
      "epoch: 100, cost: 0.4165394604206085, W: [ 0.35244495], b: [ 0.1881218]\n",
      "epoch: 200, cost: 0.06460896134376526, W: [ 0.37504712], b: [ 0.74053109]\n",
      "epoch: 300, cost: 0.00563318794593215, W: [ 0.37500069], b: [ 0.99385685]\n",
      "epoch: 400, cost: 0.0002670284593477845, W: [ 0.37499997], b: [ 1.07689035]\n",
      "epoch: 500, cost: 6.758462404832244e-06, W: [ 0.37499997], b: [ 1.09632349]\n",
      "epoch: 600, cost: 8.823979413818961e-08, W: [ 0.37499997], b: [ 1.09957993]\n",
      "epoch: 700, cost: 5.571079708666105e-10, W: [ 0.37499997], b: [ 1.09996665]\n",
      "epoch: 800, cost: 1.209734569462828e-12, W: [ 0.37499997], b: [ 1.09999847]\n",
      "epoch: 900, cost: 1.209734569462828e-12, W: [ 0.37499997], b: [ 1.09999847]\n",
      "epoch: 1000, cost: 1.209734569462828e-12, W: [ 0.37499997], b: [ 1.09999847]\n",
      "training finished!\n",
      "final cost: 1.209734569462828e-12, W: [ 0.37499997], b: [ 1.09999847]\n"
     ]
    },
    {
     "data": {
      "image/png": "[encoded data removed]",
      "text/plain": [
       "<matplotlib.figure.Figure at 0x117837a58>"
      ]
     },
     "metadata": {},
     "output_type": "display_data"
    }
   ],
   "source": [
    "with tf.Session() as sess:\n",
    "    # first init all variables\n",
    "    sess.run(init)\n",
    "    \n",
    "    # batch training\n",
    "    for epoch in range(0, 1000):\n",
    "        sess.run(ad, feed_dict={X: train_X, y: train_y})\n",
    "        if (epoch + 1) % 100 == 0:\n",
    "            cur_cost = sess.run(cost, feed_dict={X: train_X, y: train_y})\n",
    "            print('epoch: {0}, cost: {1}, W: {2}, b: {3}'.format(epoch + 1, cur_cost, sess.run(W), sess.run(b)))\n",
    "    \n",
    "    # finish\n",
    "    final_cost = sess.run(cost, feed_dict={X: train_X, y: train_y})\n",
    "    print('training finished!')\n",
    "    print('final cost: {0}, W: {1}, b: {2}'.format(final_cost, sess.run(W), sess.run(b)))\n",
    "    \n",
    "    # then plot some curves\n",
    "    predictions = sess.run(h, feed_dict={X: train_X})\n",
    "    plt.plot(train_X, train_y, 'r+', label='training')\n",
    "    plt.plot(train_X, predictions, 'b--', label='fitted')\n",
    "    plt.grid(True)\n",
    "    plt.legend()\n",
    "    plt.show()"
   ]
  },
  {
   "cell_type": "code",
   "execution_count": null,
   "metadata": {
    "collapsed": true
   },
   "outputs": [],
   "source": []
  }
 ],
 "metadata": {
  "anaconda-cloud": {},
  "kernelspec": {
   "display_name": "Python 3",
   "language": "python",
   "name": "python3"
  },
  "language_info": {
   "codemirror_mode": {
    "name": "ipython",
    "version": 3
   },
   "file_extension": ".py",
   "mimetype": "text/x-python",
   "name": "python",
   "nbconvert_exporter": "python",
   "pygments_lexer": "ipython3",
   "version": "3.6.1"
  }
 },
 "nbformat": 4,
 "nbformat_minor": 1
}
