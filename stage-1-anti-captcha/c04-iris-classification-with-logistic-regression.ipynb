{
 "cells": [
  {
   "cell_type": "markdown",
   "metadata": {},
   "source": [
    "## Iris Classification with Logistic Regression"
   ]
  },
  {
   "cell_type": "code",
   "execution_count": 1,
   "metadata": {
    "collapsed": true
   },
   "outputs": [],
   "source": [
    "import numpy as np\n",
    "import pandas as pd\n",
    "import matplotlib.pyplot as plt\n",
    "\n",
    "from models import linear_model, logistic_model, log_cost, log_cost_dev, gd_update\n",
    "from models import binary_confusion_matrix, std_normalize, binary_accuracy, create_parameters, data_normalize\n",
    "from sklearn.model_selection import train_test_split\n",
    "\n",
    "%matplotlib inline"
   ]
  },
  {
   "cell_type": "markdown",
   "metadata": {},
   "source": [
    "#### 1), prepare data "
   ]
  },
  {
   "cell_type": "code",
   "execution_count": 2,
   "metadata": {},
   "outputs": [
    {
     "name": "stdout",
     "output_type": "stream",
     "text": [
      "<class 'pandas.core.frame.DataFrame'>\n",
      "RangeIndex: 150 entries, 0 to 149\n",
      "Data columns (total 6 columns):\n",
      "Id               150 non-null int64\n",
      "SepalLengthCm    150 non-null float64\n",
      "SepalWidthCm     150 non-null float64\n",
      "PetalLengthCm    150 non-null float64\n",
      "PetalWidthCm     150 non-null float64\n",
      "Species          150 non-null object\n",
      "dtypes: float64(4), int64(1), object(1)\n",
      "memory usage: 7.1+ KB\n"
     ]
    }
   ],
   "source": [
    "df = pd.read_csv('./data/iris.csv')\n",
    "df.info()"
   ]
  },
  {
   "cell_type": "code",
   "execution_count": 3,
   "metadata": {},
   "outputs": [
    {
     "data": {
      "text/html": [
       "<div>\n",
       "<style>\n",
       "    .dataframe thead tr:only-child th {\n",
       "        text-align: right;\n",
       "    }\n",
       "\n",
       "    .dataframe thead th {\n",
       "        text-align: left;\n",
       "    }\n",
       "\n",
       "    .dataframe tbody tr th {\n",
       "        vertical-align: top;\n",
       "    }\n",
       "</style>\n",
       "<table border=\"1\" class=\"dataframe\">\n",
       "  <thead>\n",
       "    <tr style=\"text-align: right;\">\n",
       "      <th></th>\n",
       "      <th>SepalLengthCm</th>\n",
       "      <th>SepalWidthCm</th>\n",
       "      <th>PetalLengthCm</th>\n",
       "      <th>PetalWidthCm</th>\n",
       "      <th>IsSetosa</th>\n",
       "    </tr>\n",
       "  </thead>\n",
       "  <tbody>\n",
       "    <tr>\n",
       "      <th>0</th>\n",
       "      <td>5.1</td>\n",
       "      <td>3.5</td>\n",
       "      <td>1.4</td>\n",
       "      <td>0.2</td>\n",
       "      <td>1.0</td>\n",
       "    </tr>\n",
       "    <tr>\n",
       "      <th>1</th>\n",
       "      <td>4.9</td>\n",
       "      <td>3.0</td>\n",
       "      <td>1.4</td>\n",
       "      <td>0.2</td>\n",
       "      <td>1.0</td>\n",
       "    </tr>\n",
       "    <tr>\n",
       "      <th>2</th>\n",
       "      <td>4.7</td>\n",
       "      <td>3.2</td>\n",
       "      <td>1.3</td>\n",
       "      <td>0.2</td>\n",
       "      <td>1.0</td>\n",
       "    </tr>\n",
       "    <tr>\n",
       "      <th>3</th>\n",
       "      <td>4.6</td>\n",
       "      <td>3.1</td>\n",
       "      <td>1.5</td>\n",
       "      <td>0.2</td>\n",
       "      <td>1.0</td>\n",
       "    </tr>\n",
       "    <tr>\n",
       "      <th>4</th>\n",
       "      <td>5.0</td>\n",
       "      <td>3.6</td>\n",
       "      <td>1.4</td>\n",
       "      <td>0.2</td>\n",
       "      <td>1.0</td>\n",
       "    </tr>\n",
       "  </tbody>\n",
       "</table>\n",
       "</div>"
      ],
      "text/plain": [
       "   SepalLengthCm  SepalWidthCm  PetalLengthCm  PetalWidthCm  IsSetosa\n",
       "0            5.1           3.5            1.4           0.2       1.0\n",
       "1            4.9           3.0            1.4           0.2       1.0\n",
       "2            4.7           3.2            1.3           0.2       1.0\n",
       "3            4.6           3.1            1.5           0.2       1.0\n",
       "4            5.0           3.6            1.4           0.2       1.0"
      ]
     },
     "execution_count": 3,
     "metadata": {},
     "output_type": "execute_result"
    }
   ],
   "source": [
    "df['IsSetosa'] = df['Species'].apply(lambda a: 1.0 if a=='Iris-setosa' else 0)\n",
    "data = df[['SepalLengthCm', 'SepalWidthCm', 'PetalLengthCm', 'PetalWidthCm', 'IsSetosa']]\n",
    "data.head()"
   ]
  },
  {
   "cell_type": "code",
   "execution_count": 4,
   "metadata": {
    "collapsed": true
   },
   "outputs": [],
   "source": [
    "train, test = train_test_split(data, test_size=0.2)\n",
    "train_X = np.array(train[['SepalLengthCm', 'SepalWidthCm', 'PetalLengthCm', 'PetalWidthCm']])\n",
    "train_y = np.array(train[['IsSetosa']])"
   ]
  },
  {
   "cell_type": "code",
   "execution_count": 5,
   "metadata": {
    "collapsed": true
   },
   "outputs": [],
   "source": [
    "train_stds, train_means = std_normalize(train_X)"
   ]
  },
  {
   "cell_type": "markdown",
   "metadata": {},
   "source": [
    "#### 2), train"
   ]
  },
  {
   "cell_type": "code",
   "execution_count": 6,
   "metadata": {},
   "outputs": [
    {
     "name": "stdout",
     "output_type": "stream",
     "text": [
      "epoch: 100, cost: 0.575797559445103, conf: (0.6290322580645161, 0.8863636363636364, 0.7358490566037735)\n",
      "epoch: 200, cost: 0.3064302185860773, conf: (0.9555555555555556, 0.9772727272727273, 0.9662921348314608)\n",
      "epoch: 300, cost: 0.20837070296208063, conf: (1.0, 1.0, 1.0)\n",
      "epoch: 400, cost: 0.16008640218836565, conf: (1.0, 1.0, 1.0)\n",
      "epoch: 500, cost: 0.13133036984751623, conf: (1.0, 1.0, 1.0)\n",
      "epoch: 600, cost: 0.11210364296566695, conf: (1.0, 1.0, 1.0)\n",
      "epoch: 700, cost: 0.09824646504906316, conf: (1.0, 1.0, 1.0)\n",
      "epoch: 800, cost: 0.08772778044609973, conf: (1.0, 1.0, 1.0)\n",
      "epoch: 900, cost: 0.07943644715317835, conf: (1.0, 1.0, 1.0)\n",
      "epoch: 1000, cost: 0.07271144896900902, conf: (1.0, 1.0, 1.0)\n",
      "training finished!\n",
      "final cost: 0.07265054936287925, conf: (1.0, 1.0, 1.0)\n"
     ]
    }
   ],
   "source": [
    "feature_size = train_X.shape[1]\n",
    "sample_count = train_X.shape[0]\n",
    "\n",
    "W, b = create_parameters(feature_size)\n",
    "\n",
    "threshold = 0.5\n",
    "lr = 0.01\n",
    "\n",
    "for epoch in range(0, 1000):\n",
    "    h = logistic_model(train_X, W, b)\n",
    "    dW, db = log_cost_dev(train_X, train_y, h)\n",
    "    W, b = gd_update(W, b, dW, db, lr)\n",
    "    if (epoch + 1) % 100 == 0:\n",
    "        cur_cost = log_cost(h, train_y)\n",
    "        conf = binary_confusion_matrix(h, train_y, threshold=threshold)\n",
    "        print('epoch: {0}, cost: {1}, conf: {2}'.format(epoch + 1, cur_cost, conf))\n",
    "\n",
    "predictions = logistic_model(train_X, W, b)\n",
    "final_cost = log_cost(predictions, train_y)\n",
    "conf = binary_confusion_matrix(predictions, train_y, threshold=threshold)\n",
    "print('training finished!')\n",
    "print('final cost: {0}, conf: {1}'.format(final_cost, conf))"
   ]
  },
  {
   "cell_type": "markdown",
   "metadata": {},
   "source": [
    "#### 3). try test data"
   ]
  },
  {
   "cell_type": "code",
   "execution_count": 7,
   "metadata": {
    "collapsed": true
   },
   "outputs": [],
   "source": [
    "test_X = np.array(test[['SepalLengthCm', 'SepalWidthCm', 'PetalLengthCm', 'PetalWidthCm']])\n",
    "test_y = np.array(test[['IsSetosa']])\n",
    "data_normalize(test_X, train_stds, train_means)"
   ]
  },
  {
   "cell_type": "code",
   "execution_count": 8,
   "metadata": {},
   "outputs": [
    {
     "name": "stdout",
     "output_type": "stream",
     "text": [
      "test cost: 0.11111910518569251, conf: (1.0, 1.0, 1.0)\n"
     ]
    }
   ],
   "source": [
    "test_h = logistic_model(test_X, W, b)\n",
    "test_cost = log_cost(test_h, test_y)\n",
    "test_conf = binary_confusion_matrix(test_h, test_y, threshold=threshold)\n",
    "print('test cost: {0}, conf: {1}'.format(test_cost, test_conf))"
   ]
  },
  {
   "cell_type": "markdown",
   "metadata": {},
   "source": [
    "**so, this is only for Setosa, we want generalize binary classification to multi-classies**\n",
    "### Iris, one-vs-all"
   ]
  },
  {
   "cell_type": "markdown",
   "metadata": {},
   "source": [
    "#### 1), prepare data again"
   ]
  },
  {
   "cell_type": "code",
   "execution_count": 9,
   "metadata": {},
   "outputs": [
    {
     "data": {
      "text/plain": [
       "array(['Iris-setosa', 'Iris-versicolor', 'Iris-virginica'], dtype=object)"
      ]
     },
     "execution_count": 9,
     "metadata": {},
     "output_type": "execute_result"
    }
   ],
   "source": [
    "df['Species'].unique()"
   ]
  },
  {
   "cell_type": "code",
   "execution_count": 10,
   "metadata": {},
   "outputs": [
    {
     "data": {
      "text/html": [
       "<div>\n",
       "<style>\n",
       "    .dataframe thead tr:only-child th {\n",
       "        text-align: right;\n",
       "    }\n",
       "\n",
       "    .dataframe thead th {\n",
       "        text-align: left;\n",
       "    }\n",
       "\n",
       "    .dataframe tbody tr th {\n",
       "        vertical-align: top;\n",
       "    }\n",
       "</style>\n",
       "<table border=\"1\" class=\"dataframe\">\n",
       "  <thead>\n",
       "    <tr style=\"text-align: right;\">\n",
       "      <th></th>\n",
       "      <th>SepalLengthCm</th>\n",
       "      <th>SepalWidthCm</th>\n",
       "      <th>PetalLengthCm</th>\n",
       "      <th>PetalWidthCm</th>\n",
       "      <th>IsSetosa</th>\n",
       "      <th>IsVericolor</th>\n",
       "      <th>IsVirginica</th>\n",
       "    </tr>\n",
       "  </thead>\n",
       "  <tbody>\n",
       "    <tr>\n",
       "      <th>0</th>\n",
       "      <td>5.1</td>\n",
       "      <td>3.5</td>\n",
       "      <td>1.4</td>\n",
       "      <td>0.2</td>\n",
       "      <td>1.0</td>\n",
       "      <td>0.0</td>\n",
       "      <td>0.0</td>\n",
       "    </tr>\n",
       "    <tr>\n",
       "      <th>1</th>\n",
       "      <td>4.9</td>\n",
       "      <td>3.0</td>\n",
       "      <td>1.4</td>\n",
       "      <td>0.2</td>\n",
       "      <td>1.0</td>\n",
       "      <td>0.0</td>\n",
       "      <td>0.0</td>\n",
       "    </tr>\n",
       "    <tr>\n",
       "      <th>2</th>\n",
       "      <td>4.7</td>\n",
       "      <td>3.2</td>\n",
       "      <td>1.3</td>\n",
       "      <td>0.2</td>\n",
       "      <td>1.0</td>\n",
       "      <td>0.0</td>\n",
       "      <td>0.0</td>\n",
       "    </tr>\n",
       "    <tr>\n",
       "      <th>3</th>\n",
       "      <td>4.6</td>\n",
       "      <td>3.1</td>\n",
       "      <td>1.5</td>\n",
       "      <td>0.2</td>\n",
       "      <td>1.0</td>\n",
       "      <td>0.0</td>\n",
       "      <td>0.0</td>\n",
       "    </tr>\n",
       "    <tr>\n",
       "      <th>4</th>\n",
       "      <td>5.0</td>\n",
       "      <td>3.6</td>\n",
       "      <td>1.4</td>\n",
       "      <td>0.2</td>\n",
       "      <td>1.0</td>\n",
       "      <td>0.0</td>\n",
       "      <td>0.0</td>\n",
       "    </tr>\n",
       "  </tbody>\n",
       "</table>\n",
       "</div>"
      ],
      "text/plain": [
       "   SepalLengthCm  SepalWidthCm  PetalLengthCm  PetalWidthCm  IsSetosa  \\\n",
       "0            5.1           3.5            1.4           0.2       1.0   \n",
       "1            4.9           3.0            1.4           0.2       1.0   \n",
       "2            4.7           3.2            1.3           0.2       1.0   \n",
       "3            4.6           3.1            1.5           0.2       1.0   \n",
       "4            5.0           3.6            1.4           0.2       1.0   \n",
       "\n",
       "   IsVericolor  IsVirginica  \n",
       "0          0.0          0.0  \n",
       "1          0.0          0.0  \n",
       "2          0.0          0.0  \n",
       "3          0.0          0.0  \n",
       "4          0.0          0.0  "
      ]
     },
     "execution_count": 10,
     "metadata": {},
     "output_type": "execute_result"
    }
   ],
   "source": [
    "df['IsSetosa'] = df['Species'].apply(lambda a: 1.0 if a=='Iris-setosa' else 0)\n",
    "df['IsVericolor'] = df['Species'].apply(lambda a: 1.0 if a=='Iris-versicolor' else 0)\n",
    "df['IsVirginica'] = df['Species'].apply(lambda a: 1.0 if a=='Iris-virginica' else 0)\n",
    "data = df[['SepalLengthCm', 'SepalWidthCm', 'PetalLengthCm', 'PetalWidthCm', 'IsSetosa', 'IsVericolor', 'IsVirginica']]\n",
    "\n",
    "train, test = train_test_split(data, test_size=0.2)\n",
    "train_X = np.array(train[['SepalLengthCm', 'SepalWidthCm', 'PetalLengthCm', 'PetalWidthCm']])\n",
    "train_y0 = np.array(train[['IsSetosa']])\n",
    "train_y1 = np.array(train[['IsVericolor']])\n",
    "train_y2 = np.array(train[['IsVirginica']])\n",
    "\n",
    "data.head()"
   ]
  },
  {
   "cell_type": "markdown",
   "metadata": {},
   "source": [
    "#### 2), define some utils"
   ]
  },
  {
   "cell_type": "code",
   "execution_count": 11,
   "metadata": {
    "collapsed": true
   },
   "outputs": [],
   "source": [
    "def train_lr_classifier(X, y, lr=0.01, threshold=0.5, epochs=1000, step_size=100):\n",
    "    feature_size = X.shape[1]\n",
    "    sample_count = y.shape[0]\n",
    "    W, b = create_parameters(feature_size)\n",
    "    \n",
    "    for epoch in range(0, epochs):\n",
    "        h = logistic_model(X, W, b)\n",
    "        dW, db = log_cost_dev(X, y, h)\n",
    "        W, b = gd_update(W, b, dW, db, lr)\n",
    "        if (epoch + 1) % step_size == 0:\n",
    "            cur_cost = log_cost(h, y)\n",
    "            conf = binary_confusion_matrix(h, y, threshold=threshold)\n",
    "            print('epoch: {0}, cost: {1}, conf: {2}'.format(epoch + 1, cur_cost, conf))\n",
    "\n",
    "    predictions = logistic_model(X, W, b)\n",
    "    final_cost = log_cost(predictions, y)\n",
    "    conf = binary_confusion_matrix(predictions, y, threshold=threshold)\n",
    "    print('training finished!')\n",
    "    print('final cost: {0}, conf: {1}'.format(final_cost, conf))\n",
    "    return W, b"
   ]
  },
  {
   "cell_type": "code",
   "execution_count": 12,
   "metadata": {},
   "outputs": [
    {
     "name": "stdout",
     "output_type": "stream",
     "text": [
      "epoch: 100, cost: 0.15811182015265027, conf: (1.0, 1.0, 1.0)\n",
      "epoch: 200, cost: 0.12651567419137186, conf: (1.0, 1.0, 1.0)\n",
      "epoch: 300, cost: 0.10563033413685237, conf: (1.0, 1.0, 1.0)\n",
      "epoch: 400, cost: 0.09070385966139535, conf: (1.0, 1.0, 1.0)\n",
      "epoch: 500, cost: 0.07951842193336536, conf: (1.0, 1.0, 1.0)\n",
      "epoch: 600, cost: 0.07082831515290308, conf: (1.0, 1.0, 1.0)\n",
      "epoch: 700, cost: 0.06388311884365976, conf: (1.0, 1.0, 1.0)\n",
      "epoch: 800, cost: 0.058204899492072096, conf: (1.0, 1.0, 1.0)\n",
      "epoch: 900, cost: 0.05347530159827632, conf: (1.0, 1.0, 1.0)\n",
      "epoch: 1000, cost: 0.04947423293100049, conf: (1.0, 1.0, 1.0)\n",
      "training finished!\n",
      "final cost: 0.049437333317473534, conf: (1.0, 1.0, 1.0)\n"
     ]
    }
   ],
   "source": [
    "m0 = train_lr_classifier(train_X, train_y0, lr=0.01, threshold=0.5)"
   ]
  },
  {
   "cell_type": "code",
   "execution_count": 13,
   "metadata": {},
   "outputs": [
    {
     "name": "stdout",
     "output_type": "stream",
     "text": [
      "epoch: 10000, cost: 0.5029126352630555, conf: (0.6388888888888888, 0.6052631578947368, 0.6216216216216216)\n",
      "epoch: 20000, cost: 0.4938858417949329, conf: (0.6756756756756757, 0.6578947368421053, 0.6666666666666667)\n",
      "epoch: 30000, cost: 0.4893944809989383, conf: (0.6666666666666666, 0.631578947368421, 0.6486486486486486)\n",
      "epoch: 40000, cost: 0.4864051918343951, conf: (0.6666666666666666, 0.631578947368421, 0.6486486486486486)\n",
      "epoch: 50000, cost: 0.48427270241081716, conf: (0.6756756756756757, 0.6578947368421053, 0.6666666666666667)\n",
      "training finished!\n",
      "final cost: 0.4842725232553979, conf: (0.6756756756756757, 0.6578947368421053, 0.6666666666666667)\n"
     ]
    }
   ],
   "source": [
    "m1 = train_lr_classifier(train_X, train_y1, lr=0.01, threshold=0.4, epochs=50000, step_size=10000)"
   ]
  },
  {
   "cell_type": "code",
   "execution_count": 14,
   "metadata": {},
   "outputs": [
    {
     "name": "stdout",
     "output_type": "stream",
     "text": [
      "epoch: 10000, cost: 0.12005780107356158, conf: (0.9772727272727273, 1.0, 0.9885057471264368)\n",
      "epoch: 20000, cost: 0.09090546592707499, conf: (0.9555555555555556, 1.0, 0.9772727272727273)\n",
      "epoch: 30000, cost: 0.07895987202646441, conf: (0.9772727272727273, 1.0, 0.9885057471264368)\n",
      "epoch: 40000, cost: 0.07214751765035163, conf: (0.9772727272727273, 1.0, 0.9885057471264368)\n",
      "epoch: 50000, cost: 0.06762869279458379, conf: (0.9772727272727273, 1.0, 0.9885057471264368)\n",
      "training finished!\n",
      "final cost: 0.06762831313390283, conf: (0.9772727272727273, 1.0, 0.9885057471264368)\n"
     ]
    }
   ],
   "source": [
    "m2 = train_lr_classifier(train_X, train_y2, lr=0.01, threshold=0.5, epochs=50000, step_size=10000)"
   ]
  },
  {
   "cell_type": "markdown",
   "metadata": {},
   "source": [
    "#### 4), combine 3 individual classifier together with softmax function\n",
    "\n",
    "What is softmax?\n",
    "\n",
    "$$\n",
    "\\begin{equation}\n",
    "Softmax(x_j) = \\frac{e^{x_j}}{\\sum_{i=1}^m e^x_i}\n",
    "\\end{equation}\n",
    "$$\n",
    "\n",
    "Ok, let's define a prediction function based on softmax"
   ]
  },
  {
   "cell_type": "code",
   "execution_count": 15,
   "metadata": {
    "collapsed": true
   },
   "outputs": [],
   "source": [
    "def softmax(X):\n",
    "    exp_x = np.exp(X)\n",
    "    return  exp_x / exp_x.sum(axis=1).reshape((exp_x.shape[0], 1))\n",
    "\n",
    "def softmax_predict(X, models):\n",
    "    h = np.ndarray((X.shape[0], len(models)))\n",
    "    for c in range(0, len(models)):\n",
    "        h[:,c:c+1] = logistic_model(X, models[c][0], models[c][1])\n",
    "    return softmax(h)"
   ]
  },
  {
   "cell_type": "code",
   "execution_count": null,
   "metadata": {
    "collapsed": true
   },
   "outputs": [],
   "source": []
  }
 ],
 "metadata": {
  "kernelspec": {
   "display_name": "Python 3",
   "language": "python",
   "name": "python3"
  },
  "language_info": {
   "codemirror_mode": {
    "name": "ipython",
    "version": 3
   },
   "file_extension": ".py",
   "mimetype": "text/x-python",
   "name": "python",
   "nbconvert_exporter": "python",
   "pygments_lexer": "ipython3",
   "version": "3.6.1"
  }
 },
 "nbformat": 4,
 "nbformat_minor": 2
}
