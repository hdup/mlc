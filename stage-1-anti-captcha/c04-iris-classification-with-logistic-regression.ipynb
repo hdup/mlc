{
 "cells": [
  {
   "cell_type": "markdown",
   "metadata": {},
   "source": [
    "## Iris Classification with Logistic Regression"
   ]
  },
  {
   "cell_type": "code",
   "execution_count": 1,
   "metadata": {
    "collapsed": true
   },
   "outputs": [],
   "source": [
    "import numpy as np\n",
    "import pandas as pd\n",
    "import matplotlib.pyplot as plt\n",
    "\n",
    "from models import linear_model, logistic_model, log_cost, log_cost_dev, gd_update\n",
    "from models import binary_confusion_matrix, std_normalize, binary_accuracy, create_parameters, data_normalize\n",
    "from sklearn.model_selection import train_test_split\n",
    "\n",
    "%matplotlib inline"
   ]
  },
  {
   "cell_type": "markdown",
   "metadata": {},
   "source": [
    "#### 1), prepare data "
   ]
  },
  {
   "cell_type": "code",
   "execution_count": 2,
   "metadata": {},
   "outputs": [
    {
     "name": "stdout",
     "output_type": "stream",
     "text": [
      "<class 'pandas.core.frame.DataFrame'>\n",
      "RangeIndex: 150 entries, 0 to 149\n",
      "Data columns (total 6 columns):\n",
      "Id               150 non-null int64\n",
      "SepalLengthCm    150 non-null float64\n",
      "SepalWidthCm     150 non-null float64\n",
      "PetalLengthCm    150 non-null float64\n",
      "PetalWidthCm     150 non-null float64\n",
      "Species          150 non-null object\n",
      "dtypes: float64(4), int64(1), object(1)\n",
      "memory usage: 7.1+ KB\n"
     ]
    }
   ],
   "source": [
    "df = pd.read_csv('./data/iris.csv')\n",
    "df.info()"
   ]
  },
  {
   "cell_type": "code",
   "execution_count": 3,
   "metadata": {},
   "outputs": [
    {
     "data": {
      "text/html": [
       "<div>\n",
       "<style>\n",
       "    .dataframe thead tr:only-child th {\n",
       "        text-align: right;\n",
       "    }\n",
       "\n",
       "    .dataframe thead th {\n",
       "        text-align: left;\n",
       "    }\n",
       "\n",
       "    .dataframe tbody tr th {\n",
       "        vertical-align: top;\n",
       "    }\n",
       "</style>\n",
       "<table border=\"1\" class=\"dataframe\">\n",
       "  <thead>\n",
       "    <tr style=\"text-align: right;\">\n",
       "      <th></th>\n",
       "      <th>SepalLengthCm</th>\n",
       "      <th>SepalWidthCm</th>\n",
       "      <th>PetalLengthCm</th>\n",
       "      <th>PetalWidthCm</th>\n",
       "      <th>IsSetosa</th>\n",
       "    </tr>\n",
       "  </thead>\n",
       "  <tbody>\n",
       "    <tr>\n",
       "      <th>0</th>\n",
       "      <td>5.1</td>\n",
       "      <td>3.5</td>\n",
       "      <td>1.4</td>\n",
       "      <td>0.2</td>\n",
       "      <td>1.0</td>\n",
       "    </tr>\n",
       "    <tr>\n",
       "      <th>1</th>\n",
       "      <td>4.9</td>\n",
       "      <td>3.0</td>\n",
       "      <td>1.4</td>\n",
       "      <td>0.2</td>\n",
       "      <td>1.0</td>\n",
       "    </tr>\n",
       "    <tr>\n",
       "      <th>2</th>\n",
       "      <td>4.7</td>\n",
       "      <td>3.2</td>\n",
       "      <td>1.3</td>\n",
       "      <td>0.2</td>\n",
       "      <td>1.0</td>\n",
       "    </tr>\n",
       "    <tr>\n",
       "      <th>3</th>\n",
       "      <td>4.6</td>\n",
       "      <td>3.1</td>\n",
       "      <td>1.5</td>\n",
       "      <td>0.2</td>\n",
       "      <td>1.0</td>\n",
       "    </tr>\n",
       "    <tr>\n",
       "      <th>4</th>\n",
       "      <td>5.0</td>\n",
       "      <td>3.6</td>\n",
       "      <td>1.4</td>\n",
       "      <td>0.2</td>\n",
       "      <td>1.0</td>\n",
       "    </tr>\n",
       "  </tbody>\n",
       "</table>\n",
       "</div>"
      ],
      "text/plain": [
       "   SepalLengthCm  SepalWidthCm  PetalLengthCm  PetalWidthCm  IsSetosa\n",
       "0            5.1           3.5            1.4           0.2       1.0\n",
       "1            4.9           3.0            1.4           0.2       1.0\n",
       "2            4.7           3.2            1.3           0.2       1.0\n",
       "3            4.6           3.1            1.5           0.2       1.0\n",
       "4            5.0           3.6            1.4           0.2       1.0"
      ]
     },
     "execution_count": 3,
     "metadata": {},
     "output_type": "execute_result"
    }
   ],
   "source": [
    "df['IsSetosa'] = df['Species'].apply(lambda a: 1.0 if a=='Iris-setosa' else 0)\n",
    "data = df[['SepalLengthCm', 'SepalWidthCm', 'PetalLengthCm', 'PetalWidthCm', 'IsSetosa']]\n",
    "data.head()"
   ]
  },
  {
   "cell_type": "code",
   "execution_count": 4,
   "metadata": {
    "collapsed": true
   },
   "outputs": [],
   "source": [
    "train, test = train_test_split(data, test_size=0.2)\n",
    "train_X = np.array(train[['SepalLengthCm', 'SepalWidthCm', 'PetalLengthCm', 'PetalWidthCm']])\n",
    "train_y = np.array(train[['IsSetosa']])"
   ]
  },
  {
   "cell_type": "code",
   "execution_count": 5,
   "metadata": {
    "collapsed": true
   },
   "outputs": [],
   "source": [
    "train_stds, train_means = std_normalize(train_X)"
   ]
  },
  {
   "cell_type": "markdown",
   "metadata": {},
   "source": [
    "#### 2), train"
   ]
  },
  {
   "cell_type": "code",
   "execution_count": 6,
   "metadata": {},
   "outputs": [
    {
     "name": "stdout",
     "output_type": "stream",
     "text": [
      "epoch: 100, cost: 0.14001296217611525, conf: (1.0, 1.0, 1.0)\n",
      "epoch: 200, cost: 0.10672830877883825, conf: (1.0, 1.0, 1.0)\n",
      "epoch: 300, cost: 0.08790341503142068, conf: (1.0, 1.0, 1.0)\n",
      "epoch: 400, cost: 0.07586051463634552, conf: (1.0, 1.0, 1.0)\n",
      "epoch: 500, cost: 0.0674582819204564, conf: (1.0, 1.0, 1.0)\n",
      "epoch: 600, cost: 0.061216888989292784, conf: (1.0, 1.0, 1.0)\n",
      "epoch: 700, cost: 0.05635948252044424, conf: (1.0, 1.0, 1.0)\n",
      "epoch: 800, cost: 0.0524425874666728, conf: (1.0, 1.0, 1.0)\n",
      "epoch: 900, cost: 0.049195682698094365, conf: (1.0, 1.0, 1.0)\n",
      "epoch: 1000, cost: 0.046444663999257806, conf: (1.0, 1.0, 1.0)\n",
      "training finished!\n",
      "final cost: 0.04641922918478182, conf: (1.0, 1.0, 1.0)\n"
     ]
    }
   ],
   "source": [
    "feature_size = train_X.shape[1]\n",
    "sample_count = train_X.shape[0]\n",
    "\n",
    "W, b = create_parameters(feature_size)\n",
    "\n",
    "threshold = 0.5\n",
    "lr = 0.01\n",
    "\n",
    "for epoch in range(0, 1000):\n",
    "    h = logistic_model(train_X, W, b)\n",
    "    dW, db = log_cost_dev(train_X, train_y, h)\n",
    "    W, b = gd_update(W, b, dW, db, lr)\n",
    "    if (epoch + 1) % 100 == 0:\n",
    "        cur_cost = log_cost(h, train_y)\n",
    "        conf = binary_confusion_matrix(h, train_y, threshold=threshold)\n",
    "        print('epoch: {0}, cost: {1}, conf: {2}'.format(epoch + 1, cur_cost, conf))\n",
    "\n",
    "predictions = logistic_model(train_X, W, b)\n",
    "final_cost = log_cost(predictions, train_y)\n",
    "conf = binary_confusion_matrix(predictions, train_y, threshold=threshold)\n",
    "print('training finished!')\n",
    "print('final cost: {0}, conf: {1}'.format(final_cost, conf))"
   ]
  },
  {
   "cell_type": "markdown",
   "metadata": {},
   "source": [
    "#### 3). try test data"
   ]
  },
  {
   "cell_type": "code",
   "execution_count": 7,
   "metadata": {
    "collapsed": true
   },
   "outputs": [],
   "source": [
    "test_X = np.array(test[['SepalLengthCm', 'SepalWidthCm', 'PetalLengthCm', 'PetalWidthCm']])\n",
    "test_y = np.array(test[['IsSetosa']])\n",
    "data_normalize(test_X, train_stds, train_means)"
   ]
  },
  {
   "cell_type": "code",
   "execution_count": 8,
   "metadata": {},
   "outputs": [
    {
     "name": "stdout",
     "output_type": "stream",
     "text": [
      "test cost: 0.038619253505021336, conf: (1.0, 1.0, 1.0)\n"
     ]
    }
   ],
   "source": [
    "test_h = logistic_model(test_X, W, b)\n",
    "test_cost = log_cost(test_h, test_y)\n",
    "test_conf = binary_confusion_matrix(test_h, test_y, threshold=threshold)\n",
    "print('test cost: {0}, conf: {1}'.format(test_cost, test_conf))"
   ]
  },
  {
   "cell_type": "markdown",
   "metadata": {},
   "source": [
    "**so, this is only for Setosa, we want generalize binary classification to multi-classies**\n",
    "### Iris, one-vs-all"
   ]
  },
  {
   "cell_type": "markdown",
   "metadata": {},
   "source": [
    "#### 1), prepare data again"
   ]
  },
  {
   "cell_type": "code",
   "execution_count": 9,
   "metadata": {},
   "outputs": [
    {
     "data": {
      "text/plain": [
       "array(['Iris-setosa', 'Iris-versicolor', 'Iris-virginica'], dtype=object)"
      ]
     },
     "execution_count": 9,
     "metadata": {},
     "output_type": "execute_result"
    }
   ],
   "source": [
    "df['Species'].unique()"
   ]
  },
  {
   "cell_type": "code",
   "execution_count": 10,
   "metadata": {},
   "outputs": [
    {
     "data": {
      "text/html": [
       "<div>\n",
       "<style>\n",
       "    .dataframe thead tr:only-child th {\n",
       "        text-align: right;\n",
       "    }\n",
       "\n",
       "    .dataframe thead th {\n",
       "        text-align: left;\n",
       "    }\n",
       "\n",
       "    .dataframe tbody tr th {\n",
       "        vertical-align: top;\n",
       "    }\n",
       "</style>\n",
       "<table border=\"1\" class=\"dataframe\">\n",
       "  <thead>\n",
       "    <tr style=\"text-align: right;\">\n",
       "      <th></th>\n",
       "      <th>SepalLengthCm</th>\n",
       "      <th>SepalWidthCm</th>\n",
       "      <th>PetalLengthCm</th>\n",
       "      <th>PetalWidthCm</th>\n",
       "      <th>IsSetosa</th>\n",
       "      <th>IsVericolor</th>\n",
       "      <th>IsVirginica</th>\n",
       "    </tr>\n",
       "  </thead>\n",
       "  <tbody>\n",
       "    <tr>\n",
       "      <th>0</th>\n",
       "      <td>5.1</td>\n",
       "      <td>3.5</td>\n",
       "      <td>1.4</td>\n",
       "      <td>0.2</td>\n",
       "      <td>1.0</td>\n",
       "      <td>0.0</td>\n",
       "      <td>0.0</td>\n",
       "    </tr>\n",
       "    <tr>\n",
       "      <th>1</th>\n",
       "      <td>4.9</td>\n",
       "      <td>3.0</td>\n",
       "      <td>1.4</td>\n",
       "      <td>0.2</td>\n",
       "      <td>1.0</td>\n",
       "      <td>0.0</td>\n",
       "      <td>0.0</td>\n",
       "    </tr>\n",
       "    <tr>\n",
       "      <th>2</th>\n",
       "      <td>4.7</td>\n",
       "      <td>3.2</td>\n",
       "      <td>1.3</td>\n",
       "      <td>0.2</td>\n",
       "      <td>1.0</td>\n",
       "      <td>0.0</td>\n",
       "      <td>0.0</td>\n",
       "    </tr>\n",
       "    <tr>\n",
       "      <th>3</th>\n",
       "      <td>4.6</td>\n",
       "      <td>3.1</td>\n",
       "      <td>1.5</td>\n",
       "      <td>0.2</td>\n",
       "      <td>1.0</td>\n",
       "      <td>0.0</td>\n",
       "      <td>0.0</td>\n",
       "    </tr>\n",
       "    <tr>\n",
       "      <th>4</th>\n",
       "      <td>5.0</td>\n",
       "      <td>3.6</td>\n",
       "      <td>1.4</td>\n",
       "      <td>0.2</td>\n",
       "      <td>1.0</td>\n",
       "      <td>0.0</td>\n",
       "      <td>0.0</td>\n",
       "    </tr>\n",
       "  </tbody>\n",
       "</table>\n",
       "</div>"
      ],
      "text/plain": [
       "   SepalLengthCm  SepalWidthCm  PetalLengthCm  PetalWidthCm  IsSetosa  \\\n",
       "0            5.1           3.5            1.4           0.2       1.0   \n",
       "1            4.9           3.0            1.4           0.2       1.0   \n",
       "2            4.7           3.2            1.3           0.2       1.0   \n",
       "3            4.6           3.1            1.5           0.2       1.0   \n",
       "4            5.0           3.6            1.4           0.2       1.0   \n",
       "\n",
       "   IsVericolor  IsVirginica  \n",
       "0          0.0          0.0  \n",
       "1          0.0          0.0  \n",
       "2          0.0          0.0  \n",
       "3          0.0          0.0  \n",
       "4          0.0          0.0  "
      ]
     },
     "execution_count": 10,
     "metadata": {},
     "output_type": "execute_result"
    }
   ],
   "source": [
    "df['IsSetosa'] = df['Species'].apply(lambda a: 1.0 if a=='Iris-setosa' else 0)\n",
    "df['IsVericolor'] = df['Species'].apply(lambda a: 1.0 if a=='Iris-versicolor' else 0)\n",
    "df['IsVirginica'] = df['Species'].apply(lambda a: 1.0 if a=='Iris-virginica' else 0)\n",
    "data = df[['SepalLengthCm', 'SepalWidthCm', 'PetalLengthCm', 'PetalWidthCm', 'IsSetosa', 'IsVericolor', 'IsVirginica']]\n",
    "\n",
    "train, test = train_test_split(data, test_size=0.2)\n",
    "train_X = np.array(train[['SepalLengthCm', 'SepalWidthCm', 'PetalLengthCm', 'PetalWidthCm']])\n",
    "train_y0 = np.array(train[['IsSetosa']])\n",
    "train_y1 = np.array(train[['IsVericolor']])\n",
    "train_y2 = np.array(train[['IsVirginica']])\n",
    "\n",
    "data.head()"
   ]
  },
  {
   "cell_type": "markdown",
   "metadata": {},
   "source": [
    "#### 2), define some utils"
   ]
  },
  {
   "cell_type": "code",
   "execution_count": 11,
   "metadata": {
    "collapsed": true
   },
   "outputs": [],
   "source": [
    "def train_lr_classifier(X, y, lr=0.01, threshold=0.5, epochs=1000, step_size=100):\n",
    "    feature_size = X.shape[1]\n",
    "    sample_count = y.shape[0]\n",
    "    W, b = create_parameters(feature_size)\n",
    "    \n",
    "    for epoch in range(0, epochs):\n",
    "        h = logistic_model(X, W, b)\n",
    "        dW, db = log_cost_dev(X, y, h)\n",
    "        W, b = gd_update(W, b, dW, db, lr)\n",
    "        if (epoch + 1) % step_size == 0:\n",
    "            cur_cost = log_cost(h, y)\n",
    "            conf = binary_confusion_matrix(h, y, threshold=threshold)\n",
    "            print('epoch: {0}, cost: {1}, conf: {2}'.format(epoch + 1, cur_cost, conf))\n",
    "\n",
    "    predictions = logistic_model(X, W, b)\n",
    "    final_cost = log_cost(predictions, y)\n",
    "    conf = binary_confusion_matrix(predictions, y, threshold=threshold)\n",
    "    print('training finished!')\n",
    "    print('final cost: {0}, conf: {1}'.format(final_cost, conf))\n",
    "    return W, b"
   ]
  },
  {
   "cell_type": "code",
   "execution_count": 12,
   "metadata": {},
   "outputs": [
    {
     "name": "stdout",
     "output_type": "stream",
     "text": [
      "epoch: 100, cost: 1.3320650819689035, conf: (0.0, 0.0, 0)\n",
      "epoch: 200, cost: 0.6984726887196302, conf: (0, 0.0, 0)\n",
      "epoch: 300, cost: 0.3796143819267551, conf: (1.0, 0.375, 0.5454545454545454)\n",
      "epoch: 400, cost: 0.2436256799226006, conf: (1.0, 1.0, 1.0)\n",
      "epoch: 500, cost: 0.1766482410331567, conf: (1.0, 1.0, 1.0)\n",
      "epoch: 600, cost: 0.1381324575515464, conf: (1.0, 1.0, 1.0)\n",
      "epoch: 700, cost: 0.11340322443284094, conf: (1.0, 1.0, 1.0)\n",
      "epoch: 800, cost: 0.09625710698698337, conf: (1.0, 1.0, 1.0)\n",
      "epoch: 900, cost: 0.08369136521553931, conf: (1.0, 1.0, 1.0)\n",
      "epoch: 1000, cost: 0.07409274019688988, conf: (1.0, 1.0, 1.0)\n",
      "training finished!\n",
      "final cost: 0.07400819088409966, conf: (1.0, 1.0, 1.0)\n"
     ]
    }
   ],
   "source": [
    "m0 = train_lr_classifier(train_X, train_y0, lr=0.01, threshold=0.5)"
   ]
  },
  {
   "cell_type": "code",
   "execution_count": 13,
   "metadata": {},
   "outputs": [
    {
     "name": "stdout",
     "output_type": "stream",
     "text": [
      "epoch: 10000, cost: 0.5105783211688201, conf: (0.6666666666666666, 0.631578947368421, 0.6486486486486486)\n",
      "epoch: 20000, cost: 0.4965297999791801, conf: (0.6585365853658537, 0.7105263157894737, 0.6835443037974684)\n",
      "epoch: 30000, cost: 0.4912235247902572, conf: (0.65, 0.6842105263157895, 0.6666666666666667)\n",
      "epoch: 40000, cost: 0.4875687045045197, conf: (0.6486486486486487, 0.631578947368421, 0.64)\n",
      "epoch: 50000, cost: 0.4847768347710371, conf: (0.6486486486486487, 0.631578947368421, 0.64)\n",
      "training finished!\n",
      "final cost: 0.4847765863717844, conf: (0.6486486486486487, 0.631578947368421, 0.64)\n"
     ]
    }
   ],
   "source": [
    "m1 = train_lr_classifier(train_X, train_y1, lr=0.01, threshold=0.4, epochs=50000, step_size=10000)"
   ]
  },
  {
   "cell_type": "code",
   "execution_count": 14,
   "metadata": {},
   "outputs": [
    {
     "name": "stdout",
     "output_type": "stream",
     "text": [
      "epoch: 10000, cost: 0.14016847236370478, conf: (0.9130434782608695, 1.0, 0.9545454545454545)\n",
      "epoch: 20000, cost: 0.11284138306174173, conf: (0.9333333333333333, 1.0, 0.9655172413793104)\n",
      "epoch: 30000, cost: 0.10128141555154428, conf: (0.9333333333333333, 1.0, 0.9655172413793104)\n",
      "epoch: 40000, cost: 0.09456803714371673, conf: (0.9333333333333333, 1.0, 0.9655172413793104)\n",
      "epoch: 50000, cost: 0.09004701116064329, conf: (0.9333333333333333, 1.0, 0.9655172413793104)\n",
      "training finished!\n",
      "final cost: 0.09004662782342093, conf: (0.9333333333333333, 1.0, 0.9655172413793104)\n"
     ]
    }
   ],
   "source": [
    "m2 = train_lr_classifier(train_X, train_y2, lr=0.01, threshold=0.5, epochs=50000, step_size=10000)"
   ]
  },
  {
   "cell_type": "markdown",
   "metadata": {},
   "source": [
    "#### 4), combine 3 individual classifier together with softmax function\n",
    "\n",
    "What is softmax?\n",
    "\n",
    "$$\n",
    "\\begin{equation}\n",
    "Softmax(x_j) = \\frac{e^{x_j}}{\\sum_{i=1}^m e^{x_{i}}}\n",
    "\\end{equation}\n",
    "$$\n",
    "\n",
    "Ok, let's define a prediction function based on softmax"
   ]
  },
  {
   "cell_type": "code",
   "execution_count": 15,
   "metadata": {
    "collapsed": true
   },
   "outputs": [],
   "source": [
    "from models import softmax_regress_model, crossentropy_cost, crossentropy_cost_dev"
   ]
  },
  {
   "cell_type": "code",
   "execution_count": 20,
   "metadata": {},
   "outputs": [],
   "source": [
    "train_y_all = np.array(train[['IsSetosa', 'IsVericolor', 'IsVirginica']])\n",
    "test_y_all = np.array(test[['IsSetosa', 'IsVericolor', 'IsVirginica']])"
   ]
  },
  {
   "cell_type": "code",
   "execution_count": 38,
   "metadata": {},
   "outputs": [
    {
     "name": "stdout",
     "output_type": "stream",
     "text": [
      "epoch: 100, cost: 0.20063939435614786, test cost: 1.0084892889342323\n",
      "epoch: 200, cost: 0.16685125616142185, test cost: 1.0626558162173103\n",
      "epoch: 300, cost: 0.15162588598119944, test cost: 1.1041164313005092\n",
      "epoch: 400, cost: 0.14254144970761276, test cost: 1.1385641547633318\n",
      "epoch: 500, cost: 0.13610616308023687, test cost: 1.1686418730841104\n",
      "epoch: 600, cost: 0.13105093622231395, test cost: 1.1957246447502556\n",
      "epoch: 700, cost: 0.12682161153754923, test cost: 1.2206065921117493\n",
      "epoch: 800, cost: 0.12314141197854878, test cost: 1.2437851065640786\n",
      "epoch: 900, cost: 0.11985694618919866, test cost: 1.265591973409339\n",
      "epoch: 1000, cost: 0.11687571956265298, test cost: 1.2862598326980392\n",
      "training finished!\n",
      "final cost: 0.11684721725386223\n",
      "test cost: 1.2862598326980392\n"
     ]
    }
   ],
   "source": [
    "feature_size = train_X.shape[1]\n",
    "sample_count = train_X.shape[0]\n",
    "class_count = train_y_all.shape[1]\n",
    "\n",
    "W, b = create_parameters(feature_size, class_count)\n",
    "\n",
    "for epoch in range(0, 1000):\n",
    "    h = softmax_regress_model(train_X, W, b)\n",
    "    dW, db = crossentropy_cost_dev(train_X, train_y_all, h)\n",
    "    W, b = gd_update(W, b, dW, db, lr=0.01)\n",
    "    if (epoch + 1) % 100 == 0:\n",
    "        cur_cost = crossentropy_cost(h, train_y_all)\n",
    "        test_h = softmax_regress_model(test_X, W, b)\n",
    "        test_cost = crossentropy_cost(test_h, test_y_all)\n",
    "        print('epoch: {0}, cost: {1}, test cost: {2}'.format(epoch + 1, cur_cost, test_cost))\n",
    "\n",
    "predictions = softmax_regress_model(train_X, W, b)\n",
    "final_cost = crossentropy_cost(predictions, train_y_all)\n",
    "\n",
    "print('training finished!')\n",
    "print('final cost: {0}'.format(final_cost))\n",
    "\n",
    "test_h = softmax_regress_model(test_X, W, b)\n",
    "test_cost = crossentropy_cost(test_h, test_y_all)\n",
    "print('test cost: {0}'.format(test_cost))"
   ]
  },
  {
   "cell_type": "code",
   "execution_count": null,
   "metadata": {
    "collapsed": true
   },
   "outputs": [],
   "source": []
  }
 ],
 "metadata": {
  "kernelspec": {
   "display_name": "Python 3",
   "language": "python",
   "name": "python3"
  },
  "language_info": {
   "codemirror_mode": {
    "name": "ipython",
    "version": 3
   },
   "file_extension": ".py",
   "mimetype": "text/x-python",
   "name": "python",
   "nbconvert_exporter": "python",
   "pygments_lexer": "ipython3",
   "version": "3.6.1"
  }
 },
 "nbformat": 4,
 "nbformat_minor": 2
}
