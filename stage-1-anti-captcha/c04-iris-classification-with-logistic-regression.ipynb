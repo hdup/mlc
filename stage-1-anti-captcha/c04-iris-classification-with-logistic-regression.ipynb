{
 "cells": [
  {
   "cell_type": "markdown",
   "metadata": {},
   "source": [
    "## Iris Classification with Logistic Regression"
   ]
  },
  {
   "cell_type": "code",
   "execution_count": 1,
   "metadata": {},
   "outputs": [],
   "source": [
    "import numpy as np\n",
    "import pandas as pd\n",
    "import matplotlib.pyplot as plt\n",
    "\n",
    "from models import linear_model, logistic_model, log_cost, log_cost_dev, gd_update\n",
    "from models import binary_confusion_matrix, std_normalize, binary_accuracy, create_parameters, data_normalize\n",
    "from sklearn.model_selection import train_test_split\n",
    "\n",
    "%matplotlib inline"
   ]
  },
  {
   "cell_type": "markdown",
   "metadata": {},
   "source": [
    "#### 1), prepare data "
   ]
  },
  {
   "cell_type": "code",
   "execution_count": 2,
   "metadata": {},
   "outputs": [
    {
     "name": "stdout",
     "output_type": "stream",
     "text": [
      "<class 'pandas.core.frame.DataFrame'>\n",
      "RangeIndex: 150 entries, 0 to 149\n",
      "Data columns (total 6 columns):\n",
      "Id               150 non-null int64\n",
      "SepalLengthCm    150 non-null float64\n",
      "SepalWidthCm     150 non-null float64\n",
      "PetalLengthCm    150 non-null float64\n",
      "PetalWidthCm     150 non-null float64\n",
      "Species          150 non-null object\n",
      "dtypes: float64(4), int64(1), object(1)\n",
      "memory usage: 7.1+ KB\n"
     ]
    }
   ],
   "source": [
    "df = pd.read_csv('./iris.csv')\n",
    "df.info()"
   ]
  },
  {
   "cell_type": "code",
   "execution_count": 3,
   "metadata": {},
   "outputs": [
    {
     "data": {
      "text/html": [
       "<div>\n",
       "<style>\n",
       "    .dataframe thead tr:only-child th {\n",
       "        text-align: right;\n",
       "    }\n",
       "\n",
       "    .dataframe thead th {\n",
       "        text-align: left;\n",
       "    }\n",
       "\n",
       "    .dataframe tbody tr th {\n",
       "        vertical-align: top;\n",
       "    }\n",
       "</style>\n",
       "<table border=\"1\" class=\"dataframe\">\n",
       "  <thead>\n",
       "    <tr style=\"text-align: right;\">\n",
       "      <th></th>\n",
       "      <th>SepalLengthCm</th>\n",
       "      <th>SepalWidthCm</th>\n",
       "      <th>PetalLengthCm</th>\n",
       "      <th>PetalWidthCm</th>\n",
       "      <th>IsSetosa</th>\n",
       "    </tr>\n",
       "  </thead>\n",
       "  <tbody>\n",
       "    <tr>\n",
       "      <th>0</th>\n",
       "      <td>5.1</td>\n",
       "      <td>3.5</td>\n",
       "      <td>1.4</td>\n",
       "      <td>0.2</td>\n",
       "      <td>1.0</td>\n",
       "    </tr>\n",
       "    <tr>\n",
       "      <th>1</th>\n",
       "      <td>4.9</td>\n",
       "      <td>3.0</td>\n",
       "      <td>1.4</td>\n",
       "      <td>0.2</td>\n",
       "      <td>1.0</td>\n",
       "    </tr>\n",
       "    <tr>\n",
       "      <th>2</th>\n",
       "      <td>4.7</td>\n",
       "      <td>3.2</td>\n",
       "      <td>1.3</td>\n",
       "      <td>0.2</td>\n",
       "      <td>1.0</td>\n",
       "    </tr>\n",
       "    <tr>\n",
       "      <th>3</th>\n",
       "      <td>4.6</td>\n",
       "      <td>3.1</td>\n",
       "      <td>1.5</td>\n",
       "      <td>0.2</td>\n",
       "      <td>1.0</td>\n",
       "    </tr>\n",
       "    <tr>\n",
       "      <th>4</th>\n",
       "      <td>5.0</td>\n",
       "      <td>3.6</td>\n",
       "      <td>1.4</td>\n",
       "      <td>0.2</td>\n",
       "      <td>1.0</td>\n",
       "    </tr>\n",
       "  </tbody>\n",
       "</table>\n",
       "</div>"
      ],
      "text/plain": [
       "   SepalLengthCm  SepalWidthCm  PetalLengthCm  PetalWidthCm  IsSetosa\n",
       "0            5.1           3.5            1.4           0.2       1.0\n",
       "1            4.9           3.0            1.4           0.2       1.0\n",
       "2            4.7           3.2            1.3           0.2       1.0\n",
       "3            4.6           3.1            1.5           0.2       1.0\n",
       "4            5.0           3.6            1.4           0.2       1.0"
      ]
     },
     "execution_count": 3,
     "metadata": {},
     "output_type": "execute_result"
    }
   ],
   "source": [
    "df['IsSetosa'] = df['Species'].apply(lambda a: 1.0 if a=='Iris-setosa' else 0)\n",
    "data = df[['SepalLengthCm', 'SepalWidthCm', 'PetalLengthCm', 'PetalWidthCm', 'IsSetosa']]\n",
    "data.head()"
   ]
  },
  {
   "cell_type": "code",
   "execution_count": 4,
   "metadata": {
    "collapsed": true
   },
   "outputs": [],
   "source": [
    "train, test = train_test_split(data, test_size=0.2)\n",
    "train_X = np.array(train[['SepalLengthCm', 'SepalWidthCm', 'PetalLengthCm', 'PetalWidthCm']])\n",
    "train_y = np.array(train[['IsSetosa']])"
   ]
  },
  {
   "cell_type": "code",
   "execution_count": 5,
   "metadata": {},
   "outputs": [],
   "source": [
    "train_stds, train_means = std_normalize(train_X)"
   ]
  },
  {
   "cell_type": "markdown",
   "metadata": {},
   "source": [
    "#### 2), train"
   ]
  },
  {
   "cell_type": "code",
   "execution_count": 6,
   "metadata": {},
   "outputs": [
    {
     "name": "stdout",
     "output_type": "stream",
     "text": [
      "epoch: 100, cost: 0.9730710905666152, conf: (0.22857142857142856, 0.42105263157894735, 0.2962962962962963)\n",
      "epoch: 200, cost: 0.45095829165851076, conf: (0.6491228070175439, 0.9736842105263158, 0.7789473684210527)\n",
      "epoch: 300, cost: 0.2744513319960485, conf: (0.9743589743589743, 1.0, 0.9870129870129869)\n",
      "epoch: 400, cost: 0.1976678088773042, conf: (1.0, 1.0, 1.0)\n",
      "epoch: 500, cost: 0.15604811493152132, conf: (1.0, 1.0, 1.0)\n",
      "epoch: 600, cost: 0.1299998103020092, conf: (1.0, 1.0, 1.0)\n",
      "epoch: 700, cost: 0.11208651805451761, conf: (1.0, 1.0, 1.0)\n",
      "epoch: 800, cost: 0.09894570767064578, conf: (1.0, 1.0, 1.0)\n",
      "epoch: 900, cost: 0.0888485498939796, conf: (1.0, 1.0, 1.0)\n",
      "epoch: 1000, cost: 0.08081701480550692, conf: (1.0, 1.0, 1.0)\n",
      "training finished!\n",
      "final cost: 0.08074489374800274, conf: (1.0, 1.0, 1.0)\n"
     ]
    }
   ],
   "source": [
    "feature_size = train_X.shape[1]\n",
    "sample_count = train_X.shape[0]\n",
    "\n",
    "W, b = create_parameters(feature_size)\n",
    "\n",
    "threshold = 0.5\n",
    "lr = 0.01\n",
    "\n",
    "h = logistic_model(train_X, W, b)\n",
    "dW, db = log_cost_dev(train_X, train_y, h)\n",
    "\n",
    "for epoch in range(0, 1000):\n",
    "    h = logistic_model(train_X, W, b)\n",
    "    dW, db = log_cost_dev(train_X, train_y, h)\n",
    "    W = W - lr * dW\n",
    "    b = b - lr * db\n",
    "    if (epoch + 1) % 100 == 0:\n",
    "        cur_cost = log_cost(h, train_y)\n",
    "        conf = binary_confusion_matrix(h, train_y, threshold=threshold)\n",
    "        print('epoch: {0}, cost: {1}, conf: {2}'.format(epoch + 1, cur_cost, conf))\n",
    "\n",
    "predictions = logistic_model(train_X, W, b)\n",
    "final_cost = log_cost(predictions, train_y)\n",
    "conf = binary_confusion_matrix(predictions, train_y, threshold=threshold)\n",
    "print('training finished!')\n",
    "print('final cost: {0}, conf: {1}'.format(final_cost, conf))"
   ]
  },
  {
   "cell_type": "markdown",
   "metadata": {},
   "source": [
    "#### 3). try test data"
   ]
  },
  {
   "cell_type": "code",
   "execution_count": 7,
   "metadata": {},
   "outputs": [],
   "source": [
    "test_X = np.array(test[['SepalLengthCm', 'SepalWidthCm', 'PetalLengthCm', 'PetalWidthCm']])\n",
    "test_y = np.array(test[['IsSetosa']])\n",
    "data_normalize(test_X, train_stds, train_means)"
   ]
  },
  {
   "cell_type": "code",
   "execution_count": 8,
   "metadata": {},
   "outputs": [
    {
     "name": "stdout",
     "output_type": "stream",
     "text": [
      "test cost: 0.08399940482340754, conf: (1.0, 1.0, 1.0)\n"
     ]
    }
   ],
   "source": [
    "test_h = logistic_model(test_X, W, b)\n",
    "test_cost = log_cost(test_h, test_y)\n",
    "test_conf = binary_confusion_matrix(test_h, test_y, threshold=threshold)\n",
    "print('test cost: {0}, conf: {1}'.format(test_cost, test_conf))"
   ]
  },
  {
   "cell_type": "code",
   "execution_count": null,
   "metadata": {
    "collapsed": true
   },
   "outputs": [],
   "source": []
  }
 ],
 "metadata": {
  "kernelspec": {
   "display_name": "Python 3",
   "language": "python",
   "name": "python3"
  },
  "language_info": {
   "codemirror_mode": {
    "name": "ipython",
    "version": 3
   },
   "file_extension": ".py",
   "mimetype": "text/x-python",
   "name": "python",
   "nbconvert_exporter": "python",
   "pygments_lexer": "ipython3",
   "version": "3.6.1"
  }
 },
 "nbformat": 4,
 "nbformat_minor": 2
}
