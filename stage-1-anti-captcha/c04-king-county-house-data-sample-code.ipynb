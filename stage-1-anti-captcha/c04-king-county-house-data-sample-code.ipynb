{
 "cells": [
  {
   "cell_type": "markdown",
   "metadata": {},
   "source": [
    "## King County House Data"
   ]
  },
  {
   "cell_type": "code",
   "execution_count": 1,
   "metadata": {
    "collapsed": true
   },
   "outputs": [],
   "source": [
    "import pandas as pd\n",
    "import numpy as np\n",
    "import matplotlib.pyplot as plt\n",
    "import utils\n",
    "import models as ml\n",
    "\n",
    "from sklearn.model_selection import train_test_split\n",
    "from dateutil import parser\n",
    "\n",
    "%matplotlib inline"
   ]
  },
  {
   "cell_type": "markdown",
   "metadata": {},
   "source": [
    "#### 1), prepare data "
   ]
  },
  {
   "cell_type": "code",
   "execution_count": 2,
   "metadata": {
    "collapsed": true
   },
   "outputs": [],
   "source": [
    "df = pd.read_csv('./data/kc_house_data.csv')\n",
    "df.head()\n",
    "df_train, df_test = train_test_split(df, test_size = 0.2) \n",
    "\n",
    "np_train = np.array(df_train)\n",
    "np_test = np.array(df_test)\n",
    "\n",
    "np.savez_compressed('./data/kc_house_data.npz', train=np_train, test=np_test)"
   ]
  },
  {
   "cell_type": "code",
   "execution_count": 3,
   "metadata": {
    "scrolled": true
   },
   "outputs": [
    {
     "data": {
      "text/html": [
       "<div>\n",
       "<style>\n",
       "    .dataframe thead tr:only-child th {\n",
       "        text-align: right;\n",
       "    }\n",
       "\n",
       "    .dataframe thead th {\n",
       "        text-align: left;\n",
       "    }\n",
       "\n",
       "    .dataframe tbody tr th {\n",
       "        vertical-align: top;\n",
       "    }\n",
       "</style>\n",
       "<table border=\"1\" class=\"dataframe\">\n",
       "  <thead>\n",
       "    <tr style=\"text-align: right;\">\n",
       "      <th></th>\n",
       "      <th>id</th>\n",
       "      <th>date</th>\n",
       "      <th>price</th>\n",
       "      <th>bedrooms</th>\n",
       "      <th>bathrooms</th>\n",
       "      <th>sqft_living</th>\n",
       "      <th>sqft_lot</th>\n",
       "      <th>floors</th>\n",
       "      <th>waterfront</th>\n",
       "      <th>view</th>\n",
       "      <th>...</th>\n",
       "      <th>grade</th>\n",
       "      <th>sqft_above</th>\n",
       "      <th>sqft_basement</th>\n",
       "      <th>yr_built</th>\n",
       "      <th>yr_renovated</th>\n",
       "      <th>zipcode</th>\n",
       "      <th>lat</th>\n",
       "      <th>long</th>\n",
       "      <th>sqft_living15</th>\n",
       "      <th>sqft_lot15</th>\n",
       "    </tr>\n",
       "  </thead>\n",
       "  <tbody>\n",
       "    <tr>\n",
       "      <th>504</th>\n",
       "      <td>8906200070</td>\n",
       "      <td>20150210T000000</td>\n",
       "      <td>280000.0</td>\n",
       "      <td>3</td>\n",
       "      <td>1.50</td>\n",
       "      <td>1670</td>\n",
       "      <td>11610</td>\n",
       "      <td>1.0</td>\n",
       "      <td>0</td>\n",
       "      <td>0</td>\n",
       "      <td>...</td>\n",
       "      <td>7</td>\n",
       "      <td>1670</td>\n",
       "      <td>0</td>\n",
       "      <td>1963</td>\n",
       "      <td>0</td>\n",
       "      <td>98055</td>\n",
       "      <td>47.4404</td>\n",
       "      <td>-122.191</td>\n",
       "      <td>1930</td>\n",
       "      <td>10200</td>\n",
       "    </tr>\n",
       "    <tr>\n",
       "      <th>14791</th>\n",
       "      <td>2824600180</td>\n",
       "      <td>20141024T000000</td>\n",
       "      <td>713414.0</td>\n",
       "      <td>3</td>\n",
       "      <td>2.50</td>\n",
       "      <td>2830</td>\n",
       "      <td>6000</td>\n",
       "      <td>1.0</td>\n",
       "      <td>0</td>\n",
       "      <td>3</td>\n",
       "      <td>...</td>\n",
       "      <td>9</td>\n",
       "      <td>1730</td>\n",
       "      <td>1100</td>\n",
       "      <td>1954</td>\n",
       "      <td>0</td>\n",
       "      <td>98126</td>\n",
       "      <td>47.5751</td>\n",
       "      <td>-122.378</td>\n",
       "      <td>2040</td>\n",
       "      <td>5300</td>\n",
       "    </tr>\n",
       "    <tr>\n",
       "      <th>13055</th>\n",
       "      <td>293800120</td>\n",
       "      <td>20150430T000000</td>\n",
       "      <td>590000.0</td>\n",
       "      <td>4</td>\n",
       "      <td>2.50</td>\n",
       "      <td>2940</td>\n",
       "      <td>29013</td>\n",
       "      <td>2.0</td>\n",
       "      <td>0</td>\n",
       "      <td>0</td>\n",
       "      <td>...</td>\n",
       "      <td>10</td>\n",
       "      <td>2940</td>\n",
       "      <td>0</td>\n",
       "      <td>1992</td>\n",
       "      <td>0</td>\n",
       "      <td>98077</td>\n",
       "      <td>47.7635</td>\n",
       "      <td>-122.044</td>\n",
       "      <td>3010</td>\n",
       "      <td>34071</td>\n",
       "    </tr>\n",
       "    <tr>\n",
       "      <th>20577</th>\n",
       "      <td>461003835</td>\n",
       "      <td>20141218T000000</td>\n",
       "      <td>825000.0</td>\n",
       "      <td>3</td>\n",
       "      <td>3.50</td>\n",
       "      <td>2670</td>\n",
       "      <td>3000</td>\n",
       "      <td>2.0</td>\n",
       "      <td>0</td>\n",
       "      <td>0</td>\n",
       "      <td>...</td>\n",
       "      <td>9</td>\n",
       "      <td>1870</td>\n",
       "      <td>800</td>\n",
       "      <td>2014</td>\n",
       "      <td>0</td>\n",
       "      <td>98117</td>\n",
       "      <td>47.6813</td>\n",
       "      <td>-122.372</td>\n",
       "      <td>1750</td>\n",
       "      <td>5000</td>\n",
       "    </tr>\n",
       "    <tr>\n",
       "      <th>13900</th>\n",
       "      <td>1242700035</td>\n",
       "      <td>20141103T000000</td>\n",
       "      <td>772000.0</td>\n",
       "      <td>4</td>\n",
       "      <td>2.75</td>\n",
       "      <td>3470</td>\n",
       "      <td>70131</td>\n",
       "      <td>1.0</td>\n",
       "      <td>0</td>\n",
       "      <td>0</td>\n",
       "      <td>...</td>\n",
       "      <td>8</td>\n",
       "      <td>1750</td>\n",
       "      <td>1720</td>\n",
       "      <td>1962</td>\n",
       "      <td>0</td>\n",
       "      <td>98005</td>\n",
       "      <td>47.6339</td>\n",
       "      <td>-122.180</td>\n",
       "      <td>2950</td>\n",
       "      <td>43560</td>\n",
       "    </tr>\n",
       "  </tbody>\n",
       "</table>\n",
       "<p>5 rows × 21 columns</p>\n",
       "</div>"
      ],
      "text/plain": [
       "               id             date     price  bedrooms  bathrooms  \\\n",
       "504    8906200070  20150210T000000  280000.0         3       1.50   \n",
       "14791  2824600180  20141024T000000  713414.0         3       2.50   \n",
       "13055   293800120  20150430T000000  590000.0         4       2.50   \n",
       "20577   461003835  20141218T000000  825000.0         3       3.50   \n",
       "13900  1242700035  20141103T000000  772000.0         4       2.75   \n",
       "\n",
       "       sqft_living  sqft_lot  floors  waterfront  view     ...      grade  \\\n",
       "504           1670     11610     1.0           0     0     ...          7   \n",
       "14791         2830      6000     1.0           0     3     ...          9   \n",
       "13055         2940     29013     2.0           0     0     ...         10   \n",
       "20577         2670      3000     2.0           0     0     ...          9   \n",
       "13900         3470     70131     1.0           0     0     ...          8   \n",
       "\n",
       "       sqft_above  sqft_basement  yr_built  yr_renovated  zipcode      lat  \\\n",
       "504          1670              0      1963             0    98055  47.4404   \n",
       "14791        1730           1100      1954             0    98126  47.5751   \n",
       "13055        2940              0      1992             0    98077  47.7635   \n",
       "20577        1870            800      2014             0    98117  47.6813   \n",
       "13900        1750           1720      1962             0    98005  47.6339   \n",
       "\n",
       "          long  sqft_living15  sqft_lot15  \n",
       "504   -122.191           1930       10200  \n",
       "14791 -122.378           2040        5300  \n",
       "13055 -122.044           3010       34071  \n",
       "20577 -122.372           1750        5000  \n",
       "13900 -122.180           2950       43560  \n",
       "\n",
       "[5 rows x 21 columns]"
      ]
     },
     "execution_count": 3,
     "metadata": {},
     "output_type": "execute_result"
    }
   ],
   "source": [
    "df_train.head()"
   ]
  },
  {
   "cell_type": "code",
   "execution_count": 4,
   "metadata": {
    "collapsed": true
   },
   "outputs": [],
   "source": [
    "def parse_date(val):\n",
    "    return parser.parse(val).year"
   ]
  },
  {
   "cell_type": "code",
   "execution_count": 5,
   "metadata": {},
   "outputs": [
    {
     "name": "stderr",
     "output_type": "stream",
     "text": [
      "/Users/danhuang/anaconda3/lib/python3.6/site-packages/ipykernel_launcher.py:1: SettingWithCopyWarning: \n",
      "A value is trying to be set on a copy of a slice from a DataFrame.\n",
      "Try using .loc[row_indexer,col_indexer] = value instead\n",
      "\n",
      "See the caveats in the documentation: http://pandas.pydata.org/pandas-docs/stable/indexing.html#indexing-view-versus-copy\n",
      "  \"\"\"Entry point for launching an IPython kernel.\n"
     ]
    }
   ],
   "source": [
    "df_train['yr_sold'] = df_train['date'].apply(parse_date)"
   ]
  },
  {
   "cell_type": "code",
   "execution_count": 6,
   "metadata": {},
   "outputs": [
    {
     "data": {
      "text/html": [
       "<div>\n",
       "<style>\n",
       "    .dataframe thead tr:only-child th {\n",
       "        text-align: right;\n",
       "    }\n",
       "\n",
       "    .dataframe thead th {\n",
       "        text-align: left;\n",
       "    }\n",
       "\n",
       "    .dataframe tbody tr th {\n",
       "        vertical-align: top;\n",
       "    }\n",
       "</style>\n",
       "<table border=\"1\" class=\"dataframe\">\n",
       "  <thead>\n",
       "    <tr style=\"text-align: right;\">\n",
       "      <th></th>\n",
       "      <th>id</th>\n",
       "      <th>date</th>\n",
       "      <th>price</th>\n",
       "      <th>bedrooms</th>\n",
       "      <th>bathrooms</th>\n",
       "      <th>sqft_living</th>\n",
       "      <th>sqft_lot</th>\n",
       "      <th>floors</th>\n",
       "      <th>waterfront</th>\n",
       "      <th>view</th>\n",
       "      <th>...</th>\n",
       "      <th>sqft_above</th>\n",
       "      <th>sqft_basement</th>\n",
       "      <th>yr_built</th>\n",
       "      <th>yr_renovated</th>\n",
       "      <th>zipcode</th>\n",
       "      <th>lat</th>\n",
       "      <th>long</th>\n",
       "      <th>sqft_living15</th>\n",
       "      <th>sqft_lot15</th>\n",
       "      <th>yr_sold</th>\n",
       "    </tr>\n",
       "  </thead>\n",
       "  <tbody>\n",
       "    <tr>\n",
       "      <th>504</th>\n",
       "      <td>8906200070</td>\n",
       "      <td>20150210T000000</td>\n",
       "      <td>280000.0</td>\n",
       "      <td>3</td>\n",
       "      <td>1.50</td>\n",
       "      <td>1670</td>\n",
       "      <td>11610</td>\n",
       "      <td>1.0</td>\n",
       "      <td>0</td>\n",
       "      <td>0</td>\n",
       "      <td>...</td>\n",
       "      <td>1670</td>\n",
       "      <td>0</td>\n",
       "      <td>1963</td>\n",
       "      <td>0</td>\n",
       "      <td>98055</td>\n",
       "      <td>47.4404</td>\n",
       "      <td>-122.191</td>\n",
       "      <td>1930</td>\n",
       "      <td>10200</td>\n",
       "      <td>2015</td>\n",
       "    </tr>\n",
       "    <tr>\n",
       "      <th>14791</th>\n",
       "      <td>2824600180</td>\n",
       "      <td>20141024T000000</td>\n",
       "      <td>713414.0</td>\n",
       "      <td>3</td>\n",
       "      <td>2.50</td>\n",
       "      <td>2830</td>\n",
       "      <td>6000</td>\n",
       "      <td>1.0</td>\n",
       "      <td>0</td>\n",
       "      <td>3</td>\n",
       "      <td>...</td>\n",
       "      <td>1730</td>\n",
       "      <td>1100</td>\n",
       "      <td>1954</td>\n",
       "      <td>0</td>\n",
       "      <td>98126</td>\n",
       "      <td>47.5751</td>\n",
       "      <td>-122.378</td>\n",
       "      <td>2040</td>\n",
       "      <td>5300</td>\n",
       "      <td>2014</td>\n",
       "    </tr>\n",
       "    <tr>\n",
       "      <th>13055</th>\n",
       "      <td>293800120</td>\n",
       "      <td>20150430T000000</td>\n",
       "      <td>590000.0</td>\n",
       "      <td>4</td>\n",
       "      <td>2.50</td>\n",
       "      <td>2940</td>\n",
       "      <td>29013</td>\n",
       "      <td>2.0</td>\n",
       "      <td>0</td>\n",
       "      <td>0</td>\n",
       "      <td>...</td>\n",
       "      <td>2940</td>\n",
       "      <td>0</td>\n",
       "      <td>1992</td>\n",
       "      <td>0</td>\n",
       "      <td>98077</td>\n",
       "      <td>47.7635</td>\n",
       "      <td>-122.044</td>\n",
       "      <td>3010</td>\n",
       "      <td>34071</td>\n",
       "      <td>2015</td>\n",
       "    </tr>\n",
       "    <tr>\n",
       "      <th>20577</th>\n",
       "      <td>461003835</td>\n",
       "      <td>20141218T000000</td>\n",
       "      <td>825000.0</td>\n",
       "      <td>3</td>\n",
       "      <td>3.50</td>\n",
       "      <td>2670</td>\n",
       "      <td>3000</td>\n",
       "      <td>2.0</td>\n",
       "      <td>0</td>\n",
       "      <td>0</td>\n",
       "      <td>...</td>\n",
       "      <td>1870</td>\n",
       "      <td>800</td>\n",
       "      <td>2014</td>\n",
       "      <td>0</td>\n",
       "      <td>98117</td>\n",
       "      <td>47.6813</td>\n",
       "      <td>-122.372</td>\n",
       "      <td>1750</td>\n",
       "      <td>5000</td>\n",
       "      <td>2014</td>\n",
       "    </tr>\n",
       "    <tr>\n",
       "      <th>13900</th>\n",
       "      <td>1242700035</td>\n",
       "      <td>20141103T000000</td>\n",
       "      <td>772000.0</td>\n",
       "      <td>4</td>\n",
       "      <td>2.75</td>\n",
       "      <td>3470</td>\n",
       "      <td>70131</td>\n",
       "      <td>1.0</td>\n",
       "      <td>0</td>\n",
       "      <td>0</td>\n",
       "      <td>...</td>\n",
       "      <td>1750</td>\n",
       "      <td>1720</td>\n",
       "      <td>1962</td>\n",
       "      <td>0</td>\n",
       "      <td>98005</td>\n",
       "      <td>47.6339</td>\n",
       "      <td>-122.180</td>\n",
       "      <td>2950</td>\n",
       "      <td>43560</td>\n",
       "      <td>2014</td>\n",
       "    </tr>\n",
       "  </tbody>\n",
       "</table>\n",
       "<p>5 rows × 22 columns</p>\n",
       "</div>"
      ],
      "text/plain": [
       "               id             date     price  bedrooms  bathrooms  \\\n",
       "504    8906200070  20150210T000000  280000.0         3       1.50   \n",
       "14791  2824600180  20141024T000000  713414.0         3       2.50   \n",
       "13055   293800120  20150430T000000  590000.0         4       2.50   \n",
       "20577   461003835  20141218T000000  825000.0         3       3.50   \n",
       "13900  1242700035  20141103T000000  772000.0         4       2.75   \n",
       "\n",
       "       sqft_living  sqft_lot  floors  waterfront  view   ...     sqft_above  \\\n",
       "504           1670     11610     1.0           0     0   ...           1670   \n",
       "14791         2830      6000     1.0           0     3   ...           1730   \n",
       "13055         2940     29013     2.0           0     0   ...           2940   \n",
       "20577         2670      3000     2.0           0     0   ...           1870   \n",
       "13900         3470     70131     1.0           0     0   ...           1750   \n",
       "\n",
       "       sqft_basement  yr_built  yr_renovated  zipcode      lat     long  \\\n",
       "504                0      1963             0    98055  47.4404 -122.191   \n",
       "14791           1100      1954             0    98126  47.5751 -122.378   \n",
       "13055              0      1992             0    98077  47.7635 -122.044   \n",
       "20577            800      2014             0    98117  47.6813 -122.372   \n",
       "13900           1720      1962             0    98005  47.6339 -122.180   \n",
       "\n",
       "       sqft_living15  sqft_lot15  yr_sold  \n",
       "504             1930       10200     2015  \n",
       "14791           2040        5300     2014  \n",
       "13055           3010       34071     2015  \n",
       "20577           1750        5000     2014  \n",
       "13900           2950       43560     2014  \n",
       "\n",
       "[5 rows x 22 columns]"
      ]
     },
     "execution_count": 6,
     "metadata": {},
     "output_type": "execute_result"
    }
   ],
   "source": [
    "df_train.head()"
   ]
  },
  {
   "cell_type": "code",
   "execution_count": 7,
   "metadata": {},
   "outputs": [
    {
     "data": {
      "text/plain": [
       "array(['id', 'date', 'price', 'bedrooms', 'bathrooms', 'sqft_living',\n",
       "       'sqft_lot', 'floors', 'waterfront', 'view', 'condition', 'grade',\n",
       "       'sqft_above', 'sqft_basement', 'yr_built', 'yr_renovated',\n",
       "       'zipcode', 'lat', 'long', 'sqft_living15', 'sqft_lot15', 'yr_sold'], dtype=object)"
      ]
     },
     "execution_count": 7,
     "metadata": {},
     "output_type": "execute_result"
    }
   ],
   "source": [
    "df_train.columns.values"
   ]
  },
  {
   "cell_type": "code",
   "execution_count": 8,
   "metadata": {},
   "outputs": [
    {
     "data": {
      "image/png": "[encoded data removed]",
      "text/plain": [
       "<matplotlib.figure.Figure at 0x1136bdb70>"
      ]
     },
     "metadata": {},
     "output_type": "display_data"
    }
   ],
   "source": [
    "plt.plot(df_train['yr_sold'], df_train['price'], 'r,')\n",
    "plt.show()"
   ]
  },
  {
   "cell_type": "code",
   "execution_count": 9,
   "metadata": {
    "collapsed": true
   },
   "outputs": [],
   "source": [
    "train_data = np.array(df_train)[:,2:]\n",
    "train_X = train_data[:,1:].astype(np.float32)\n",
    "train_y = train_data[:,0].astype(np.float32)\n",
    "train_y = train_y.reshape(train_y.shape[0], 1)"
   ]
  },
  {
   "cell_type": "code",
   "execution_count": 10,
   "metadata": {
    "collapsed": true
   },
   "outputs": [],
   "source": [
    "stds_X, means_X = ml.std_normalize(train_X)"
   ]
  },
  {
   "cell_type": "code",
   "execution_count": 11,
   "metadata": {
    "collapsed": true
   },
   "outputs": [],
   "source": [
    "std_y, mean_y = ml.std_normalize(train_y.reshape(train_y.shape[0], 1))"
   ]
  },
  {
   "cell_type": "markdown",
   "metadata": {},
   "source": [
    "#### 2), train linear model"
   ]
  },
  {
   "cell_type": "code",
   "execution_count": 12,
   "metadata": {
    "collapsed": true
   },
   "outputs": [],
   "source": [
    "feature_cnt = train_X.shape[1]\n",
    "sample_cnt = train_X.shape[0]"
   ]
  },
  {
   "cell_type": "code",
   "execution_count": 14,
   "metadata": {},
   "outputs": [
    {
     "name": "stdout",
     "output_type": "stream",
     "text": [
      "epoch: 1000, cost:2637.246478246553\n",
      "epoch: 2000, cost:2570.734190650329\n",
      "epoch: 3000, cost:2570.0020547144286\n",
      "epoch: 4000, cost:2569.993197766309\n",
      "epoch: 5000, cost:2569.9930795479668\n",
      "epoch: 6000, cost:2569.9930777726163\n",
      "epoch: 7000, cost:2569.9930777426134\n",
      "epoch: 8000, cost:2569.9930777420545\n",
      "epoch: 9000, cost:2569.993077742043\n",
      "epoch: 10000, cost:2569.9930777420423\n",
      "training finished!\n",
      "final cost: 2569.9930777420423\n"
     ]
    }
   ],
   "source": [
    "W, b = ml.create_parameters(feature_cnt)\n",
    "\n",
    "# batch learning\n",
    "for epoch in range(0, 10000):\n",
    "    h = ml.linear_model(train_X, W, b)\n",
    "    dW, db = ml.mse_cost_dev(train_X, train_y, h)\n",
    "    W, b = ml.gd_update(W, b, dW, db, lr=0.01)\n",
    "    if (epoch + 1) % 1000 == 0:\n",
    "        cur_cost = ml.mse_cost(h, train_y)\n",
    "        print('epoch: {0}, cost:{1}'.format(epoch + 1, cur_cost))\n",
    "\n",
    "# finish\n",
    "predictions = ml.linear_model(train_X, W, b)\n",
    "final_cost = ml.mse_cost(predictions, train_y)\n",
    "print('training finished!')\n",
    "print('final cost: {0}'.format(final_cost, W, b))"
   ]
  },
  {
   "cell_type": "markdown",
   "metadata": {},
   "source": [
    "#### 3), using keras"
   ]
  },
  {
   "cell_type": "code",
   "execution_count": 15,
   "metadata": {},
   "outputs": [
    {
     "name": "stderr",
     "output_type": "stream",
     "text": [
      "Using TensorFlow backend.\n"
     ]
    }
   ],
   "source": [
    "from keras.layers import Dense, Activation, Flatten\n",
    "from keras.models import Sequential\n",
    "from keras.optimizers import Adam, SGD"
   ]
  },
  {
   "cell_type": "code",
   "execution_count": 16,
   "metadata": {
    "collapsed": true
   },
   "outputs": [],
   "source": [
    "train_X = train_X.reshape((train_X.shape[0], feature_cnt, 1))"
   ]
  },
  {
   "cell_type": "code",
   "execution_count": 21,
   "metadata": {},
   "outputs": [
    {
     "name": "stdout",
     "output_type": "stream",
     "text": [
      "_________________________________________________________________\n",
      "Layer (type)                 Output Shape              Param #   \n",
      "=================================================================\n",
      "flatten_2 (Flatten)          (None, 19)                0         \n",
      "_________________________________________________________________\n",
      "dense_3 (Dense)              (None, 1)                 20        \n",
      "_________________________________________________________________\n",
      "activation_3 (Activation)    (None, 1)                 0         \n",
      "=================================================================\n",
      "Total params: 20\n",
      "Trainable params: 20\n",
      "Non-trainable params: 0\n",
      "_________________________________________________________________\n"
     ]
    }
   ],
   "source": [
    "mlp = Sequential()\n",
    "\n",
    "mlp.add(Flatten(input_shape=(feature_cnt, 1)))\n",
    "mlp.add(Dense(1))\n",
    "mlp.add(Activation('linear'))\n",
    "\n",
    "mlp.summary()"
   ]
  },
  {
   "cell_type": "code",
   "execution_count": 22,
   "metadata": {
    "collapsed": true
   },
   "outputs": [],
   "source": [
    "sgd = SGD(lr=0.001, momentum=0.5)\n",
    "adam = Adam(lr=0.001)\n",
    "\n",
    "mlp.compile(optimizer=sgd, \n",
    "            loss='mse', \n",
    "            metrics=['mae'])"
   ]
  },
  {
   "cell_type": "code",
   "execution_count": 23,
   "metadata": {
    "scrolled": false
   },
   "outputs": [
    {
     "name": "stdout",
     "output_type": "stream",
     "text": [
      "Epoch 1/10\n",
      "17290/17290 [==============================] - 0s - loss: 0.7574 - mean_absolute_error: 0.5789     \n",
      "Epoch 2/10\n",
      "17290/17290 [==============================] - 0s - loss: 0.3523 - mean_absolute_error: 0.3755     \n",
      "Epoch 3/10\n",
      "17290/17290 [==============================] - 0s - loss: 0.3133 - mean_absolute_error: 0.3516     \n",
      "Epoch 4/10\n",
      "17290/17290 [==============================] - 0s - loss: 0.3045 - mean_absolute_error: 0.3460     \n",
      "Epoch 5/10\n",
      "17290/17290 [==============================] - 0s - loss: 0.3015 - mean_absolute_error: 0.3435     \n",
      "Epoch 6/10\n",
      "17290/17290 [==============================] - 0s - loss: 0.3001 - mean_absolute_error: 0.3411     \n",
      "Epoch 7/10\n",
      "17290/17290 [==============================] - 0s - loss: 0.3000 - mean_absolute_error: 0.3423     \n",
      "Epoch 8/10\n",
      "17290/17290 [==============================] - 0s - loss: 0.2987 - mean_absolute_error: 0.3417     \n",
      "Epoch 9/10\n",
      "17290/17290 [==============================] - 0s - loss: 0.2994 - mean_absolute_error: 0.3415     \n",
      "Epoch 10/10\n",
      "17290/17290 [==============================] - 0s - loss: 0.2992 - mean_absolute_error: 0.3418     \n"
     ]
    },
    {
     "data": {
      "text/plain": [
       "<keras.callbacks.History at 0x123afeeb8>"
      ]
     },
     "execution_count": 23,
     "metadata": {},
     "output_type": "execute_result"
    }
   ],
   "source": [
    "mlp.fit(train_X,\n",
    "        train_y,\n",
    "        batch_size=32,\n",
    "        epochs=10,\n",
    "        verbose=1)"
   ]
  },
  {
   "cell_type": "code",
   "execution_count": null,
   "metadata": {
    "collapsed": true
   },
   "outputs": [],
   "source": []
  }
 ],
 "metadata": {
  "kernelspec": {
   "display_name": "Python 3",
   "language": "python",
   "name": "python3"
  },
  "language_info": {
   "codemirror_mode": {
    "name": "ipython",
    "version": 3
   },
   "file_extension": ".py",
   "mimetype": "text/x-python",
   "name": "python",
   "nbconvert_exporter": "python",
   "pygments_lexer": "ipython3",
   "version": "3.6.1"
  }
 },
 "nbformat": 4,
 "nbformat_minor": 2
}
