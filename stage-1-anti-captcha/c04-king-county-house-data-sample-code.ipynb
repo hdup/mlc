{
 "cells": [
  {
   "cell_type": "markdown",
   "metadata": {
    "nbpresent": {
     "id": "e163f339-cea9-42c2-8621-d02f39b225c0"
    },
    "slideshow": {
     "slide_type": "slide"
    }
   },
   "source": [
    "## King County House Data"
   ]
  },
  {
   "cell_type": "code",
   "execution_count": 2,
   "metadata": {
    "collapsed": true,
    "nbpresent": {
     "id": "2c708aa4-af9c-4641-a121-2b5d22d6652e"
    },
    "slideshow": {
     "slide_type": "slide"
    }
   },
   "outputs": [],
   "source": [
    "import pandas as pd\n",
    "import numpy as np\n",
    "import matplotlib.pyplot as plt\n",
    "import utils\n",
    "import models as ml\n",
    "\n",
    "from sklearn.model_selection import train_test_split\n",
    "from dateutil import parser\n",
    "\n",
    "%matplotlib inline"
   ]
  },
  {
   "cell_type": "markdown",
   "metadata": {
    "nbpresent": {
     "id": "4e8ea550-d5b5-433a-b3ff-2219eb064abf"
    },
    "slideshow": {
     "slide_type": "slide"
    }
   },
   "source": [
    "#### 1), prepare data "
   ]
  },
  {
   "cell_type": "code",
   "execution_count": 3,
   "metadata": {
    "collapsed": true,
    "nbpresent": {
     "id": "826a9b79-5247-4e13-ae51-d33884d03909"
    },
    "slideshow": {
     "slide_type": "slide"
    }
   },
   "outputs": [],
   "source": [
    "df = pd.read_csv('./data/kc_house_data.csv')\n",
    "df.head()\n",
    "df_train, df_test = train_test_split(df, test_size = 0.2) \n",
    "\n",
    "np_train = np.array(df_train)\n",
    "np_test = np.array(df_test)\n",
    "\n",
    "np.savez_compressed('./data/kc_house_data.npz', train=np_train, test=np_test)"
   ]
  },
  {
   "cell_type": "code",
   "execution_count": 4,
   "metadata": {
    "collapsed": false,
    "nbpresent": {
     "id": "84289c5b-43bf-43c0-949d-bc8b716def43"
    },
    "scrolled": true
   },
   "outputs": [
    {
     "data": {
      "text/html": [
       "<div>\n",
       "<table border=\"1\" class=\"dataframe\">\n",
       "  <thead>\n",
       "    <tr style=\"text-align: right;\">\n",
       "      <th></th>\n",
       "      <th>id</th>\n",
       "      <th>date</th>\n",
       "      <th>price</th>\n",
       "      <th>bedrooms</th>\n",
       "      <th>bathrooms</th>\n",
       "      <th>sqft_living</th>\n",
       "      <th>sqft_lot</th>\n",
       "      <th>floors</th>\n",
       "      <th>waterfront</th>\n",
       "      <th>view</th>\n",
       "      <th>...</th>\n",
       "      <th>grade</th>\n",
       "      <th>sqft_above</th>\n",
       "      <th>sqft_basement</th>\n",
       "      <th>yr_built</th>\n",
       "      <th>yr_renovated</th>\n",
       "      <th>zipcode</th>\n",
       "      <th>lat</th>\n",
       "      <th>long</th>\n",
       "      <th>sqft_living15</th>\n",
       "      <th>sqft_lot15</th>\n",
       "    </tr>\n",
       "  </thead>\n",
       "  <tbody>\n",
       "    <tr>\n",
       "      <th>8309</th>\n",
       "      <td>1426049054</td>\n",
       "      <td>20140701T000000</td>\n",
       "      <td>450000.0</td>\n",
       "      <td>3</td>\n",
       "      <td>1.75</td>\n",
       "      <td>1400</td>\n",
       "      <td>13775</td>\n",
       "      <td>1.0</td>\n",
       "      <td>0</td>\n",
       "      <td>0</td>\n",
       "      <td>...</td>\n",
       "      <td>8</td>\n",
       "      <td>1400</td>\n",
       "      <td>0</td>\n",
       "      <td>1963</td>\n",
       "      <td>0</td>\n",
       "      <td>98028</td>\n",
       "      <td>47.7413</td>\n",
       "      <td>-122.259</td>\n",
       "      <td>2200</td>\n",
       "      <td>10450</td>\n",
       "    </tr>\n",
       "    <tr>\n",
       "      <th>16757</th>\n",
       "      <td>3392100050</td>\n",
       "      <td>20140625T000000</td>\n",
       "      <td>205000.0</td>\n",
       "      <td>3</td>\n",
       "      <td>1.00</td>\n",
       "      <td>1230</td>\n",
       "      <td>8750</td>\n",
       "      <td>1.0</td>\n",
       "      <td>0</td>\n",
       "      <td>0</td>\n",
       "      <td>...</td>\n",
       "      <td>6</td>\n",
       "      <td>1230</td>\n",
       "      <td>0</td>\n",
       "      <td>1965</td>\n",
       "      <td>0</td>\n",
       "      <td>98003</td>\n",
       "      <td>47.3266</td>\n",
       "      <td>-122.334</td>\n",
       "      <td>1230</td>\n",
       "      <td>8750</td>\n",
       "    </tr>\n",
       "    <tr>\n",
       "      <th>18291</th>\n",
       "      <td>7203220300</td>\n",
       "      <td>20140724T000000</td>\n",
       "      <td>895990.0</td>\n",
       "      <td>4</td>\n",
       "      <td>2.75</td>\n",
       "      <td>3555</td>\n",
       "      <td>6565</td>\n",
       "      <td>2.0</td>\n",
       "      <td>0</td>\n",
       "      <td>0</td>\n",
       "      <td>...</td>\n",
       "      <td>9</td>\n",
       "      <td>3555</td>\n",
       "      <td>0</td>\n",
       "      <td>2014</td>\n",
       "      <td>0</td>\n",
       "      <td>98053</td>\n",
       "      <td>47.6847</td>\n",
       "      <td>-122.017</td>\n",
       "      <td>3625</td>\n",
       "      <td>5637</td>\n",
       "    </tr>\n",
       "    <tr>\n",
       "      <th>18029</th>\n",
       "      <td>2558640110</td>\n",
       "      <td>20140514T000000</td>\n",
       "      <td>498000.0</td>\n",
       "      <td>4</td>\n",
       "      <td>2.75</td>\n",
       "      <td>2270</td>\n",
       "      <td>7375</td>\n",
       "      <td>1.0</td>\n",
       "      <td>0</td>\n",
       "      <td>0</td>\n",
       "      <td>...</td>\n",
       "      <td>7</td>\n",
       "      <td>1290</td>\n",
       "      <td>980</td>\n",
       "      <td>1973</td>\n",
       "      <td>0</td>\n",
       "      <td>98034</td>\n",
       "      <td>47.7222</td>\n",
       "      <td>-122.168</td>\n",
       "      <td>1750</td>\n",
       "      <td>7760</td>\n",
       "    </tr>\n",
       "    <tr>\n",
       "      <th>17965</th>\n",
       "      <td>4402700593</td>\n",
       "      <td>20150428T000000</td>\n",
       "      <td>395000.0</td>\n",
       "      <td>2</td>\n",
       "      <td>1.00</td>\n",
       "      <td>1440</td>\n",
       "      <td>7808</td>\n",
       "      <td>1.0</td>\n",
       "      <td>0</td>\n",
       "      <td>0</td>\n",
       "      <td>...</td>\n",
       "      <td>7</td>\n",
       "      <td>860</td>\n",
       "      <td>580</td>\n",
       "      <td>1949</td>\n",
       "      <td>0</td>\n",
       "      <td>98133</td>\n",
       "      <td>47.7431</td>\n",
       "      <td>-122.336</td>\n",
       "      <td>1550</td>\n",
       "      <td>7682</td>\n",
       "    </tr>\n",
       "  </tbody>\n",
       "</table>\n",
       "<p>5 rows × 21 columns</p>\n",
       "</div>"
      ],
      "text/plain": [
       "               id             date     price  bedrooms  bathrooms  \\\n",
       "8309   1426049054  20140701T000000  450000.0         3       1.75   \n",
       "16757  3392100050  20140625T000000  205000.0         3       1.00   \n",
       "18291  7203220300  20140724T000000  895990.0         4       2.75   \n",
       "18029  2558640110  20140514T000000  498000.0         4       2.75   \n",
       "17965  4402700593  20150428T000000  395000.0         2       1.00   \n",
       "\n",
       "       sqft_living  sqft_lot  floors  waterfront  view     ...      grade  \\\n",
       "8309          1400     13775     1.0           0     0     ...          8   \n",
       "16757         1230      8750     1.0           0     0     ...          6   \n",
       "18291         3555      6565     2.0           0     0     ...          9   \n",
       "18029         2270      7375     1.0           0     0     ...          7   \n",
       "17965         1440      7808     1.0           0     0     ...          7   \n",
       "\n",
       "       sqft_above  sqft_basement  yr_built  yr_renovated  zipcode      lat  \\\n",
       "8309         1400              0      1963             0    98028  47.7413   \n",
       "16757        1230              0      1965             0    98003  47.3266   \n",
       "18291        3555              0      2014             0    98053  47.6847   \n",
       "18029        1290            980      1973             0    98034  47.7222   \n",
       "17965         860            580      1949             0    98133  47.7431   \n",
       "\n",
       "          long  sqft_living15  sqft_lot15  \n",
       "8309  -122.259           2200       10450  \n",
       "16757 -122.334           1230        8750  \n",
       "18291 -122.017           3625        5637  \n",
       "18029 -122.168           1750        7760  \n",
       "17965 -122.336           1550        7682  \n",
       "\n",
       "[5 rows x 21 columns]"
      ]
     },
     "execution_count": 4,
     "metadata": {},
     "output_type": "execute_result"
    }
   ],
   "source": [
    "df_train.head()"
   ]
  },
  {
   "cell_type": "code",
   "execution_count": 5,
   "metadata": {
    "collapsed": true,
    "nbpresent": {
     "id": "20ee47f7-0ec4-4d87-83f7-53e7d21d7ceb"
    }
   },
   "outputs": [],
   "source": [
    "def parse_date(val):\n",
    "    return parser.parse(val).year"
   ]
  },
  {
   "cell_type": "code",
   "execution_count": 6,
   "metadata": {
    "collapsed": false,
    "nbpresent": {
     "id": "2f07ead0-35cb-4c3b-bd34-182508b1e9b0"
    }
   },
   "outputs": [
    {
     "name": "stderr",
     "output_type": "stream",
     "text": [
      "C:\\Users\\evitself\\Anaconda3\\lib\\site-packages\\ipykernel\\__main__.py:1: SettingWithCopyWarning: \n",
      "A value is trying to be set on a copy of a slice from a DataFrame.\n",
      "Try using .loc[row_indexer,col_indexer] = value instead\n",
      "\n",
      "See the caveats in the documentation: http://pandas.pydata.org/pandas-docs/stable/indexing.html#indexing-view-versus-copy\n",
      "  if __name__ == '__main__':\n"
     ]
    }
   ],
   "source": [
    "df_train['yr_sold'] = df_train['date'].apply(parse_date)"
   ]
  },
  {
   "cell_type": "code",
   "execution_count": 7,
   "metadata": {
    "collapsed": false,
    "nbpresent": {
     "id": "037d6fa4-56fc-4727-8541-f76c7e4a0af7"
    }
   },
   "outputs": [
    {
     "data": {
      "text/html": [
       "<div>\n",
       "<table border=\"1\" class=\"dataframe\">\n",
       "  <thead>\n",
       "    <tr style=\"text-align: right;\">\n",
       "      <th></th>\n",
       "      <th>id</th>\n",
       "      <th>date</th>\n",
       "      <th>price</th>\n",
       "      <th>bedrooms</th>\n",
       "      <th>bathrooms</th>\n",
       "      <th>sqft_living</th>\n",
       "      <th>sqft_lot</th>\n",
       "      <th>floors</th>\n",
       "      <th>waterfront</th>\n",
       "      <th>view</th>\n",
       "      <th>...</th>\n",
       "      <th>sqft_above</th>\n",
       "      <th>sqft_basement</th>\n",
       "      <th>yr_built</th>\n",
       "      <th>yr_renovated</th>\n",
       "      <th>zipcode</th>\n",
       "      <th>lat</th>\n",
       "      <th>long</th>\n",
       "      <th>sqft_living15</th>\n",
       "      <th>sqft_lot15</th>\n",
       "      <th>yr_sold</th>\n",
       "    </tr>\n",
       "  </thead>\n",
       "  <tbody>\n",
       "    <tr>\n",
       "      <th>8309</th>\n",
       "      <td>1426049054</td>\n",
       "      <td>20140701T000000</td>\n",
       "      <td>450000.0</td>\n",
       "      <td>3</td>\n",
       "      <td>1.75</td>\n",
       "      <td>1400</td>\n",
       "      <td>13775</td>\n",
       "      <td>1.0</td>\n",
       "      <td>0</td>\n",
       "      <td>0</td>\n",
       "      <td>...</td>\n",
       "      <td>1400</td>\n",
       "      <td>0</td>\n",
       "      <td>1963</td>\n",
       "      <td>0</td>\n",
       "      <td>98028</td>\n",
       "      <td>47.7413</td>\n",
       "      <td>-122.259</td>\n",
       "      <td>2200</td>\n",
       "      <td>10450</td>\n",
       "      <td>2014</td>\n",
       "    </tr>\n",
       "    <tr>\n",
       "      <th>16757</th>\n",
       "      <td>3392100050</td>\n",
       "      <td>20140625T000000</td>\n",
       "      <td>205000.0</td>\n",
       "      <td>3</td>\n",
       "      <td>1.00</td>\n",
       "      <td>1230</td>\n",
       "      <td>8750</td>\n",
       "      <td>1.0</td>\n",
       "      <td>0</td>\n",
       "      <td>0</td>\n",
       "      <td>...</td>\n",
       "      <td>1230</td>\n",
       "      <td>0</td>\n",
       "      <td>1965</td>\n",
       "      <td>0</td>\n",
       "      <td>98003</td>\n",
       "      <td>47.3266</td>\n",
       "      <td>-122.334</td>\n",
       "      <td>1230</td>\n",
       "      <td>8750</td>\n",
       "      <td>2014</td>\n",
       "    </tr>\n",
       "    <tr>\n",
       "      <th>18291</th>\n",
       "      <td>7203220300</td>\n",
       "      <td>20140724T000000</td>\n",
       "      <td>895990.0</td>\n",
       "      <td>4</td>\n",
       "      <td>2.75</td>\n",
       "      <td>3555</td>\n",
       "      <td>6565</td>\n",
       "      <td>2.0</td>\n",
       "      <td>0</td>\n",
       "      <td>0</td>\n",
       "      <td>...</td>\n",
       "      <td>3555</td>\n",
       "      <td>0</td>\n",
       "      <td>2014</td>\n",
       "      <td>0</td>\n",
       "      <td>98053</td>\n",
       "      <td>47.6847</td>\n",
       "      <td>-122.017</td>\n",
       "      <td>3625</td>\n",
       "      <td>5637</td>\n",
       "      <td>2014</td>\n",
       "    </tr>\n",
       "    <tr>\n",
       "      <th>18029</th>\n",
       "      <td>2558640110</td>\n",
       "      <td>20140514T000000</td>\n",
       "      <td>498000.0</td>\n",
       "      <td>4</td>\n",
       "      <td>2.75</td>\n",
       "      <td>2270</td>\n",
       "      <td>7375</td>\n",
       "      <td>1.0</td>\n",
       "      <td>0</td>\n",
       "      <td>0</td>\n",
       "      <td>...</td>\n",
       "      <td>1290</td>\n",
       "      <td>980</td>\n",
       "      <td>1973</td>\n",
       "      <td>0</td>\n",
       "      <td>98034</td>\n",
       "      <td>47.7222</td>\n",
       "      <td>-122.168</td>\n",
       "      <td>1750</td>\n",
       "      <td>7760</td>\n",
       "      <td>2014</td>\n",
       "    </tr>\n",
       "    <tr>\n",
       "      <th>17965</th>\n",
       "      <td>4402700593</td>\n",
       "      <td>20150428T000000</td>\n",
       "      <td>395000.0</td>\n",
       "      <td>2</td>\n",
       "      <td>1.00</td>\n",
       "      <td>1440</td>\n",
       "      <td>7808</td>\n",
       "      <td>1.0</td>\n",
       "      <td>0</td>\n",
       "      <td>0</td>\n",
       "      <td>...</td>\n",
       "      <td>860</td>\n",
       "      <td>580</td>\n",
       "      <td>1949</td>\n",
       "      <td>0</td>\n",
       "      <td>98133</td>\n",
       "      <td>47.7431</td>\n",
       "      <td>-122.336</td>\n",
       "      <td>1550</td>\n",
       "      <td>7682</td>\n",
       "      <td>2015</td>\n",
       "    </tr>\n",
       "  </tbody>\n",
       "</table>\n",
       "<p>5 rows × 22 columns</p>\n",
       "</div>"
      ],
      "text/plain": [
       "               id             date     price  bedrooms  bathrooms  \\\n",
       "8309   1426049054  20140701T000000  450000.0         3       1.75   \n",
       "16757  3392100050  20140625T000000  205000.0         3       1.00   \n",
       "18291  7203220300  20140724T000000  895990.0         4       2.75   \n",
       "18029  2558640110  20140514T000000  498000.0         4       2.75   \n",
       "17965  4402700593  20150428T000000  395000.0         2       1.00   \n",
       "\n",
       "       sqft_living  sqft_lot  floors  waterfront  view   ...     sqft_above  \\\n",
       "8309          1400     13775     1.0           0     0   ...           1400   \n",
       "16757         1230      8750     1.0           0     0   ...           1230   \n",
       "18291         3555      6565     2.0           0     0   ...           3555   \n",
       "18029         2270      7375     1.0           0     0   ...           1290   \n",
       "17965         1440      7808     1.0           0     0   ...            860   \n",
       "\n",
       "       sqft_basement  yr_built  yr_renovated  zipcode      lat     long  \\\n",
       "8309               0      1963             0    98028  47.7413 -122.259   \n",
       "16757              0      1965             0    98003  47.3266 -122.334   \n",
       "18291              0      2014             0    98053  47.6847 -122.017   \n",
       "18029            980      1973             0    98034  47.7222 -122.168   \n",
       "17965            580      1949             0    98133  47.7431 -122.336   \n",
       "\n",
       "       sqft_living15  sqft_lot15  yr_sold  \n",
       "8309            2200       10450     2014  \n",
       "16757           1230        8750     2014  \n",
       "18291           3625        5637     2014  \n",
       "18029           1750        7760     2014  \n",
       "17965           1550        7682     2015  \n",
       "\n",
       "[5 rows x 22 columns]"
      ]
     },
     "execution_count": 7,
     "metadata": {},
     "output_type": "execute_result"
    }
   ],
   "source": [
    "df_train.head()"
   ]
  },
  {
   "cell_type": "code",
   "execution_count": 8,
   "metadata": {
    "collapsed": false,
    "nbpresent": {
     "id": "60726416-92c2-473e-ad71-22fd35ec1d65"
    }
   },
   "outputs": [
    {
     "data": {
      "text/plain": [
       "array(['id', 'date', 'price', 'bedrooms', 'bathrooms', 'sqft_living',\n",
       "       'sqft_lot', 'floors', 'waterfront', 'view', 'condition', 'grade',\n",
       "       'sqft_above', 'sqft_basement', 'yr_built', 'yr_renovated',\n",
       "       'zipcode', 'lat', 'long', 'sqft_living15', 'sqft_lot15', 'yr_sold'], dtype=object)"
      ]
     },
     "execution_count": 8,
     "metadata": {},
     "output_type": "execute_result"
    }
   ],
   "source": [
    "df_train.columns.values"
   ]
  },
  {
   "cell_type": "code",
   "execution_count": 9,
   "metadata": {
    "collapsed": false,
    "nbpresent": {
     "id": "b5be75e6-40f1-4047-b28a-98f7200d05c9"
    }
   },
   "outputs": [
    {
     "data": {
      "image/png": "[encoded data removed]",
      "text/plain": [
       "<matplotlib.figure.Figure at 0x2de24392978>"
      ]
     },
     "metadata": {},
     "output_type": "display_data"
    }
   ],
   "source": [
    "plt.plot(df_train['yr_sold'], df_train['price'], 'r,')\n",
    "plt.show()"
   ]
  },
  {
   "cell_type": "code",
   "execution_count": 10,
   "metadata": {
    "collapsed": true,
    "nbpresent": {
     "id": "c88e576c-6812-45b7-990d-56340a2e5e6a"
    }
   },
   "outputs": [],
   "source": [
    "train_data = np.array(df_train)[:,2:]\n",
    "train_X = train_data[:,1:].astype(np.float32)\n",
    "train_y = train_data[:,0].astype(np.float32)\n",
    "train_y = train_y.reshape(train_y.shape[0], 1)"
   ]
  },
  {
   "cell_type": "code",
   "execution_count": 11,
   "metadata": {
    "collapsed": true,
    "nbpresent": {
     "id": "48d4ddb0-d055-4e9e-a092-2cb324ddf79e"
    }
   },
   "outputs": [],
   "source": [
    "stds_X, means_X = ml.std_normalize(train_X)"
   ]
  },
  {
   "cell_type": "code",
   "execution_count": 12,
   "metadata": {
    "collapsed": true,
    "nbpresent": {
     "id": "63435568-acce-4719-982b-e3adaf74e1a9"
    }
   },
   "outputs": [],
   "source": [
    "std_y, mean_y = ml.std_normalize(train_y.reshape(train_y.shape[0], 1))"
   ]
  },
  {
   "cell_type": "markdown",
   "metadata": {
    "nbpresent": {
     "id": "fedbb062-018a-4183-bc86-5d59ac49bb91"
    }
   },
   "source": [
    "#### 2), train linear model"
   ]
  },
  {
   "cell_type": "code",
   "execution_count": 13,
   "metadata": {
    "collapsed": true,
    "nbpresent": {
     "id": "24bb9cfd-6a55-4180-aad5-e3a22a226b73"
    }
   },
   "outputs": [],
   "source": [
    "feature_cnt = train_X.shape[1]\n",
    "sample_cnt = train_X.shape[0]"
   ]
  },
  {
   "cell_type": "code",
   "execution_count": 14,
   "metadata": {
    "collapsed": false,
    "nbpresent": {
     "id": "28e6c2b1-b587-4195-874f-35d4c3f956b6"
    }
   },
   "outputs": [
    {
     "name": "stdout",
     "output_type": "stream",
     "text": [
      "epoch: 1000, cost:[[ 0.15446093]]\n",
      "epoch: 2000, cost:[[ 0.15024163]]\n",
      "epoch: 3000, cost:[[ 0.15016424]]\n",
      "epoch: 4000, cost:[[ 0.15016262]]\n",
      "epoch: 5000, cost:[[ 0.15016259]]\n",
      "epoch: 6000, cost:[[ 0.15016259]]\n",
      "epoch: 7000, cost:[[ 0.15016259]]\n",
      "epoch: 8000, cost:[[ 0.15016259]]\n",
      "epoch: 9000, cost:[[ 0.15016259]]\n",
      "epoch: 10000, cost:[[ 0.15016259]]\n",
      "training finished!\n",
      "final cost: [[ 0.15016259]]\n"
     ]
    }
   ],
   "source": [
    "W, b = ml.create_parameters(feature_cnt)\n",
    "\n",
    "# batch learning\n",
    "for epoch in range(0, 10000):\n",
    "    h = ml.linear_model(train_X, W, b)\n",
    "    dW, db = ml.mse_cost_dev(train_X, train_y, h)\n",
    "    W, b = ml.gd_update(W, b, dW, db, lr=0.01)\n",
    "    if (epoch + 1) % 1000 == 0:\n",
    "        cur_cost = ml.mse_cost(h, train_y)\n",
    "        print('epoch: {0}, cost:{1}'.format(epoch + 1, cur_cost))\n",
    "\n",
    "# finish\n",
    "predictions = ml.linear_model(train_X, W, b)\n",
    "final_cost = ml.mse_cost(predictions, train_y)\n",
    "print('training finished!')\n",
    "print('final cost: {0}'.format(final_cost, W, b))"
   ]
  },
  {
   "cell_type": "markdown",
   "metadata": {
    "nbpresent": {
     "id": "4183d98f-aa1b-4deb-b474-03fee165a740"
    }
   },
   "source": [
    "#### 3), using keras"
   ]
  },
  {
   "cell_type": "code",
   "execution_count": 20,
   "metadata": {
    "collapsed": false,
    "nbpresent": {
     "id": "fcbefa89-d8da-4c62-9d32-e87cb81cdc1b"
    }
   },
   "outputs": [],
   "source": [
    "from keras.layers import Dense, Activation, Flatten\n",
    "from keras.layers import BatchNormalization, Dropout\n",
    "from keras.models import Sequential\n",
    "from keras.optimizers import Adam, SGD"
   ]
  },
  {
   "cell_type": "code",
   "execution_count": 16,
   "metadata": {
    "collapsed": true,
    "nbpresent": {
     "id": "c7d7f126-3ebd-4e11-9323-d414b8d31fce"
    }
   },
   "outputs": [],
   "source": [
    "train_X = train_X.reshape((train_X.shape[0], feature_cnt, 1))"
   ]
  },
  {
   "cell_type": "code",
   "execution_count": 45,
   "metadata": {
    "collapsed": false,
    "nbpresent": {
     "id": "b92f0cf7-4835-4081-b77f-b31276edb381"
    },
    "scrolled": false
   },
   "outputs": [
    {
     "name": "stdout",
     "output_type": "stream",
     "text": [
      "_________________________________________________________________\n",
      "Layer (type)                 Output Shape              Param #   \n",
      "=================================================================\n",
      "flatten_5 (Flatten)          (None, 19)                0         \n",
      "_________________________________________________________________\n",
      "dense_12 (Dense)             (None, 500)               10000     \n",
      "_________________________________________________________________\n",
      "batch_normalization_11 (Batc (None, 500)               2000      \n",
      "_________________________________________________________________\n",
      "activation_12 (Activation)   (None, 500)               0         \n",
      "_________________________________________________________________\n",
      "dense_13 (Dense)             (None, 300)               150300    \n",
      "_________________________________________________________________\n",
      "batch_normalization_12 (Batc (None, 300)               1200      \n",
      "_________________________________________________________________\n",
      "activation_13 (Activation)   (None, 300)               0         \n",
      "_________________________________________________________________\n",
      "dense_14 (Dense)             (None, 100)               30100     \n",
      "_________________________________________________________________\n",
      "batch_normalization_13 (Batc (None, 100)               400       \n",
      "_________________________________________________________________\n",
      "activation_14 (Activation)   (None, 100)               0         \n",
      "_________________________________________________________________\n",
      "dense_15 (Dense)             (None, 1)                 101       \n",
      "_________________________________________________________________\n",
      "batch_normalization_14 (Batc (None, 1)                 4         \n",
      "_________________________________________________________________\n",
      "activation_15 (Activation)   (None, 1)                 0         \n",
      "=================================================================\n",
      "Total params: 194,105\n",
      "Trainable params: 192,303\n",
      "Non-trainable params: 1,802\n",
      "_________________________________________________________________\n"
     ]
    }
   ],
   "source": [
    "mlp = Sequential()\n",
    "\n",
    "mlp.add(Flatten(input_shape=(feature_cnt, 1)))\n",
    "mlp.add(Dense(500))\n",
    "mlp.add(BatchNormalization())\n",
    "mlp.add(Activation('tanh'))\n",
    "mlp.add(Dense(300))\n",
    "mlp.add(BatchNormalization())\n",
    "mlp.add(Activation('tanh'))\n",
    "mlp.add(Dense(100))\n",
    "mlp.add(BatchNormalization())\n",
    "mlp.add(Activation('tanh'))\n",
    "mlp.add(Dense(1))\n",
    "mlp.add(BatchNormalization())\n",
    "mlp.add(Activation('linear'))\n",
    "\n",
    "mlp.summary()"
   ]
  },
  {
   "cell_type": "code",
   "execution_count": 46,
   "metadata": {
    "collapsed": true,
    "nbpresent": {
     "id": "2accce77-2a62-4ae4-8569-e16537763b1c"
    }
   },
   "outputs": [],
   "source": [
    "sgd = SGD(lr=0.001, momentum=0.5)\n",
    "adam = Adam(lr=0.001)\n",
    "\n",
    "mlp.compile(optimizer='adam', \n",
    "            loss='mse', \n",
    "            metrics=['mae'])"
   ]
  },
  {
   "cell_type": "code",
   "execution_count": 47,
   "metadata": {
    "collapsed": false,
    "nbpresent": {
     "id": "1ad04d69-a163-49e6-b200-8a3e9a2a6b73"
    },
    "scrolled": false
   },
   "outputs": [
    {
     "name": "stdout",
     "output_type": "stream",
     "text": [
      "epoch 1, cost [0.042596533894538879, 0.15156526863574982]\n",
      "epoch 2, cost [0.023116141557693481, 0.11406562477350235]\n",
      "epoch 3, cost [0.017665963619947433, 0.1018495187163353]\n",
      "epoch 4, cost [0.011753103695809841, 0.081339552998542786]\n",
      "epoch 5, cost [0.011164415627717972, 0.079401932656764984]\n",
      "epoch 6, cost [0.0072766509838402271, 0.062301784753799438]\n",
      "epoch 7, cost [0.0063523086719214916, 0.059343673288822174]\n",
      "epoch 8, cost [0.006051134318113327, 0.056869737803936005]\n",
      "epoch 9, cost [0.006089432630687952, 0.059468001127243042]\n",
      "epoch 10, cost [0.0064008594490587711, 0.06160716712474823]\n",
      "epoch 11, cost [0.0049832561053335667, 0.053613379597663879]\n",
      "epoch 12, cost [0.0036616930738091469, 0.044653140008449554]\n",
      "epoch 13, cost [0.0044356677681207657, 0.051452264189720154]\n",
      "epoch 14, cost [0.0054807658307254314, 0.0596189945936203]\n",
      "epoch 15, cost [0.0035088218282908201, 0.045463010668754578]\n",
      "epoch 16, cost [0.0021140612661838531, 0.033490635454654694]\n",
      "epoch 17, cost [0.0027109375223517418, 0.038814831525087357]\n",
      "epoch 18, cost [0.0022268195170909166, 0.035365022718906403]\n",
      "epoch 19, cost [0.0014960614498704672, 0.028214573860168457]\n",
      "epoch 20, cost [0.0023670454975217581, 0.03518097847700119]\n",
      "epoch 21, cost [0.0025837435387074947, 0.040727272629737854]\n",
      "epoch 22, cost [0.0019667521119117737, 0.031445115804672241]\n",
      "epoch 23, cost [0.0019548807758837938, 0.033897686749696732]\n",
      "epoch 24, cost [0.0014254453126341105, 0.027543431147933006]\n",
      "epoch 25, cost [0.001334702130407095, 0.027003195136785507]\n",
      "epoch 26, cost [0.0016107655828818679, 0.031196005642414093]\n",
      "epoch 27, cost [0.0013054272858425975, 0.027070038020610809]\n",
      "epoch 28, cost [0.0011191652156412601, 0.0237398911267519]\n",
      "epoch 29, cost [0.001217616256326437, 0.02558743953704834]\n",
      "epoch 30, cost [0.00098166556563228369, 0.020845841616392136]\n",
      "epoch 31, cost [0.001811120891943574, 0.033362492918968201]\n",
      "epoch 32, cost [0.00099789979867637157, 0.022127078846096992]\n",
      "epoch 33, cost [0.0014012150932103395, 0.027777139097452164]\n",
      "epoch 34, cost [0.00085654784925282001, 0.020221859216690063]\n",
      "epoch 35, cost [0.0012536115245893598, 0.02552727609872818]\n",
      "epoch 36, cost [0.0012580358888953924, 0.025458786636590958]\n",
      "epoch 37, cost [0.00098597689066082239, 0.022378796711564064]\n",
      "epoch 38, cost [0.0011035543866455555, 0.023898674175143242]\n",
      "epoch 39, cost [0.0010883484501391649, 0.024294456467032433]\n",
      "epoch 40, cost [0.00076899700798094273, 0.019194319844245911]\n",
      "epoch 41, cost [0.00071686645969748497, 0.018577434122562408]\n",
      "epoch 42, cost [0.00097277143504470587, 0.022560084238648415]\n",
      "epoch 43, cost [0.0006625752430409193, 0.017304709181189537]\n",
      "epoch 44, cost [0.0007146722637116909, 0.017532872036099434]\n",
      "epoch 45, cost [0.00090803147759288549, 0.021597990766167641]\n",
      "epoch 46, cost [0.00065971288131549954, 0.017035061493515968]\n",
      "epoch 47, cost [0.00075431627919897437, 0.019165864214301109]\n",
      "epoch 48, cost [0.0011683984193950891, 0.024299081414937973]\n",
      "epoch 49, cost [0.0009734177147038281, 0.0227342639118433]\n",
      "epoch 50, cost [0.00096143706468865275, 0.02164725586771965]\n",
      "epoch 51, cost [0.00070254231104627252, 0.018420400097966194]\n",
      "epoch 52, cost [0.0006740400567650795, 0.017762081697583199]\n",
      "epoch 53, cost [0.00063957989914342761, 0.017045389860868454]\n",
      "epoch 54, cost [0.0008085844456218183, 0.020657407119870186]\n",
      "epoch 55, cost [0.00059572106692939997, 0.016455652192234993]\n",
      "epoch 56, cost [0.00072457373607903719, 0.019222376868128777]\n",
      "epoch 57, cost [0.00085456605302169919, 0.020940521731972694]\n",
      "epoch 58, cost [0.00060993066290393472, 0.017357205972075462]\n",
      "epoch 59, cost [0.00050135242054238915, 0.014212223701179028]\n",
      "epoch 60, cost [0.00056576094357296824, 0.015658615157008171]\n",
      "epoch 61, cost [0.00057795224711298943, 0.015831379219889641]\n",
      "epoch 62, cost [0.00064139295136556029, 0.015619144774973392]\n",
      "epoch 63, cost [0.0005070690531283617, 0.01386511605232954]\n",
      "epoch 64, cost [0.00053754891268908978, 0.015494700521230698]\n",
      "epoch 65, cost [0.00051825749687850475, 0.014815717935562134]\n",
      "epoch 66, cost [0.00066039484227076173, 0.01734868623316288]\n",
      "epoch 67, cost [0.00064582802588120103, 0.016534974798560143]\n",
      "epoch 68, cost [0.00066019862424582243, 0.017709784209728241]\n",
      "epoch 69, cost [0.00052424275781959295, 0.014552146196365356]\n",
      "epoch 70, cost [0.00049948605010285974, 0.014531265944242477]\n",
      "epoch 71, cost [0.00048337838961742818, 0.013190025463700294]\n",
      "epoch 72, cost [0.00061464624013751745, 0.016970198601484299]\n",
      "epoch 73, cost [0.00046077126171439886, 0.013313576579093933]\n",
      "epoch 74, cost [0.0005984022282063961, 0.016165098175406456]\n",
      "epoch 75, cost [0.00055822578724473715, 0.015787448734045029]\n",
      "epoch 76, cost [0.00052820518612861633, 0.015115771442651749]\n",
      "epoch 77, cost [0.00052616762695834041, 0.015062123537063599]\n",
      "epoch 78, cost [0.00050605088472366333, 0.014231611043214798]\n",
      "epoch 79, cost [0.00044783699559047818, 0.013179933652281761]\n",
      "epoch 80, cost [0.00065016036387532949, 0.018032945692539215]\n",
      "epoch 81, cost [0.00038043980021029711, 0.011176672764122486]\n",
      "epoch 82, cost [0.00043487298535183072, 0.01262020505964756]\n",
      "epoch 83, cost [0.00051021075341850519, 0.014212720096111298]\n",
      "epoch 84, cost [0.00049424613825976849, 0.014336287975311279]\n",
      "epoch 85, cost [0.00052080146269872785, 0.014895777218043804]\n",
      "epoch 86, cost [0.00039987184572964907, 0.01159924641251564]\n",
      "epoch 87, cost [0.00050957466010004282, 0.01449400931596756]\n",
      "epoch 88, cost [0.00053589686285704374, 0.014791413210332394]\n",
      "epoch 89, cost [0.000419276999309659, 0.012248446233570576]\n",
      "epoch 90, cost [0.00053634139476343989, 0.013867438770830631]\n",
      "epoch 91, cost [0.00040928935050033033, 0.012252765707671642]\n",
      "epoch 92, cost [0.00042877532541751862, 0.012188299559056759]\n",
      "epoch 93, cost [0.00042335456237196922, 0.012715430930256844]\n",
      "epoch 94, cost [0.00036127513158135116, 0.010598655790090561]\n",
      "epoch 95, cost [0.00045014050556346774, 0.01314904447644949]\n",
      "epoch 96, cost [0.0005324044032022357, 0.015414323657751083]\n",
      "epoch 97, cost [0.00037619320210069418, 0.010994644835591316]\n",
      "epoch 98, cost [0.00060077832313254476, 0.017064141109585762]\n",
      "epoch 99, cost [0.00053641648264601827, 0.015811318531632423]\n",
      "epoch 100, cost [0.00037202471867203712, 0.011110742576420307]\n",
      "finished\n"
     ]
    }
   ],
   "source": [
    "epochs = 100\n",
    "\n",
    "for epoch in range(0, epochs):\n",
    "    mlp.fit(train_X,\n",
    "            train_y,\n",
    "            batch_size=1000,\n",
    "            epochs=100,\n",
    "            verbose=0)\n",
    "\n",
    "    evl = mlp.evaluate(train_X, \n",
    "                 train_y, \n",
    "                 batch_size=sample_cnt, \n",
    "                 verbose=0)\n",
    "\n",
    "    print(\"epoch {0}, cost {1}\".format(epoch+1, evl))\n",
    "\n",
    "print(\"finished\")"
   ]
  },
  {
   "cell_type": "code",
   "execution_count": 56,
   "metadata": {
    "collapsed": true
   },
   "outputs": [],
   "source": [
    "def parse_back(h):\n",
    "    return h*std_y+mean_y"
   ]
  },
  {
   "cell_type": "code",
   "execution_count": 59,
   "metadata": {
    "collapsed": true
   },
   "outputs": [],
   "source": [
    "k=2300"
   ]
  },
  {
   "cell_type": "code",
   "execution_count": 60,
   "metadata": {
    "collapsed": false,
    "nbpresent": {
     "id": "461469e3-ed78-4f47-91f1-dcaa23930f44"
    }
   },
   "outputs": [
    {
     "data": {
      "text/plain": [
       "array([[ 361666.1875 ],\n",
       "       [ 227042.65625],\n",
       "       [ 351246.     ],\n",
       "       [ 214414.3125 ]], dtype=float32)"
      ]
     },
     "execution_count": 60,
     "metadata": {},
     "output_type": "execute_result"
    }
   ],
   "source": [
    "parse_back(mlp.predict(train_X[k:k+4,:]))"
   ]
  },
  {
   "cell_type": "code",
   "execution_count": 61,
   "metadata": {
    "collapsed": false
   },
   "outputs": [
    {
     "data": {
      "text/plain": [
       "array([[ 359000.],\n",
       "       [ 229000.],\n",
       "       [ 354000.],\n",
       "       [ 210000.]], dtype=float32)"
      ]
     },
     "execution_count": 61,
     "metadata": {},
     "output_type": "execute_result"
    }
   ],
   "source": [
    "parse_back(train_y[k:k+4,:])"
   ]
  },
  {
   "cell_type": "code",
   "execution_count": 62,
   "metadata": {
    "collapsed": false
   },
   "outputs": [
    {
     "name": "stderr",
     "output_type": "stream",
     "text": [
      "C:\\Users\\evitself\\Anaconda3\\lib\\site-packages\\ipykernel\\__main__.py:1: SettingWithCopyWarning: \n",
      "A value is trying to be set on a copy of a slice from a DataFrame.\n",
      "Try using .loc[row_indexer,col_indexer] = value instead\n",
      "\n",
      "See the caveats in the documentation: http://pandas.pydata.org/pandas-docs/stable/indexing.html#indexing-view-versus-copy\n",
      "  if __name__ == '__main__':\n"
     ]
    }
   ],
   "source": [
    "df_test['yr_sold'] = df_test['date'].apply(parse_date)"
   ]
  },
  {
   "cell_type": "code",
   "execution_count": 63,
   "metadata": {
    "collapsed": true
   },
   "outputs": [],
   "source": [
    "test_data = np.array(df_test)[:,2:]\n",
    "test_X = test_data[:,1:].astype(np.float32)\n",
    "test_y = test_data[:,0].astype(np.float32)\n",
    "test_y = test_y.reshape(test_y.shape[0], 1)"
   ]
  },
  {
   "cell_type": "code",
   "execution_count": 68,
   "metadata": {
    "collapsed": true
   },
   "outputs": [],
   "source": [
    "ml.data_normalize(test_X, stds_X, means_X)"
   ]
  },
  {
   "cell_type": "code",
   "execution_count": 70,
   "metadata": {
    "collapsed": true
   },
   "outputs": [],
   "source": [
    "ml.data_normalize(test_y, std_y, mean_y)"
   ]
  },
  {
   "cell_type": "code",
   "execution_count": 77,
   "metadata": {
    "collapsed": false
   },
   "outputs": [],
   "source": [
    "test_X = test_X.reshape((test_X.shape[0], test_X.shape[1], 1))"
   ]
  },
  {
   "cell_type": "code",
   "execution_count": 79,
   "metadata": {
    "collapsed": false
   },
   "outputs": [
    {
     "data": {
      "text/plain": [
       "array([[ 1623289.     ],\n",
       "       [  314894.1875 ],\n",
       "       [  483438.84375],\n",
       "       [  793371.875  ],\n",
       "       [  789109.625  ],\n",
       "       [  658603.8125 ],\n",
       "       [  212731.78125],\n",
       "       [  339327.5    ],\n",
       "       [  911020.1875 ],\n",
       "       [  587879.875  ]], dtype=float32)"
      ]
     },
     "execution_count": 79,
     "metadata": {},
     "output_type": "execute_result"
    }
   ],
   "source": [
    "parse_back(mlp.predict(test_X[k:k+10,:]))"
   ]
  },
  {
   "cell_type": "code",
   "execution_count": 80,
   "metadata": {
    "collapsed": false
   },
   "outputs": [
    {
     "data": {
      "text/plain": [
       "array([[ 1118000.],\n",
       "       [  295000.],\n",
       "       [  539000.],\n",
       "       [  812000.],\n",
       "       [  888000.],\n",
       "       [  720000.],\n",
       "       [  250000.],\n",
       "       [  329000.],\n",
       "       [  990000.],\n",
       "       [  537000.]], dtype=float32)"
      ]
     },
     "execution_count": 80,
     "metadata": {},
     "output_type": "execute_result"
    }
   ],
   "source": [
    "parse_back(test_y[k:k+10,:])"
   ]
  },
  {
   "cell_type": "code",
   "execution_count": 81,
   "metadata": {
    "collapsed": false
   },
   "outputs": [
    {
     "data": {
      "text/plain": [
       "[0.14545422792434692, 0.21197842061519623]"
      ]
     },
     "execution_count": 81,
     "metadata": {},
     "output_type": "execute_result"
    }
   ],
   "source": [
    "mlp.evaluate(test_X, test_y, batch_size=test_X.shape[0], verbose=0)"
   ]
  },
  {
   "cell_type": "code",
   "execution_count": null,
   "metadata": {
    "collapsed": true
   },
   "outputs": [],
   "source": []
  }
 ],
 "metadata": {
  "anaconda-cloud": {},
  "kernelspec": {
   "display_name": "Python [default]",
   "language": "python",
   "name": "python3"
  },
  "language_info": {
   "codemirror_mode": {
    "name": "ipython",
    "version": 3
   },
   "file_extension": ".py",
   "mimetype": "text/x-python",
   "name": "python",
   "nbconvert_exporter": "python",
   "pygments_lexer": "ipython3",
   "version": "3.5.2"
  },
  "nbpresent": {
   "slides": {
    "ae289e49-7f20-4a80-99db-87066f7040a7": {
     "id": "ae289e49-7f20-4a80-99db-87066f7040a7",
     "prev": null,
     "regions": {
      "c5f07481-c775-4554-be7a-21f785c9862f": {
       "attrs": {
        "height": 1,
        "width": 1,
        "x": 0,
        "y": 0
       },
       "content": {
        "cell": "e163f339-cea9-42c2-8621-d02f39b225c0",
        "part": "source"
       },
       "id": "c5f07481-c775-4554-be7a-21f785c9862f"
      }
     }
    }
   },
   "themes": {}
  }
 },
 "nbformat": 4,
 "nbformat_minor": 2
}
