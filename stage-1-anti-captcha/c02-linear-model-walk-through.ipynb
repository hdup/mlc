{
 "cells": [
  {
   "cell_type": "markdown",
   "metadata": {},
   "source": [
    "## Have fun with linear model\n",
    "\n",
    "Author: hdup  \n",
    "My contact info:  \n",
    "hdup [huangdan@youhujia.com](mailto:huangdan@youhujia.com)  \n",
    "evitself [evitself@gmail.com](mailto:evitself@gmail.com)"
   ]
  },
  {
   "cell_type": "code",
   "execution_count": 1,
   "metadata": {
    "collapsed": true
   },
   "outputs": [],
   "source": [
    "import os\n",
    "import numpy as np\n",
    "import cv2\n",
    "import matplotlib.pyplot as plt\n",
    "import utils\n",
    "import models as ml\n",
    "\n",
    "%matplotlib inline"
   ]
  },
  {
   "cell_type": "markdown",
   "metadata": {},
   "source": [
    "### Let's play with linear regression"
   ]
  },
  {
   "cell_type": "markdown",
   "metadata": {},
   "source": [
    "#### Prepare sample data"
   ]
  },
  {
   "cell_type": "code",
   "execution_count": 2,
   "metadata": {},
   "outputs": [
    {
     "name": "stdout",
     "output_type": "stream",
     "text": [
      "(100, 1)\n"
     ]
    }
   ],
   "source": [
    "sample_cnt = 100\n",
    "\n",
    "train_X = np.linspace(-3.0, 3.0, num=sample_cnt, dtype=np.float32).reshape((sample_cnt, 1))\n",
    "train_y = train_X * 0.375 + 1.1\n",
    "\n",
    "print(train_X.shape)"
   ]
  },
  {
   "cell_type": "markdown",
   "metadata": {},
   "source": [
    "### Implement with numpy"
   ]
  },
  {
   "cell_type": "markdown",
   "metadata": {},
   "source": [
    "#### 1), define model, cost, and derivative"
   ]
  },
  {
   "cell_type": "markdown",
   "metadata": {
    "collapsed": true
   },
   "source": [
    "- Please see models.py"
   ]
  },
  {
   "cell_type": "markdown",
   "metadata": {},
   "source": [
    "#### 2), training"
   ]
  },
  {
   "cell_type": "code",
   "execution_count": 3,
   "metadata": {},
   "outputs": [
    {
     "name": "stdout",
     "output_type": "stream",
     "text": [
      "epoch: 100, cost:49.46481661505311, W:[[ 0.30853031]], b:[[ 0.1225002]]\n",
      "epoch: 200, cost:6.532318912146525, W:[[ 0.3720307]], b:[[ 0.74220347]]\n",
      "epoch: 300, cost:0.8750084653530338, W:[[ 0.37486736]], b:[[ 0.96903492]]\n",
      "epoch: 400, cost:0.11723297153441278, W:[[ 0.37499408]], b:[[ 1.05206256]]\n",
      "epoch: 500, cost:0.015706834654256884, W:[[ 0.37499974]], b:[[ 1.08245336]]\n",
      "epoch: 600, cost:0.002104396598579044, W:[[ 0.37499999]], b:[[ 1.09357738]]\n",
      "epoch: 700, cost:0.00028194637210656815, W:[[ 0.375]], b:[[ 1.09764913]]\n",
      "epoch: 800, cost:3.7775083321809945e-05, W:[[ 0.375]], b:[[ 1.09913952]]\n",
      "epoch: 900, cost:5.061093440793499e-06, W:[[ 0.375]], b:[[ 1.09968505]]\n",
      "epoch: 1000, cost:6.780837132375798e-07, W:[[ 0.375]], b:[[ 1.09988473]]\n",
      "training finished!\n",
      "final cost: 6.64589848715221e-07, W: [[ 0.375]], b: [[ 1.09988473]]\n"
     ]
    },
    {
     "data": {
      "image/png": "[encoded data removed]",
      "text/plain": [
       "<matplotlib.figure.Figure at 0x115c5a940>"
      ]
     },
     "metadata": {},
     "output_type": "display_data"
    }
   ],
   "source": [
    "W, b = ml.create_parameters(1, 1)\n",
    "\n",
    "# batch learning\n",
    "for epoch in range(0, 1000):\n",
    "    h = ml.linear_model(train_X, W, b)\n",
    "    dW, db = ml.mse_cost_dev(train_X, train_y, h)\n",
    "    W, b = ml.gd_update(W, b, dW, db, lr=0.01)\n",
    "    if (epoch + 1) % 100 == 0:\n",
    "        cur_cost = ml.mse_cost(h, train_y)\n",
    "        print('epoch: {0}, cost:{1}, W:{2}, b:{3}'.format(epoch + 1, cur_cost, W, b))\n",
    "\n",
    "# finish\n",
    "h = ml.linear_model(train_X, W, b)\n",
    "cost = ml.mse_cost(h, train_y)\n",
    "print('training finished!')\n",
    "print('final cost: {0}, W: {1}, b: {2}'.format(cost, W, b))\n",
    "\n",
    "# then plot some curves\n",
    "plt.plot(train_X, train_y, 'r+', label='training')\n",
    "plt.plot(train_X, h, 'b--', label='fitted')\n",
    "plt.grid(True)\n",
    "plt.legend()\n",
    "plt.show()"
   ]
  },
  {
   "cell_type": "markdown",
   "metadata": {},
   "source": [
    "### Logistic regression (generalized linear model) with numpy"
   ]
  },
  {
   "cell_type": "markdown",
   "metadata": {},
   "source": [
    "#### 1), define model, cost, and derivative"
   ]
  },
  {
   "cell_type": "markdown",
   "metadata": {},
   "source": [
    "- Please see models.py"
   ]
  },
  {
   "cell_type": "markdown",
   "metadata": {},
   "source": [
    "#### 2), prepare label data"
   ]
  },
  {
   "cell_type": "code",
   "execution_count": 4,
   "metadata": {
    "collapsed": true
   },
   "outputs": [],
   "source": [
    "train_y_binary = np.array([1.0 if i > 0.5 else 0 for i in train_y]).reshape(sample_cnt, 1)"
   ]
  },
  {
   "cell_type": "markdown",
   "metadata": {},
   "source": [
    "#### 3), training"
   ]
  },
  {
   "cell_type": "code",
   "execution_count": 9,
   "metadata": {},
   "outputs": [
    {
     "name": "stdout",
     "output_type": "stream",
     "text": [
      "epoch: 1000, cost: 0.09965448380629369, W: [[ 2.7524309]], b: [[ 4.08371273]], acc: 0.98\n",
      "epoch: 2000, cost: 0.07796054815454098, W: [[ 3.51350961]], b: [[ 5.3283974]], acc: 0.99\n",
      "epoch: 3000, cost: 0.06756762081643367, W: [[ 4.04669172]], b: [[ 6.19324976]], acc: 0.99\n",
      "epoch: 4000, cost: 0.061076598427761086, W: [[ 4.47022231]], b: [[ 6.8769489]], acc: 0.99\n",
      "epoch: 5000, cost: 0.05649351277097907, W: [[ 4.82718551]], b: [[ 7.45131256]], acc: 0.99\n",
      "epoch: 6000, cost: 0.05301716190331021, W: [[ 5.1387173]], b: [[ 7.9513819]], acc: 1.0\n",
      "epoch: 7000, cost: 0.05025296138539325, W: [[ 5.41693466]], b: [[ 8.39715911]], acc: 1.0\n",
      "epoch: 8000, cost: 0.047980305884745535, W: [[ 5.66950052]], b: [[ 8.80124872]], acc: 1.0\n",
      "epoch: 9000, cost: 0.04606460679409032, W: [[ 5.90160242]], b: [[ 9.17215793]], acc: 1.0\n",
      "epoch: 10000, cost: 0.04441828168114121, W: [[ 6.11693291]], b: [[ 9.51592671]], acc: 1.0\n",
      "training finished!\n",
      "final cost: 0.04441674890448162, W: [[ 6.11693291]], b: [[ 9.51592671]], acc: 1.0\n"
     ]
    },
    {
     "data": {
      "image/png": "[encoded data removed]",
      "text/plain": [
       "<matplotlib.figure.Figure at 0x1195b9f60>"
      ]
     },
     "metadata": {},
     "output_type": "display_data"
    }
   ],
   "source": [
    "W, b = ml.create_parameters(1, 1)\n",
    "\n",
    "threshold = 0.5\n",
    "\n",
    "# batch learning\n",
    "for epoch in range(0, 10000):\n",
    "    h = ml.logistic_model(train_X, W, b)\n",
    "    dW, db = ml.log_cost_dev(train_X, train_y_binary, h)\n",
    "    W, b = ml.gd_update(W, b, dW, db, lr=0.1)\n",
    "    if (epoch + 1) % 1000 == 0:\n",
    "        cur_cost = ml.log_cost(h, train_y_binary)\n",
    "        acc = ml.binary_accuracy(h, train_y_binary, threshold=threshold)\n",
    "        print('epoch: {0}, cost: {1}, W: {2}, b: {3}, acc: {4}'.format(epoch + 1, cur_cost, W, b, acc))\n",
    "\n",
    "# finish\n",
    "h = ml.logistic_model(train_X, W, b)\n",
    "final_cost = ml.log_cost(h, train_y_binary)\n",
    "final_acc = ml.binary_accuracy(h, train_y_binary, threshold=threshold)\n",
    "print('training finished!')\n",
    "print('final cost: {0}, W: {1}, b: {2}, acc: {3}'.format(final_cost, W, b, final_acc))\n",
    "\n",
    "# then plot some curves\n",
    "plt.plot(train_X, train_y_binary, 'r-', label='training')\n",
    "plt.plot(train_X, h, 'b-', label='fitted')\n",
    "plt.axhline(y=threshold, color='g', linestyle='-', label='threshold')\n",
    "plt.grid(True)\n",
    "plt.ylim([-0.2, 1.2])\n",
    "plt.legend()\n",
    "plt.show()"
   ]
  },
  {
   "cell_type": "markdown",
   "metadata": {
    "collapsed": true
   },
   "source": [
    "### Time to have fun with cracking captcha with LR model"
   ]
  },
  {
   "cell_type": "markdown",
   "metadata": {},
   "source": [
    "#### 1), load and prepare data"
   ]
  },
  {
   "cell_type": "code",
   "execution_count": 10,
   "metadata": {
    "collapsed": true
   },
   "outputs": [],
   "source": [
    "from helpers import corpus, corpus_len, show_img, prepare_data, one_hot_to_label, showcase"
   ]
  },
  {
   "cell_type": "code",
   "execution_count": 11,
   "metadata": {},
   "outputs": [
    {
     "name": "stdout",
     "output_type": "stream",
     "text": [
      "train shape X (100000, 30, 30), y (100000, 26)\n",
      "validation shape X (20000, 30, 30), y (20000, 26)\n",
      "test shape X (10000, 30, 30), y (10000, 26)\n"
     ]
    }
   ],
   "source": [
    "train_data = np.load('./data/data.npz')\n",
    "train_X=train_data['X']\n",
    "train_y=train_data['y']\n",
    "print('train shape X {0}, y {1}'.format(train_X.shape, train_y.shape))\n",
    "\n",
    "validate_data = np.load('./data/val.npz')\n",
    "validate_X=validate_data['X']\n",
    "validate_y=validate_data['y']\n",
    "print('validation shape X {0}, y {1}'.format(validate_X.shape, validate_y.shape))\n",
    "\n",
    "test_data = np.load('./data/test.npz')\n",
    "test_X=test_data['X']\n",
    "test_y=test_data['y']\n",
    "print('test shape X {0}, y {1}'.format(test_X.shape, test_y.shape))\n",
    "\n",
    "train_X, train_y = prepare_data(train_X, train_y)\n",
    "validate_X, validate_y = prepare_data(validate_X, validate_y)\n",
    "test_X, test_y = prepare_data(test_X, test_y)"
   ]
  },
  {
   "cell_type": "markdown",
   "metadata": {},
   "source": [
    "#### 2), let's take character A as example\n",
    "\n",
    "You should know one-vs-all"
   ]
  },
  {
   "cell_type": "code",
   "execution_count": 12,
   "metadata": {},
   "outputs": [
    {
     "name": "stdout",
     "output_type": "stream",
     "text": [
      "(100000, 900)\n",
      "(100000, 1)\n"
     ]
    }
   ],
   "source": [
    "sample_cnt = train_X.shape[0]\n",
    "feature_cnt = train_X.shape[1] * train_X.shape[2]\n",
    "\n",
    "train_X_a = train_X.reshape((sample_cnt, feature_cnt))\n",
    "validate_X_a = validate_X.reshape((validate_X.shape[0], feature_cnt))\n",
    "test_X_a = test_X.reshape((test_X.shape[0], feature_cnt))\n",
    "\n",
    "train_y_a = train_y[:,0:1]\n",
    "validate_y_a = validate_y[:,0:1]\n",
    "test_y_a = test_y[:,0:1]\n",
    "\n",
    "print(train_X_a.shape)\n",
    "print(train_y_a.shape)"
   ]
  },
  {
   "cell_type": "markdown",
   "metadata": {},
   "source": [
    "#### 3), training"
   ]
  },
  {
   "cell_type": "code",
   "execution_count": 15,
   "metadata": {
    "scrolled": false
   },
   "outputs": [
    {
     "name": "stdout",
     "output_type": "stream",
     "text": [
      "epoch: 20, cost: 0.04026350737880872, val_conf: (0.7696629213483146, 0.906084656084656, 0.8323207776427702)\n",
      "epoch: 40, cost: 0.031619522232216625, val_conf: (0.8641160949868074, 0.8664021164021164, 0.8652575957727874)\n",
      "epoch: 60, cost: 0.031276563933689695, val_conf: (0.8837209302325582, 0.8544973544973545, 0.8688634835238735)\n",
      "epoch: 80, cost: 0.03149535225557427, val_conf: (0.8916323731138546, 0.8597883597883598, 0.8754208754208753)\n",
      "epoch: 100, cost: 0.03180484057178183, val_conf: (0.8857142857142857, 0.8611111111111112, 0.8732394366197184)\n",
      "training finished!\n",
      "final cost: 0.02501726767614362, conf: (0.8948045267489712, 0.9031671858774662, 0.8989664082687338)\n",
      "test cost: 0.029685234518564863, conf: (0.864321608040201, 0.9076517150395779, 0.8854568854568854)\n"
     ]
    },
    {
     "data": {
      "image/png": "[encoded data removed]",
      "text/plain": [
       "<matplotlib.figure.Figure at 0x1191a58d0>"
      ]
     },
     "metadata": {},
     "output_type": "display_data"
    }
   ],
   "source": [
    "threshold = 0.5\n",
    "\n",
    "W, b = ml.create_parameters(900, 1)\n",
    "\n",
    "epoch_arr = []\n",
    "cost_arr = []\n",
    "metric_arr = []\n",
    "\n",
    "step = 20\n",
    "batch_size = 20\n",
    "\n",
    "# mini-batch learning\n",
    "batch_blocks = sample_cnt / batch_size\n",
    "for epoch in range(0, 100):\n",
    "    # launch mini-batch\n",
    "    batch_start = 0    \n",
    "    while(batch_start + batch_size < sample_cnt):\n",
    "        batch_X = train_X_a[batch_start:batch_start+batch_size,:]\n",
    "        batch_y = train_y_a[batch_start:batch_start+batch_size,:] \n",
    "        h = ml.logistic_model(batch_X, W, b)\n",
    "        dW, db = ml.log_cost_dev(batch_X, batch_y, h)\n",
    "        W, b = ml.gd_update(W, b, dW, db, lr=0.1)\n",
    "        batch_start += batch_size\n",
    "        \n",
    "    # eval epoch\n",
    "    if (epoch + 1) % step == 0:\n",
    "        h = ml.logistic_model(validate_X_a, W, b)\n",
    "        cur_cost = ml.log_cost(h, validate_y_a)\n",
    "        cur_conf = ml.binary_confusion_matrix(h, validate_y_a, threshold=threshold)        \n",
    "        print('epoch: {0}, cost: {1}, val_conf: {2}'.format(epoch + 1, cur_cost, cur_conf))\n",
    "        epoch_arr.append(epoch + 1)\n",
    "        cost_arr.append(cur_cost)\n",
    "        metric_arr.append(cur_conf[2])\n",
    "\n",
    "# finish\n",
    "predictions = ml.logistic_model(train_X_a, W, b)\n",
    "final_cost = ml.log_cost(predictions, train_y_a)\n",
    "final_conf = ml.binary_confusion_matrix(predictions, train_y_a, threshold=threshold)\n",
    "print('training finished!')\n",
    "print('final cost: {0}, conf: {1}'.format(final_cost, final_conf))\n",
    "\n",
    "# calculate test conf\n",
    "test_h = ml.logistic_model(test_X_a, W, b)\n",
    "test_cost = ml.log_cost(test_h, test_y_a)\n",
    "test_conf = ml.binary_confusion_matrix(test_h, test_y_a, threshold=threshold)\n",
    "print('test cost: {0}, conf: {1}'.format(test_cost, test_conf))\n",
    "\n",
    "# plot learning curve\n",
    "fig = plt.figure()\n",
    "\n",
    "ax1 = fig.add_subplot(111)\n",
    "ax1.plot(epoch_arr, cost_arr, 'r-', label='cost')\n",
    "ymax = np.max(cost_arr)\n",
    "plt.ylim([0.0, ymax * 1.05])\n",
    "ax1.set_ylabel('cost', color='r')\n",
    "\n",
    "ax2 = ax1.twinx()\n",
    "ax2.plot(epoch_arr, metric_arr, 'b-', label='f1')\n",
    "ymin = np.min(metric_arr)\n",
    "plt.ylim([ymin-0.02 if ymin-0.02 > 0.0 else 0.0, 1.0])\n",
    "ax2.set_ylabel('f1', color='b')\n",
    "\n",
    "plt.axvline(x=0, color='g', linestyle='--')\n",
    "plt.grid(True)\n",
    "plt.xlim([-50, epoch + 50])\n",
    "plt.show()"
   ]
  },
  {
   "cell_type": "markdown",
   "metadata": {
    "collapsed": true
   },
   "source": [
    "### Let's play it with softmax model"
   ]
  },
  {
   "cell_type": "code",
   "execution_count": 16,
   "metadata": {},
   "outputs": [],
   "source": [
    "sample_count = train_X.shape[0]\n",
    "feature_count = train_X.shape[1] * train_X.shape[2]\n",
    "class_count = train_y.shape[1]\n",
    "\n",
    "train_X = train_X.reshape((sample_count, feature_count))\n",
    "test_X = test_X.reshape((test_X.shape[0], feature_count))\n",
    "validate_X = validate_X.reshape((validate_X.shape[0], feature_count))"
   ]
  },
  {
   "cell_type": "code",
   "execution_count": 17,
   "metadata": {
    "collapsed": true
   },
   "outputs": [],
   "source": [
    "W, b = ml.create_parameters(feature_count, class_count)"
   ]
  },
  {
   "cell_type": "code",
   "execution_count": 20,
   "metadata": {},
   "outputs": [
    {
     "name": "stdout",
     "output_type": "stream",
     "text": [
      "epoch: 20, cost: 0.043639285788023216, val_acc: 0.70435\n",
      "epoch: 40, cost: 0.038175617602424224, val_acc: 0.7367\n",
      "epoch: 60, cost: 0.03518309384820249, val_acc: 0.75305\n",
      "epoch: 80, cost: 0.033300410974298575, val_acc: 0.76485\n",
      "epoch: 100, cost: 0.03201217992696259, val_acc: 0.77185\n",
      "training finished!\n",
      "final cost: 0.027995139835594516, acc: 0.79487\n"
     ]
    }
   ],
   "source": [
    "epoch_arr = []\n",
    "cost_arr = []\n",
    "metric_arr = []\n",
    "\n",
    "step = 20\n",
    "batch_size = 20\n",
    "\n",
    "# mini-batch learning\n",
    "batch_blocks = sample_cnt / batch_size\n",
    "for epoch in range(0, 100):\n",
    "    # launch mini-batch\n",
    "    batch_start = 0    \n",
    "    while(batch_start + batch_size < sample_count):\n",
    "        batch_X = train_X[batch_start:batch_start+batch_size,:]\n",
    "        batch_y = train_y[batch_start:batch_start+batch_size,:] \n",
    "        h = ml.softmax_regression_model(batch_X, W, b)\n",
    "        dW, db = ml.crossentropy_cost_dev(batch_X, batch_y, h)\n",
    "        W, b = ml.gd_update(W, b, dW, db, lr=0.01)\n",
    "        batch_start += batch_size\n",
    "        \n",
    "    # eval epoch\n",
    "    if (epoch + 1) % step == 0:\n",
    "        h = ml.softmax_regression_model(validate_X, W, b)\n",
    "        cur_cost = ml.crossentropy_cost(h, validate_y)  \n",
    "        cur_acc = ml.categorical_accuracy(h, validate_y)\n",
    "        print('epoch: {0}, cost: {1}, val_acc: {2}'.format(epoch + 1, cur_cost, cur_acc))\n",
    "        epoch_arr.append(epoch + 1)\n",
    "        cost_arr.append(cur_cost)\n",
    "\n",
    "# finish\n",
    "h = ml.softmax_regression_model(train_X, W, b)\n",
    "final_cost = ml.crossentropy_cost(h, train_y)\n",
    "final_acc = ml.categorical_accuracy(h, train_y)\n",
    "print('training finished!')\n",
    "print('final cost: {0}, acc: {1}'.format(final_cost, final_acc))"
   ]
  },
  {
   "cell_type": "code",
   "execution_count": null,
   "metadata": {
    "collapsed": true
   },
   "outputs": [],
   "source": []
  }
 ],
 "metadata": {
  "anaconda-cloud": {},
  "kernelspec": {
   "display_name": "Python 3",
   "language": "python",
   "name": "python3"
  },
  "language_info": {
   "codemirror_mode": {
    "name": "ipython",
    "version": 3
   },
   "file_extension": ".py",
   "mimetype": "text/x-python",
   "name": "python",
   "nbconvert_exporter": "python",
   "pygments_lexer": "ipython3",
   "version": "3.6.1"
  }
 },
 "nbformat": 4,
 "nbformat_minor": 1
}
