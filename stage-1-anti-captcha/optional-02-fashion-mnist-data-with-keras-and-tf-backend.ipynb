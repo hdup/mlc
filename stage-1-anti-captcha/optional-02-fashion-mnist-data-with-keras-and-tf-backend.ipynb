{
 "cells": [
  {
   "cell_type": "markdown",
   "metadata": {},
   "source": [
    "### Fashion MNIST experiment "
   ]
  },
  {
   "cell_type": "code",
   "execution_count": 18,
   "metadata": {
    "collapsed": false
   },
   "outputs": [],
   "source": [
    "import numpy as np\n",
    "import models as ml\n",
    "import matplotlib.pyplot as plt\n",
    "\n",
    "from utils import mnist_reader\n",
    "\n",
    "%matplotlib inline"
   ]
  },
  {
   "cell_type": "markdown",
   "metadata": {},
   "source": [
    "#### 1), load data "
   ]
  },
  {
   "cell_type": "code",
   "execution_count": 19,
   "metadata": {
    "collapsed": true
   },
   "outputs": [],
   "source": [
    "X_train, y_train = mnist_reader.load_mnist('./data/data/fashion', kind='train')\n",
    "X_test, y_test = mnist_reader.load_mnist('./data/data/fashion', kind='t10k')"
   ]
  },
  {
   "cell_type": "code",
   "execution_count": 20,
   "metadata": {
    "collapsed": true
   },
   "outputs": [],
   "source": [
    "X_train = (X_train.reshape((X_train.shape[0], 28, 28, 1)) / 255.0).astype(np.float32)\n",
    "X_test = (X_test.reshape((X_test.shape[0], 28, 28, 1)) / 255.0).astype(np.float32)"
   ]
  },
  {
   "cell_type": "code",
   "execution_count": 21,
   "metadata": {
    "collapsed": true
   },
   "outputs": [],
   "source": [
    "def id_to_onehot(y, size):\n",
    "    onehot = np.zeros(shape=(y.shape[0], size))\n",
    "    for i in range(0, y.shape[0]):\n",
    "        onehot[i][y[i]] = 1\n",
    "    return onehot\n",
    "\n",
    "def show_img(img, zoom=4, dpi=80):\n",
    "    w = img.shape[0]\n",
    "    h = img.shape[1]\n",
    "    plt.figure(figsize=(w*zoom/dpi, h*zoom/dpi), dpi=dpi)\n",
    "    plt.axis('off')\n",
    "    plt.imshow(img, cmap=plt.get_cmap('gray'))\n",
    "    plt.show()\n",
    "    return"
   ]
  },
  {
   "cell_type": "code",
   "execution_count": 22,
   "metadata": {
    "collapsed": false
   },
   "outputs": [
    {
     "data": {
      "image/png": "[encoded data removed]",
      "text/plain": [
       "<matplotlib.figure.Figure at 0x1ea09e87748>"
      ]
     },
     "metadata": {},
     "output_type": "display_data"
    }
   ],
   "source": [
    "show_img(X_train[234].reshape(28, 28))"
   ]
  },
  {
   "cell_type": "code",
   "execution_count": 23,
   "metadata": {
    "collapsed": true
   },
   "outputs": [],
   "source": [
    "y_train = id_to_onehot(y_train, 10)\n",
    "y_test = id_to_onehot(y_test, 10)"
   ]
  },
  {
   "cell_type": "markdown",
   "metadata": {},
   "source": [
    "#### 2), build model "
   ]
  },
  {
   "cell_type": "code",
   "execution_count": 24,
   "metadata": {
    "collapsed": false
   },
   "outputs": [],
   "source": [
    "from keras.models import Sequential\n",
    "from keras.layers import Dense, Activation, Flatten\n",
    "from keras.layers import Convolution2D, MaxPooling2D\n",
    "from keras.layers import BatchNormalization, Dropout"
   ]
  },
  {
   "cell_type": "code",
   "execution_count": 31,
   "metadata": {
    "collapsed": false
   },
   "outputs": [
    {
     "name": "stdout",
     "output_type": "stream",
     "text": [
      "_________________________________________________________________\n",
      "Layer (type)                 Output Shape              Param #   \n",
      "=================================================================\n",
      "conv2d_20 (Conv2D)           (None, 27, 27, 32)        160       \n",
      "_________________________________________________________________\n",
      "batch_normalization_26 (Batc (None, 27, 27, 32)        128       \n",
      "_________________________________________________________________\n",
      "activation_26 (Activation)   (None, 27, 27, 32)        0         \n",
      "_________________________________________________________________\n",
      "max_pooling2d_18 (MaxPooling (None, 13, 13, 32)        0         \n",
      "_________________________________________________________________\n",
      "conv2d_21 (Conv2D)           (None, 12, 12, 64)        8256      \n",
      "_________________________________________________________________\n",
      "batch_normalization_27 (Batc (None, 12, 12, 64)        256       \n",
      "_________________________________________________________________\n",
      "activation_27 (Activation)   (None, 12, 12, 64)        0         \n",
      "_________________________________________________________________\n",
      "max_pooling2d_19 (MaxPooling (None, 6, 6, 64)          0         \n",
      "_________________________________________________________________\n",
      "flatten_3 (Flatten)          (None, 2304)              0         \n",
      "_________________________________________________________________\n",
      "dense_7 (Dense)              (None, 10)                23050     \n",
      "_________________________________________________________________\n",
      "batch_normalization_28 (Batc (None, 10)                40        \n",
      "_________________________________________________________________\n",
      "activation_28 (Activation)   (None, 10)                0         \n",
      "=================================================================\n",
      "Total params: 31,890\n",
      "Trainable params: 31,678\n",
      "Non-trainable params: 212\n",
      "_________________________________________________________________\n"
     ]
    }
   ],
   "source": [
    "m = Sequential()\n",
    "\n",
    "m.add(Convolution2D(filters=32, kernel_size=(2, 2), strides=(1, 1), padding='valid', input_shape=(28, 28, 1)))\n",
    "m.add(BatchNormalization())\n",
    "m.add(Activation('relu'))\n",
    "m.add(MaxPooling2D(pool_size=(2, 2), padding='valid'))\n",
    "\n",
    "m.add(Convolution2D(filters=64, kernel_size=(2, 2), strides=(1, 1), padding='valid'))\n",
    "m.add(BatchNormalization())\n",
    "m.add(Activation('relu'))\n",
    "m.add(MaxPooling2D(pool_size=(2, 2), padding='valid'))\n",
    "\n",
    "m.add(Flatten())\n",
    "m.add(Dense(10))\n",
    "m.add(BatchNormalization())\n",
    "m.add(Activation('softmax'))\n",
    "\n",
    "m.summary()"
   ]
  },
  {
   "cell_type": "code",
   "execution_count": 32,
   "metadata": {
    "collapsed": true
   },
   "outputs": [],
   "source": [
    "m.compile(optimizer='Adam',\n",
    "          loss='categorical_crossentropy',\n",
    "          metrics=['accuracy'])"
   ]
  },
  {
   "cell_type": "code",
   "execution_count": 34,
   "metadata": {
    "collapsed": false
   },
   "outputs": [
    {
     "name": "stdout",
     "output_type": "stream",
     "text": [
      "Train on 60000 samples, validate on 10000 samples\n",
      "Epoch 1/10\n",
      "60000/60000 [==============================] - 43s - loss: 0.3560 - acc: 0.8838 - val_loss: 0.2763 - val_acc: 0.9007\n",
      "Epoch 2/10\n",
      "60000/60000 [==============================] - 42s - loss: 0.3280 - acc: 0.8936 - val_loss: 0.2566 - val_acc: 0.9098\n",
      "Epoch 3/10\n",
      "60000/60000 [==============================] - 43s - loss: 0.3112 - acc: 0.8981 - val_loss: 0.2518 - val_acc: 0.9126\n",
      "Epoch 4/10\n",
      "60000/60000 [==============================] - 43s - loss: 0.3039 - acc: 0.9009 - val_loss: 0.2463 - val_acc: 0.9129\n",
      "Epoch 5/10\n",
      "60000/60000 [==============================] - 43s - loss: 0.2998 - acc: 0.9014 - val_loss: 0.2577 - val_acc: 0.9134\n",
      "Epoch 6/10\n",
      "60000/60000 [==============================] - 43s - loss: 0.2860 - acc: 0.9078 - val_loss: 0.2463 - val_acc: 0.9161\n",
      "Epoch 7/10\n",
      "60000/60000 [==============================] - 43s - loss: 0.2827 - acc: 0.9063 - val_loss: 0.2475 - val_acc: 0.9143\n",
      "Epoch 8/10\n",
      "60000/60000 [==============================] - 42s - loss: 0.2701 - acc: 0.9116 - val_loss: 0.2487 - val_acc: 0.9140\n",
      "Epoch 9/10\n",
      "60000/60000 [==============================] - 43s - loss: 0.2699 - acc: 0.9123 - val_loss: 0.2388 - val_acc: 0.9191\n",
      "Epoch 10/10\n",
      "60000/60000 [==============================] - 43s - loss: 0.2614 - acc: 0.9139 - val_loss: 0.2413 - val_acc: 0.9159\n"
     ]
    },
    {
     "data": {
      "text/plain": [
       "<keras.callbacks.History at 0x1e69ea23e48>"
      ]
     },
     "execution_count": 34,
     "metadata": {},
     "output_type": "execute_result"
    }
   ],
   "source": [
    "m.fit(X_train,\n",
    "      y_train,\n",
    "      validation_data=(X_test, y_test),\n",
    "      batch_size=10,\n",
    "      epochs=10)"
   ]
  },
  {
   "cell_type": "code",
   "execution_count": 35,
   "metadata": {
    "collapsed": true
   },
   "outputs": [],
   "source": [
    "evaluation_test = m.evaluate(X_train, y_train, verbose=0)"
   ]
  },
  {
   "cell_type": "code",
   "execution_count": 36,
   "metadata": {
    "collapsed": false
   },
   "outputs": [
    {
     "name": "stdout",
     "output_type": "stream",
     "text": [
      "loss: 0.1520828681305051, accuracy: 0.9452\n"
     ]
    }
   ],
   "source": [
    "print('loss: {0}, accuracy: {1}'.format(evaluation_test[0], evaluation_test[1]))"
   ]
  },
  {
   "cell_type": "markdown",
   "metadata": {},
   "source": [
    "#### 2a), let's use ResNet50"
   ]
  },
  {
   "cell_type": "code",
   "execution_count": 57,
   "metadata": {
    "collapsed": true
   },
   "outputs": [],
   "source": [
    "import cv2\n",
    "from keras.applications.resnet50 import ResNet50"
   ]
  },
  {
   "cell_type": "code",
   "execution_count": null,
   "metadata": {
    "collapsed": true
   },
   "outputs": [],
   "source": [
    "#resize image\n",
    "cv2.resize()"
   ]
  },
  {
   "cell_type": "code",
   "execution_count": 47,
   "metadata": {
    "collapsed": false
   },
   "outputs": [],
   "source": [
    "#reshape data into 3-channel tensor\n",
    "train_X_3d = train_X.reshape((train_X.shape[0], 28, 28, 1)) * np.ones(3, dtype=np.float32)[None, None, None, :]"
   ]
  },
  {
   "cell_type": "code",
   "execution_count": 54,
   "metadata": {
    "collapsed": false
   },
   "outputs": [
    {
     "ename": "ValueError",
     "evalue": "Input size must be at least 197x197, got `input_shape=(28, 28, 3)`",
     "output_type": "error",
     "traceback": [
      "\u001b[0;31m---------------------------------------------------------------------------\u001b[0m",
      "\u001b[0;31mValueError\u001b[0m                                Traceback (most recent call last)",
      "\u001b[0;32m<ipython-input-54-32f1cfcbbcad>\u001b[0m in \u001b[0;36m<module>\u001b[0;34m()\u001b[0m\n\u001b[1;32m      2\u001b[0m                        \u001b[0mclasses\u001b[0m\u001b[1;33m=\u001b[0m\u001b[1;36m10\u001b[0m\u001b[1;33m,\u001b[0m\u001b[1;33m\u001b[0m\u001b[0m\n\u001b[1;32m      3\u001b[0m                        \u001b[0mweights\u001b[0m\u001b[1;33m=\u001b[0m\u001b[1;32mNone\u001b[0m\u001b[1;33m,\u001b[0m\u001b[1;33m\u001b[0m\u001b[0m\n\u001b[0;32m----> 4\u001b[0;31m                        include_top=False)\n\u001b[0m\u001b[1;32m      5\u001b[0m \u001b[1;33m\u001b[0m\u001b[0m\n\u001b[1;32m      6\u001b[0m \u001b[0mrm\u001b[0m\u001b[1;33m.\u001b[0m\u001b[0msummary\u001b[0m\u001b[1;33m(\u001b[0m\u001b[1;33m)\u001b[0m\u001b[1;33m\u001b[0m\u001b[0m\n",
      "\u001b[0;32mC:\\Users\\evitself\\Anaconda3\\lib\\site-packages\\keras\\applications\\resnet50.py\u001b[0m in \u001b[0;36mResNet50\u001b[0;34m(include_top, weights, input_tensor, input_shape, pooling, classes)\u001b[0m\n\u001b[1;32m    190\u001b[0m                                       \u001b[0mmin_size\u001b[0m\u001b[1;33m=\u001b[0m\u001b[1;36m197\u001b[0m\u001b[1;33m,\u001b[0m\u001b[1;33m\u001b[0m\u001b[0m\n\u001b[1;32m    191\u001b[0m                                       \u001b[0mdata_format\u001b[0m\u001b[1;33m=\u001b[0m\u001b[0mK\u001b[0m\u001b[1;33m.\u001b[0m\u001b[0mimage_data_format\u001b[0m\u001b[1;33m(\u001b[0m\u001b[1;33m)\u001b[0m\u001b[1;33m,\u001b[0m\u001b[1;33m\u001b[0m\u001b[0m\n\u001b[0;32m--> 192\u001b[0;31m                                       include_top=include_top)\n\u001b[0m\u001b[1;32m    193\u001b[0m \u001b[1;33m\u001b[0m\u001b[0m\n\u001b[1;32m    194\u001b[0m     \u001b[1;32mif\u001b[0m \u001b[0minput_tensor\u001b[0m \u001b[1;32mis\u001b[0m \u001b[1;32mNone\u001b[0m\u001b[1;33m:\u001b[0m\u001b[1;33m\u001b[0m\u001b[0m\n",
      "\u001b[0;32mC:\\Users\\evitself\\Anaconda3\\lib\\site-packages\\keras\\applications\\imagenet_utils.py\u001b[0m in \u001b[0;36m_obtain_input_shape\u001b[0;34m(input_shape, default_size, min_size, data_format, include_top)\u001b[0m\n\u001b[1;32m    133\u001b[0m                     raise ValueError('Input size must be at least ' +\n\u001b[1;32m    134\u001b[0m                                      \u001b[0mstr\u001b[0m\u001b[1;33m(\u001b[0m\u001b[0mmin_size\u001b[0m\u001b[1;33m)\u001b[0m \u001b[1;33m+\u001b[0m \u001b[1;34m'x'\u001b[0m \u001b[1;33m+\u001b[0m \u001b[0mstr\u001b[0m\u001b[1;33m(\u001b[0m\u001b[0mmin_size\u001b[0m\u001b[1;33m)\u001b[0m \u001b[1;33m+\u001b[0m \u001b[1;34m', got '\u001b[0m\u001b[1;33m\u001b[0m\u001b[0m\n\u001b[0;32m--> 135\u001b[0;31m                                      '`input_shape=' + str(input_shape) + '`')\n\u001b[0m\u001b[1;32m    136\u001b[0m             \u001b[1;32melse\u001b[0m\u001b[1;33m:\u001b[0m\u001b[1;33m\u001b[0m\u001b[0m\n\u001b[1;32m    137\u001b[0m                 \u001b[0minput_shape\u001b[0m \u001b[1;33m=\u001b[0m \u001b[1;33m(\u001b[0m\u001b[1;32mNone\u001b[0m\u001b[1;33m,\u001b[0m \u001b[1;32mNone\u001b[0m\u001b[1;33m,\u001b[0m \u001b[1;36m3\u001b[0m\u001b[1;33m)\u001b[0m\u001b[1;33m\u001b[0m\u001b[0m\n",
      "\u001b[0;31mValueError\u001b[0m: Input size must be at least 197x197, got `input_shape=(28, 28, 3)`"
     ]
    }
   ],
   "source": [
    "rm = ResNet50(input_shape=(197, 197, 3), \n",
    "              classes=10, \n",
    "              weights=None, \n",
    "              include_top=False)\n",
    "\n",
    "rm.summary()"
   ]
  },
  {
   "cell_type": "code",
   "execution_count": null,
   "metadata": {
    "collapsed": true
   },
   "outputs": [],
   "source": []
  },
  {
   "cell_type": "markdown",
   "metadata": {
    "collapsed": true
   },
   "source": [
    "#### 3), have fun with our softmax model implemented with numpy"
   ]
  },
  {
   "cell_type": "code",
   "execution_count": 37,
   "metadata": {
    "collapsed": true
   },
   "outputs": [],
   "source": [
    "feature_count = 28 * 28\n",
    "sample_count = X_train.shape[0]\n",
    "\n",
    "train_X = X_train.reshape((sample_count, feature_count))\n",
    "test_X = X_test.reshape((X_test.shape[0], feature_count))"
   ]
  },
  {
   "cell_type": "code",
   "execution_count": 38,
   "metadata": {
    "collapsed": true
   },
   "outputs": [],
   "source": [
    "epochs = 100\n",
    "batch_size=20\n",
    "step = 10\n",
    "\n",
    "W, b = ml.create_parameters(feature_count, 10)"
   ]
  },
  {
   "cell_type": "code",
   "execution_count": 39,
   "metadata": {
    "collapsed": false
   },
   "outputs": [
    {
     "name": "stdout",
     "output_type": "stream",
     "text": [
      "epoch 10, cost 0.09119493406200503, acc 0.7713333333333333\n",
      "epoch 20, cost 0.07384588485744492, acc 0.7983\n",
      "epoch 30, cost 0.06548564852534794, acc 0.8121\n",
      "epoch 40, cost 0.06027913865292422, acc 0.82045\n",
      "epoch 50, cost 0.056615567307002734, acc 0.8271166666666666\n",
      "epoch 60, cost 0.05384892012732094, acc 0.8324166666666667\n",
      "epoch 70, cost 0.0516660877644781, acc 0.8360666666666666\n",
      "epoch 80, cost 0.04989212593012495, acc 0.8398666666666667\n",
      "epoch 90, cost 0.04841893529651631, acc 0.8428\n",
      "epoch 100, cost 0.04717511573885371, acc 0.8458333333333333\n",
      "training finished.\n",
      "final cost 0.04717511573885371, acc 0.8458333333333333\n",
      "test cost 0.055191518140006834, acc 0.8293\n"
     ]
    }
   ],
   "source": [
    "for epoch in range(0, epochs):\n",
    "\n",
    "    batch_start = 0    \n",
    "    while(batch_start + batch_size < sample_count):\n",
    "        batch_X = train_X[batch_start:batch_start+batch_size,:]\n",
    "        batch_y = y_train[batch_start:batch_start+batch_size,:] \n",
    "        h = ml.softmax_regression_model(batch_X, W, b)\n",
    "        dW, db = ml.crossentropy_cost_dev(batch_X, batch_y, h)\n",
    "        W, b = ml.gd_update(W, b, dW, db, lr=0.01)\n",
    "        batch_start += batch_size\n",
    "\n",
    "    if (epoch + 1) % step == 0:\n",
    "        h = ml.softmax_regression_model(train_X, W, b)\n",
    "        cost = ml.crossentropy_cost(h, y_train)\n",
    "        acc = ml.categorical_accuracy(h, y_train)\n",
    "        print(\"epoch {0}, cost {1}, acc {2}\".format(epoch + 1, cost, acc))\n",
    "\n",
    "print(\"training finished.\")        \n",
    "        \n",
    "h = ml.softmax_regression_model(train_X, W, b)\n",
    "cost = ml.crossentropy_cost(h, y_train)\n",
    "acc = ml.categorical_accuracy(h, y_train)\n",
    "print(\"final cost {0}, acc {1}\".format(cost, acc))\n",
    "\n",
    "h = ml.softmax_regression_model(test_X, W, b)\n",
    "cost = ml.crossentropy_cost(h, y_test)\n",
    "acc = ml.categorical_accuracy(h, y_test)\n",
    "print(\"test cost {0}, acc {1}\".format(cost, acc))"
   ]
  },
  {
   "cell_type": "code",
   "execution_count": null,
   "metadata": {
    "collapsed": true
   },
   "outputs": [],
   "source": []
  }
 ],
 "metadata": {
  "anaconda-cloud": {},
  "kernelspec": {
   "display_name": "Python [default]",
   "language": "python",
   "name": "python3"
  },
  "language_info": {
   "codemirror_mode": {
    "name": "ipython",
    "version": 3
   },
   "file_extension": ".py",
   "mimetype": "text/x-python",
   "name": "python",
   "nbconvert_exporter": "python",
   "pygments_lexer": "ipython3",
   "version": "3.5.2"
  }
 },
 "nbformat": 4,
 "nbformat_minor": 2
}
