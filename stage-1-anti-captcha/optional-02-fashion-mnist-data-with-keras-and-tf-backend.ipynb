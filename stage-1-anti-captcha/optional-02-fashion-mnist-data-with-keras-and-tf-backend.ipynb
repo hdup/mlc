{
 "cells": [
  {
   "cell_type": "markdown",
   "metadata": {},
   "source": [
    "### Fashion MNIST experiment "
   ]
  },
  {
   "cell_type": "code",
   "execution_count": 1,
   "metadata": {},
   "outputs": [
    {
     "name": "stderr",
     "output_type": "stream",
     "text": [
      "Using TensorFlow backend.\n"
     ]
    }
   ],
   "source": [
    "import numpy as np\n",
    "import models as ml\n",
    "import matplotlib.pyplot as plt\n",
    "\n",
    "from keras.layers import Dense, Activation, Flatten\n",
    "from keras.models import Sequential\n",
    "from keras.layers import BatchNormalization, Dropout\n",
    "from utils import mnist_reader\n",
    "\n",
    "%matplotlib inline"
   ]
  },
  {
   "cell_type": "markdown",
   "metadata": {},
   "source": [
    "#### 1), load data "
   ]
  },
  {
   "cell_type": "code",
   "execution_count": 2,
   "metadata": {
    "collapsed": true
   },
   "outputs": [],
   "source": [
    "X_train, y_train = mnist_reader.load_mnist('./data/data/fashion', kind='train')\n",
    "X_test, y_test = mnist_reader.load_mnist('./data/data/fashion', kind='t10k')"
   ]
  },
  {
   "cell_type": "code",
   "execution_count": 3,
   "metadata": {
    "collapsed": true
   },
   "outputs": [],
   "source": [
    "X_train = (X_train.reshape((X_train.shape[0], 28, 28, 1)) / 255.0).astype(np.float32)\n",
    "X_test = (X_test.reshape((X_test.shape[0], 28, 28, 1)) / 255.0).astype(np.float32)"
   ]
  },
  {
   "cell_type": "code",
   "execution_count": 4,
   "metadata": {
    "collapsed": true
   },
   "outputs": [],
   "source": [
    "def id_to_onehot(y, size):\n",
    "    onehot = np.zeros(shape=(y.shape[0], size))\n",
    "    for i in range(0, y.shape[0]):\n",
    "        onehot[i][y[i]] = 1\n",
    "    return onehot\n",
    "\n",
    "def show_img(img, zoom=4, dpi=80):\n",
    "    w = img.shape[0]\n",
    "    h = img.shape[1]\n",
    "    plt.figure(figsize=(w*zoom/dpi, h*zoom/dpi), dpi=dpi)\n",
    "    plt.axis('off')\n",
    "    plt.imshow(img, cmap=plt.get_cmap('gray'))\n",
    "    plt.show()\n",
    "    return"
   ]
  },
  {
   "cell_type": "code",
   "execution_count": 5,
   "metadata": {},
   "outputs": [
    {
     "data": {
      "image/png": "[encoded data removed]",
      "text/plain": [
       "<matplotlib.figure.Figure at 0x12327d2b0>"
      ]
     },
     "metadata": {},
     "output_type": "display_data"
    }
   ],
   "source": [
    "show_img(X_train[234].reshape(28, 28))"
   ]
  },
  {
   "cell_type": "code",
   "execution_count": 6,
   "metadata": {
    "collapsed": true
   },
   "outputs": [],
   "source": [
    "y_train = id_to_onehot(y_train, 10)\n",
    "y_test = id_to_onehot(y_test, 10)"
   ]
  },
  {
   "cell_type": "markdown",
   "metadata": {},
   "source": [
    "#### 2), build model "
   ]
  },
  {
   "cell_type": "code",
   "execution_count": null,
   "metadata": {
    "collapsed": true
   },
   "outputs": [],
   "source": [
    "m = Sequential()\n",
    "\n",
    "m.add(Flatten(input_shape=(28, 28, 1)))\n",
    "m.add(Dense(800))\n",
    "m.add(BatchNormalization())\n",
    "m.add(Activation('relu'))\n",
    "m.add(Dense(10))\n",
    "m.add(BatchNormalization())\n",
    "m.add(Activation('softmax'))\n",
    "\n",
    "m.summary()"
   ]
  },
  {
   "cell_type": "code",
   "execution_count": null,
   "metadata": {
    "collapsed": true
   },
   "outputs": [],
   "source": [
    "m.compile(optimizer='Adam',\n",
    "          loss='categorical_crossentropy',\n",
    "          metrics=['accuracy'])\n",
    "\n",
    "m.fit(X_train,\n",
    "      y_train,\n",
    "      validation_data=(X_test, y_test),\n",
    "      batch_size=32,\n",
    "      epochs=10)"
   ]
  },
  {
   "cell_type": "code",
   "execution_count": null,
   "metadata": {
    "collapsed": true
   },
   "outputs": [],
   "source": [
    "evaluation_test = m.evaluate(X_train, y_train, verbose=0)"
   ]
  },
  {
   "cell_type": "code",
   "execution_count": null,
   "metadata": {
    "collapsed": true
   },
   "outputs": [],
   "source": [
    "print('loss: {0}, accuracy: {1}'.format(evaluation_test[0], evaluation_test[1]))"
   ]
  },
  {
   "cell_type": "markdown",
   "metadata": {
    "collapsed": true
   },
   "source": [
    "#### 3), have fun with our softmax model implemented with numpy"
   ]
  },
  {
   "cell_type": "code",
   "execution_count": 13,
   "metadata": {
    "collapsed": true
   },
   "outputs": [],
   "source": [
    "feature_count = 28 * 28\n",
    "sample_count = X_train.shape[0]\n",
    "\n",
    "train_X = X_train.reshape((sample_count, feature_count))\n",
    "test_X = X_test.reshape((X_test.shape[0], feature_count))"
   ]
  },
  {
   "cell_type": "code",
   "execution_count": null,
   "metadata": {
    "collapsed": true
   },
   "outputs": [],
   "source": [
    "epochs = 100\n",
    "batch_size=20\n",
    "step = 10\n",
    "\n",
    "W, b = ml.create_parameters(feature_count, 10)"
   ]
  },
  {
   "cell_type": "code",
   "execution_count": 15,
   "metadata": {},
   "outputs": [
    {
     "name": "stdout",
     "output_type": "stream",
     "text": [
      "epoch 10, cost 0.04556170586125792, acc 0.8483166666666667\n",
      "epoch 20, cost 0.04470057177344409, acc 0.85065\n",
      "epoch 30, cost 0.04395029435491077, acc 0.85255\n",
      "epoch 40, cost 0.043291170964379504, acc 0.8542833333333333\n",
      "epoch 50, cost 0.04270783175925683, acc 0.8557\n",
      "epoch 60, cost 0.042188147494298334, acc 0.8573\n",
      "epoch 70, cost 0.04172243826525211, acc 0.8583833333333334\n",
      "epoch 80, cost 0.04130288877340626, acc 0.85955\n",
      "epoch 90, cost 0.04092311584943524, acc 0.8601666666666666\n",
      "epoch 100, cost 0.04057784971178409, acc 0.8610833333333333\n",
      "training finished.\n",
      "final cost 0.04057784971178409, acc 0.8610833333333333\n",
      "test cost 0.04800825354473299, acc 0.8443\n"
     ]
    }
   ],
   "source": [
    "for epoch in range(0, epochs):\n",
    "\n",
    "    batch_start = 0    \n",
    "    while(batch_start + batch_size < sample_count):\n",
    "        batch_X = train_X[batch_start:batch_start+batch_size,:]\n",
    "        batch_y = y_train[batch_start:batch_start+batch_size,:] \n",
    "        h = ml.softmax_regression_model(batch_X, W, b)\n",
    "        dW, db = ml.crossentropy_cost_dev(batch_X, batch_y, h)\n",
    "        W, b = ml.gd_update(W, b, dW, db, lr=0.01)\n",
    "        batch_start += batch_size\n",
    "\n",
    "    if (epoch + 1) % step == 0:\n",
    "        h = ml.softmax_regression_model(train_X, W, b)\n",
    "        cost = ml.crossentropy_cost(h, y_train)\n",
    "        acc = ml.categorical_accuracy(h, y_train)\n",
    "        print(\"epoch {0}, cost {1}, acc {2}\".format(epoch + 1, cost, acc))\n",
    "\n",
    "print(\"training finished.\")        \n",
    "        \n",
    "h = ml.softmax_regression_model(train_X, W, b)\n",
    "cost = ml.crossentropy_cost(h, y_train)\n",
    "acc = ml.categorical_accuracy(h, y_train)\n",
    "print(\"final cost {0}, acc {1}\".format(cost, acc))\n",
    "\n",
    "h = ml.softmax_regression_model(test_X, W, b)\n",
    "cost = ml.crossentropy_cost(h, y_test)\n",
    "acc = ml.categorical_accuracy(h, y_test)\n",
    "print(\"test cost {0}, acc {1}\".format(cost, acc))"
   ]
  },
  {
   "cell_type": "code",
   "execution_count": null,
   "metadata": {
    "collapsed": true
   },
   "outputs": [],
   "source": []
  }
 ],
 "metadata": {
  "kernelspec": {
   "display_name": "Python 3",
   "language": "python",
   "name": "python3"
  },
  "language_info": {
   "codemirror_mode": {
    "name": "ipython",
    "version": 3
   },
   "file_extension": ".py",
   "mimetype": "text/x-python",
   "name": "python",
   "nbconvert_exporter": "python",
   "pygments_lexer": "ipython3",
   "version": "3.6.1"
  }
 },
 "nbformat": 4,
 "nbformat_minor": 2
}
